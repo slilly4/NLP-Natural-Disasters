{
 "cells": [
  {
   "cell_type": "markdown",
   "metadata": {},
   "source": [
    "# NLP Disaster Tweets Kaggle Mini-Project\n",
    "#### Introduction to Deep Learning, University of Colorado, Boulder\n",
    "\n",
    "The goal of this Kaggle mini-project is to classify whether a given tweet refers to a natural disaster or not.  Words can be use in a variety of ways.  While in some cases it may be optimal to attempt to classify an article or text based on the presence and frequency of words, in many other situations it is necessary to recognize the manner in which a word is being employed.  The sequence of words is important.  As tweets have historically been limited to only 140 characters, an effective machine learning model will need to derive as much meaning as possible from those characters.  Therefore, for this project I will test a number of Recurrent Neural Network (RNN) architectures to solve the task.  In particular I will employ SimpleRNN, Long Short-Term Memory (LSTM), and Gated Recurrent Units (GRUs), as RNNs learn based on the ordering of elements (words) in a given series.\n",
    "\n",
    "The data and guidelines for this task are available on Kaggle, at the following link location:\n",
    "> https://www.kaggle.com/c/nlp-getting-started/overview\n",
    "\n",
    "The project is also published on GitHub here: \n",
    "> https://github.com/slilly4/NLP-Natural-Disasters"
   ]
  },
  {
   "cell_type": "code",
   "execution_count": 2,
   "metadata": {
    "execution": {
     "iopub.execute_input": "2023-08-05T16:24:06.584664Z",
     "iopub.status.busy": "2023-08-05T16:24:06.583962Z",
     "iopub.status.idle": "2023-08-05T16:24:18.846061Z",
     "shell.execute_reply": "2023-08-05T16:24:18.844882Z",
     "shell.execute_reply.started": "2023-08-05T16:24:06.584631Z"
    }
   },
   "outputs": [
    {
     "name": "stdout",
     "output_type": "stream",
     "text": [
      "Requirement already satisfied: scikeras in /opt/conda/lib/python3.10/site-packages (0.11.0)\n",
      "Requirement already satisfied: packaging>=0.21 in /opt/conda/lib/python3.10/site-packages (from scikeras) (21.3)\n",
      "Requirement already satisfied: scikit-learn>=1.0.0 in /opt/conda/lib/python3.10/site-packages (from scikeras) (1.2.2)\n",
      "Requirement already satisfied: pyparsing!=3.0.5,>=2.0.2 in /opt/conda/lib/python3.10/site-packages (from packaging>=0.21->scikeras) (3.0.9)\n",
      "Requirement already satisfied: numpy>=1.17.3 in /opt/conda/lib/python3.10/site-packages (from scikit-learn>=1.0.0->scikeras) (1.23.5)\n",
      "Requirement already satisfied: scipy>=1.3.2 in /opt/conda/lib/python3.10/site-packages (from scikit-learn>=1.0.0->scikeras) (1.11.1)\n",
      "Requirement already satisfied: joblib>=1.1.1 in /opt/conda/lib/python3.10/site-packages (from scikit-learn>=1.0.0->scikeras) (1.2.0)\n",
      "Requirement already satisfied: threadpoolctl>=2.0.0 in /opt/conda/lib/python3.10/site-packages (from scikit-learn>=1.0.0->scikeras) (3.1.0)\n"
     ]
    }
   ],
   "source": [
    "!pip install scikeras   \n",
    "\n",
    "import os\n",
    "import numpy as np \n",
    "import pandas as pd \n",
    "import tensorflow as tf\n",
    "import matplotlib.pyplot as plt\n",
    "import keras\n",
    "from keras import models\n",
    "from keras import layers\n",
    "from keras.models import Sequential, Model\n",
    "from keras.layers import Dense, Activation, GlobalAveragePooling2D, Flatten, Dropout, BatchNormalization, Conv2D, MaxPooling2D, AveragePooling2D, add, Input, concatenate, LSTM, Embedding, SpatialDropout1D, Bidirectional, SimpleRNN, GRU\n",
    "from keras import regularizers, optimizers\n",
    "import time\n",
    "from sklearn.feature_extraction.text import CountVectorizer, TfidfVectorizer\n",
    "from sklearn.model_selection import train_test_split\n",
    "import re\n",
    "from tensorflow.keras.preprocessing.text import Tokenizer\n",
    "from tensorflow.keras.preprocessing.sequence import pad_sequences\n",
    "from nltk.corpus import stopwords\n",
    "from sklearn.model_selection import GridSearchCV\n",
    "from scikeras.wrappers import KerasClassifier\n",
    "from keras import backend as K\n"
   ]
  },
  {
   "cell_type": "markdown",
   "metadata": {},
   "source": [
    "# Exporatory Data Analysis\n",
    "\n",
    "To begin this project, I will first evaluate the project files that are available for the Kaggle competition"
   ]
  },
  {
   "cell_type": "code",
   "execution_count": 3,
   "metadata": {
    "_cell_guid": "b1076dfc-b9ad-4769-8c92-a6c4dae69d19",
    "_uuid": "8f2839f25d086af736a60e9eeb907d3b93b6e0e5",
    "execution": {
     "iopub.execute_input": "2023-08-02T23:31:47.999157Z",
     "iopub.status.busy": "2023-08-02T23:31:47.998062Z",
     "iopub.status.idle": "2023-08-02T23:31:48.008488Z",
     "shell.execute_reply": "2023-08-02T23:31:48.007545Z",
     "shell.execute_reply.started": "2023-08-02T23:31:47.999125Z"
    }
   },
   "outputs": [
    {
     "name": "stdout",
     "output_type": "stream",
     "text": [
      "/kaggle/input/nlp-getting-started/sample_submission.csv\n",
      "/kaggle/input/nlp-getting-started/train.csv\n",
      "/kaggle/input/nlp-getting-started/test.csv\n"
     ]
    }
   ],
   "source": [
    "import os\n",
    "for dirname, _, filenames in os.walk('/kaggle/input'):\n",
    "    for filename in filenames:\n",
    "        print(os.path.join(dirname, filename))"
   ]
  },
  {
   "cell_type": "markdown",
   "metadata": {},
   "source": [
    "It appears that we have been supplied with a csv file of test data, a csv file of training data, and a sample submission file.  I will load the training, test, and submission files into dataframe to evaluate them further."
   ]
  },
  {
   "cell_type": "code",
   "execution_count": 88,
   "metadata": {
    "execution": {
     "iopub.execute_input": "2023-08-05T18:27:21.828886Z",
     "iopub.status.busy": "2023-08-05T18:27:21.828477Z",
     "iopub.status.idle": "2023-08-05T18:27:21.879235Z",
     "shell.execute_reply": "2023-08-05T18:27:21.878196Z",
     "shell.execute_reply.started": "2023-08-05T18:27:21.828853Z"
    }
   },
   "outputs": [],
   "source": [
    "train_df = pd.read_csv(\"/kaggle/input/nlp-getting-started/train.csv\",dtype=str)\n",
    "test_df = pd.read_csv(\"/kaggle/input/nlp-getting-started/test.csv\",dtype=str)\n",
    "submission_df = pd.read_csv(\"/kaggle/input/nlp-getting-started/sample_submission.csv\",dtype=str)\n"
   ]
  },
  {
   "cell_type": "markdown",
   "metadata": {},
   "source": [
    "As we can see below, the training data includes an ID, keywords, locations, the tweet text, and the target (1 denoting that it does refer to a natural disaster, while 0 denotes that it does not).  We have 7,613 tweets on which we can train our model.  This is not a lot of data, so it may be difficult to prevent our models from overfitting."
   ]
  },
  {
   "cell_type": "code",
   "execution_count": 5,
   "metadata": {
    "execution": {
     "iopub.execute_input": "2023-08-02T23:31:48.100388Z",
     "iopub.status.busy": "2023-08-02T23:31:48.099787Z",
     "iopub.status.idle": "2023-08-02T23:31:48.123962Z",
     "shell.execute_reply": "2023-08-02T23:31:48.123003Z",
     "shell.execute_reply.started": "2023-08-02T23:31:48.100355Z"
    }
   },
   "outputs": [
    {
     "data": {
      "text/html": [
       "<div>\n",
       "<style scoped>\n",
       "    .dataframe tbody tr th:only-of-type {\n",
       "        vertical-align: middle;\n",
       "    }\n",
       "\n",
       "    .dataframe tbody tr th {\n",
       "        vertical-align: top;\n",
       "    }\n",
       "\n",
       "    .dataframe thead th {\n",
       "        text-align: right;\n",
       "    }\n",
       "</style>\n",
       "<table border=\"1\" class=\"dataframe\">\n",
       "  <thead>\n",
       "    <tr style=\"text-align: right;\">\n",
       "      <th></th>\n",
       "      <th>id</th>\n",
       "      <th>keyword</th>\n",
       "      <th>location</th>\n",
       "      <th>text</th>\n",
       "      <th>target</th>\n",
       "    </tr>\n",
       "  </thead>\n",
       "  <tbody>\n",
       "    <tr>\n",
       "      <th>0</th>\n",
       "      <td>1</td>\n",
       "      <td>NaN</td>\n",
       "      <td>NaN</td>\n",
       "      <td>Our Deeds are the Reason of this #earthquake M...</td>\n",
       "      <td>1</td>\n",
       "    </tr>\n",
       "    <tr>\n",
       "      <th>1</th>\n",
       "      <td>4</td>\n",
       "      <td>NaN</td>\n",
       "      <td>NaN</td>\n",
       "      <td>Forest fire near La Ronge Sask. Canada</td>\n",
       "      <td>1</td>\n",
       "    </tr>\n",
       "    <tr>\n",
       "      <th>2</th>\n",
       "      <td>5</td>\n",
       "      <td>NaN</td>\n",
       "      <td>NaN</td>\n",
       "      <td>All residents asked to 'shelter in place' are ...</td>\n",
       "      <td>1</td>\n",
       "    </tr>\n",
       "    <tr>\n",
       "      <th>3</th>\n",
       "      <td>6</td>\n",
       "      <td>NaN</td>\n",
       "      <td>NaN</td>\n",
       "      <td>13,000 people receive #wildfires evacuation or...</td>\n",
       "      <td>1</td>\n",
       "    </tr>\n",
       "    <tr>\n",
       "      <th>4</th>\n",
       "      <td>7</td>\n",
       "      <td>NaN</td>\n",
       "      <td>NaN</td>\n",
       "      <td>Just got sent this photo from Ruby #Alaska as ...</td>\n",
       "      <td>1</td>\n",
       "    </tr>\n",
       "    <tr>\n",
       "      <th>...</th>\n",
       "      <td>...</td>\n",
       "      <td>...</td>\n",
       "      <td>...</td>\n",
       "      <td>...</td>\n",
       "      <td>...</td>\n",
       "    </tr>\n",
       "    <tr>\n",
       "      <th>7608</th>\n",
       "      <td>10869</td>\n",
       "      <td>NaN</td>\n",
       "      <td>NaN</td>\n",
       "      <td>Two giant cranes holding a bridge collapse int...</td>\n",
       "      <td>1</td>\n",
       "    </tr>\n",
       "    <tr>\n",
       "      <th>7609</th>\n",
       "      <td>10870</td>\n",
       "      <td>NaN</td>\n",
       "      <td>NaN</td>\n",
       "      <td>@aria_ahrary @TheTawniest The out of control w...</td>\n",
       "      <td>1</td>\n",
       "    </tr>\n",
       "    <tr>\n",
       "      <th>7610</th>\n",
       "      <td>10871</td>\n",
       "      <td>NaN</td>\n",
       "      <td>NaN</td>\n",
       "      <td>M1.94 [01:04 UTC]?5km S of Volcano Hawaii. htt...</td>\n",
       "      <td>1</td>\n",
       "    </tr>\n",
       "    <tr>\n",
       "      <th>7611</th>\n",
       "      <td>10872</td>\n",
       "      <td>NaN</td>\n",
       "      <td>NaN</td>\n",
       "      <td>Police investigating after an e-bike collided ...</td>\n",
       "      <td>1</td>\n",
       "    </tr>\n",
       "    <tr>\n",
       "      <th>7612</th>\n",
       "      <td>10873</td>\n",
       "      <td>NaN</td>\n",
       "      <td>NaN</td>\n",
       "      <td>The Latest: More Homes Razed by Northern Calif...</td>\n",
       "      <td>1</td>\n",
       "    </tr>\n",
       "  </tbody>\n",
       "</table>\n",
       "<p>7613 rows × 5 columns</p>\n",
       "</div>"
      ],
      "text/plain": [
       "         id keyword location  \\\n",
       "0         1     NaN      NaN   \n",
       "1         4     NaN      NaN   \n",
       "2         5     NaN      NaN   \n",
       "3         6     NaN      NaN   \n",
       "4         7     NaN      NaN   \n",
       "...     ...     ...      ...   \n",
       "7608  10869     NaN      NaN   \n",
       "7609  10870     NaN      NaN   \n",
       "7610  10871     NaN      NaN   \n",
       "7611  10872     NaN      NaN   \n",
       "7612  10873     NaN      NaN   \n",
       "\n",
       "                                                   text target  \n",
       "0     Our Deeds are the Reason of this #earthquake M...      1  \n",
       "1                Forest fire near La Ronge Sask. Canada      1  \n",
       "2     All residents asked to 'shelter in place' are ...      1  \n",
       "3     13,000 people receive #wildfires evacuation or...      1  \n",
       "4     Just got sent this photo from Ruby #Alaska as ...      1  \n",
       "...                                                 ...    ...  \n",
       "7608  Two giant cranes holding a bridge collapse int...      1  \n",
       "7609  @aria_ahrary @TheTawniest The out of control w...      1  \n",
       "7610  M1.94 [01:04 UTC]?5km S of Volcano Hawaii. htt...      1  \n",
       "7611  Police investigating after an e-bike collided ...      1  \n",
       "7612  The Latest: More Homes Razed by Northern Calif...      1  \n",
       "\n",
       "[7613 rows x 5 columns]"
      ]
     },
     "execution_count": 5,
     "metadata": {},
     "output_type": "execute_result"
    }
   ],
   "source": [
    "train_df"
   ]
  },
  {
   "cell_type": "markdown",
   "metadata": {},
   "source": [
    "It is clear from looking at the dataframe that there are many missing values.  In fact there are over 2,500 missing locations.  I will need to drop this feature from the dataframe.  Also there are a fair number of keywords that are missing.  Fortunately, there are tweets for each object in the dataset.  I will likely choose to retain just the tweet information and drop everything else.  The keyword will be present in the tweet itself."
   ]
  },
  {
   "cell_type": "code",
   "execution_count": 123,
   "metadata": {
    "execution": {
     "iopub.execute_input": "2023-08-05T19:13:44.112118Z",
     "iopub.status.busy": "2023-08-05T19:13:44.111714Z",
     "iopub.status.idle": "2023-08-05T19:13:44.143486Z",
     "shell.execute_reply": "2023-08-05T19:13:44.142505Z",
     "shell.execute_reply.started": "2023-08-05T19:13:44.112087Z"
    }
   },
   "outputs": [
    {
     "name": "stdout",
     "output_type": "stream",
     "text": [
      "<class 'pandas.core.frame.DataFrame'>\n",
      "RangeIndex: 7613 entries, 0 to 7612\n",
      "Data columns (total 5 columns):\n",
      " #   Column    Non-Null Count  Dtype \n",
      "---  ------    --------------  ----- \n",
      " 0   id        7613 non-null   object\n",
      " 1   keyword   7552 non-null   object\n",
      " 2   location  5080 non-null   object\n",
      " 3   text      7613 non-null   object\n",
      " 4   target    7613 non-null   object\n",
      "dtypes: object(5)\n",
      "memory usage: 297.5+ KB\n"
     ]
    }
   ],
   "source": [
    "train_df.info()"
   ]
  },
  {
   "cell_type": "code",
   "execution_count": 7,
   "metadata": {
    "execution": {
     "iopub.execute_input": "2023-08-02T23:31:48.135910Z",
     "iopub.status.busy": "2023-08-02T23:31:48.134944Z",
     "iopub.status.idle": "2023-08-02T23:31:48.158626Z",
     "shell.execute_reply": "2023-08-02T23:31:48.157528Z",
     "shell.execute_reply.started": "2023-08-02T23:31:48.135874Z"
    }
   },
   "outputs": [
    {
     "data": {
      "text/plain": [
       "id             0\n",
       "keyword       61\n",
       "location    2533\n",
       "text           0\n",
       "target         0\n",
       "dtype: int64"
      ]
     },
     "execution_count": 7,
     "metadata": {},
     "output_type": "execute_result"
    }
   ],
   "source": [
    "train_df.isna().sum()"
   ]
  },
  {
   "cell_type": "code",
   "execution_count": 8,
   "metadata": {
    "execution": {
     "iopub.execute_input": "2023-08-02T23:31:48.160892Z",
     "iopub.status.busy": "2023-08-02T23:31:48.160469Z",
     "iopub.status.idle": "2023-08-02T23:31:48.186037Z",
     "shell.execute_reply": "2023-08-02T23:31:48.185176Z",
     "shell.execute_reply.started": "2023-08-02T23:31:48.160861Z"
    }
   },
   "outputs": [
    {
     "name": "stderr",
     "output_type": "stream",
     "text": [
      "/tmp/ipykernel_28/1759288547.py:1: FutureWarning: In a future version of pandas all arguments of Series.sort_values will be keyword-only.\n",
      "  train_df.groupby(\"location\")[\"location\"].count().sort_values(0, ascending=False)\n"
     ]
    },
    {
     "data": {
      "text/plain": [
       "location\n",
       "USA               104\n",
       "New York           71\n",
       "United States      50\n",
       "London             45\n",
       "Canada             29\n",
       "                 ... \n",
       "Hueco Mundo         1\n",
       "Hughes, AR          1\n",
       "Huntington, WV      1\n",
       "Huntley, IL         1\n",
       "åø\\_(?)_/åø         1\n",
       "Name: location, Length: 3341, dtype: int64"
      ]
     },
     "execution_count": 8,
     "metadata": {},
     "output_type": "execute_result"
    }
   ],
   "source": [
    "train_df.groupby(\"location\")[\"location\"].count().sort_values(0, ascending=False)"
   ]
  },
  {
   "cell_type": "code",
   "execution_count": 9,
   "metadata": {
    "execution": {
     "iopub.execute_input": "2023-08-02T23:31:48.189385Z",
     "iopub.status.busy": "2023-08-02T23:31:48.189127Z",
     "iopub.status.idle": "2023-08-02T23:31:48.204227Z",
     "shell.execute_reply": "2023-08-02T23:31:48.203113Z",
     "shell.execute_reply.started": "2023-08-02T23:31:48.189363Z"
    }
   },
   "outputs": [
    {
     "name": "stderr",
     "output_type": "stream",
     "text": [
      "/tmp/ipykernel_28/3937054706.py:1: FutureWarning: In a future version of pandas all arguments of Series.sort_values will be keyword-only.\n",
      "  train_df.groupby(\"keyword\")[\"keyword\"].count().sort_values(0, ascending=False)\n"
     ]
    },
    {
     "data": {
      "text/plain": [
       "keyword\n",
       "fatalities               45\n",
       "deluge                   42\n",
       "armageddon               42\n",
       "sinking                  41\n",
       "damage                   41\n",
       "                         ..\n",
       "forest%20fire            19\n",
       "epicentre                12\n",
       "threat                   11\n",
       "inundation               10\n",
       "radiation%20emergency     9\n",
       "Name: keyword, Length: 221, dtype: int64"
      ]
     },
     "execution_count": 9,
     "metadata": {},
     "output_type": "execute_result"
    }
   ],
   "source": [
    "train_df.groupby(\"keyword\")[\"keyword\"].count().sort_values(0, ascending=False)"
   ]
  },
  {
   "cell_type": "code",
   "execution_count": 12,
   "metadata": {
    "execution": {
     "iopub.execute_input": "2023-08-02T23:31:56.372047Z",
     "iopub.status.busy": "2023-08-02T23:31:56.371667Z",
     "iopub.status.idle": "2023-08-02T23:31:56.378644Z",
     "shell.execute_reply": "2023-08-02T23:31:56.377706Z",
     "shell.execute_reply.started": "2023-08-02T23:31:56.372013Z"
    }
   },
   "outputs": [
    {
     "data": {
      "text/plain": [
       "'Our Deeds are the Reason of this #earthquake May ALLAH Forgive us all'"
      ]
     },
     "execution_count": 12,
     "metadata": {},
     "output_type": "execute_result"
    }
   ],
   "source": [
    "train_df[\"text\"][0]"
   ]
  },
  {
   "cell_type": "markdown",
   "metadata": {},
   "source": [
    "For the most part, the true natural disaster tweets appear more serious; however, there are some that are comical.  "
   ]
  },
  {
   "cell_type": "code",
   "execution_count": 11,
   "metadata": {
    "execution": {
     "iopub.execute_input": "2023-08-02T23:31:48.218543Z",
     "iopub.status.busy": "2023-08-02T23:31:48.217471Z",
     "iopub.status.idle": "2023-08-02T23:31:48.236038Z",
     "shell.execute_reply": "2023-08-02T23:31:48.235041Z",
     "shell.execute_reply.started": "2023-08-02T23:31:48.218514Z"
    }
   },
   "outputs": [
    {
     "data": {
      "text/html": [
       "<div>\n",
       "<style scoped>\n",
       "    .dataframe tbody tr th:only-of-type {\n",
       "        vertical-align: middle;\n",
       "    }\n",
       "\n",
       "    .dataframe tbody tr th {\n",
       "        vertical-align: top;\n",
       "    }\n",
       "\n",
       "    .dataframe thead th {\n",
       "        text-align: right;\n",
       "    }\n",
       "</style>\n",
       "<table border=\"1\" class=\"dataframe\">\n",
       "  <thead>\n",
       "    <tr style=\"text-align: right;\">\n",
       "      <th></th>\n",
       "      <th>id</th>\n",
       "      <th>keyword</th>\n",
       "      <th>location</th>\n",
       "      <th>text</th>\n",
       "      <th>target</th>\n",
       "    </tr>\n",
       "  </thead>\n",
       "  <tbody>\n",
       "    <tr>\n",
       "      <th>0</th>\n",
       "      <td>1</td>\n",
       "      <td>NaN</td>\n",
       "      <td>NaN</td>\n",
       "      <td>Our Deeds are the Reason of this #earthquake May ALLAH Forgive us all</td>\n",
       "      <td>1</td>\n",
       "    </tr>\n",
       "    <tr>\n",
       "      <th>1</th>\n",
       "      <td>4</td>\n",
       "      <td>NaN</td>\n",
       "      <td>NaN</td>\n",
       "      <td>Forest fire near La Ronge Sask. Canada</td>\n",
       "      <td>1</td>\n",
       "    </tr>\n",
       "    <tr>\n",
       "      <th>2</th>\n",
       "      <td>5</td>\n",
       "      <td>NaN</td>\n",
       "      <td>NaN</td>\n",
       "      <td>All residents asked to 'shelter in place' are being notified by officers. No other evacuation or shelter in place orders are expected</td>\n",
       "      <td>1</td>\n",
       "    </tr>\n",
       "    <tr>\n",
       "      <th>3</th>\n",
       "      <td>6</td>\n",
       "      <td>NaN</td>\n",
       "      <td>NaN</td>\n",
       "      <td>13,000 people receive #wildfires evacuation orders in California</td>\n",
       "      <td>1</td>\n",
       "    </tr>\n",
       "    <tr>\n",
       "      <th>4</th>\n",
       "      <td>7</td>\n",
       "      <td>NaN</td>\n",
       "      <td>NaN</td>\n",
       "      <td>Just got sent this photo from Ruby #Alaska as smoke from #wildfires pours into a school</td>\n",
       "      <td>1</td>\n",
       "    </tr>\n",
       "    <tr>\n",
       "      <th>5</th>\n",
       "      <td>8</td>\n",
       "      <td>NaN</td>\n",
       "      <td>NaN</td>\n",
       "      <td>#RockyFire Update =&gt; California Hwy. 20 closed in both directions due to Lake County fire - #CAfire #wildfires</td>\n",
       "      <td>1</td>\n",
       "    </tr>\n",
       "    <tr>\n",
       "      <th>6</th>\n",
       "      <td>10</td>\n",
       "      <td>NaN</td>\n",
       "      <td>NaN</td>\n",
       "      <td>#flood #disaster Heavy rain causes flash flooding of streets in Manitou, Colorado Springs areas</td>\n",
       "      <td>1</td>\n",
       "    </tr>\n",
       "    <tr>\n",
       "      <th>7</th>\n",
       "      <td>13</td>\n",
       "      <td>NaN</td>\n",
       "      <td>NaN</td>\n",
       "      <td>I'm on top of the hill and I can see a fire in the woods...</td>\n",
       "      <td>1</td>\n",
       "    </tr>\n",
       "    <tr>\n",
       "      <th>8</th>\n",
       "      <td>14</td>\n",
       "      <td>NaN</td>\n",
       "      <td>NaN</td>\n",
       "      <td>There's an emergency evacuation happening now in the building across the street</td>\n",
       "      <td>1</td>\n",
       "    </tr>\n",
       "    <tr>\n",
       "      <th>9</th>\n",
       "      <td>15</td>\n",
       "      <td>NaN</td>\n",
       "      <td>NaN</td>\n",
       "      <td>I'm afraid that the tornado is coming to our area...</td>\n",
       "      <td>1</td>\n",
       "    </tr>\n",
       "    <tr>\n",
       "      <th>10</th>\n",
       "      <td>16</td>\n",
       "      <td>NaN</td>\n",
       "      <td>NaN</td>\n",
       "      <td>Three people died from the heat wave so far</td>\n",
       "      <td>1</td>\n",
       "    </tr>\n",
       "    <tr>\n",
       "      <th>11</th>\n",
       "      <td>17</td>\n",
       "      <td>NaN</td>\n",
       "      <td>NaN</td>\n",
       "      <td>Haha South Tampa is getting flooded hah- WAIT A SECOND I LIVE IN SOUTH TAMPA WHAT AM I GONNA DO WHAT AM I GONNA DO FVCK #flooding</td>\n",
       "      <td>1</td>\n",
       "    </tr>\n",
       "    <tr>\n",
       "      <th>12</th>\n",
       "      <td>18</td>\n",
       "      <td>NaN</td>\n",
       "      <td>NaN</td>\n",
       "      <td>#raining #flooding #Florida #TampaBay #Tampa 18 or 19 days. I've lost count</td>\n",
       "      <td>1</td>\n",
       "    </tr>\n",
       "    <tr>\n",
       "      <th>13</th>\n",
       "      <td>19</td>\n",
       "      <td>NaN</td>\n",
       "      <td>NaN</td>\n",
       "      <td>#Flood in Bago Myanmar #We arrived Bago</td>\n",
       "      <td>1</td>\n",
       "    </tr>\n",
       "    <tr>\n",
       "      <th>14</th>\n",
       "      <td>20</td>\n",
       "      <td>NaN</td>\n",
       "      <td>NaN</td>\n",
       "      <td>Damage to school bus on 80 in multi car crash #BREAKING</td>\n",
       "      <td>1</td>\n",
       "    </tr>\n",
       "    <tr>\n",
       "      <th>31</th>\n",
       "      <td>48</td>\n",
       "      <td>ablaze</td>\n",
       "      <td>Birmingham</td>\n",
       "      <td>@bbcmtd Wholesale Markets ablaze http://t.co/lHYXEOHY6C</td>\n",
       "      <td>1</td>\n",
       "    </tr>\n",
       "    <tr>\n",
       "      <th>33</th>\n",
       "      <td>50</td>\n",
       "      <td>ablaze</td>\n",
       "      <td>AFRICA</td>\n",
       "      <td>#AFRICANBAZE: Breaking news:Nigeria flag set ablaze in Aba. http://t.co/2nndBGwyEi</td>\n",
       "      <td>1</td>\n",
       "    </tr>\n",
       "    <tr>\n",
       "      <th>37</th>\n",
       "      <td>55</td>\n",
       "      <td>ablaze</td>\n",
       "      <td>World Wide!!</td>\n",
       "      <td>INEC Office in Abia Set Ablaze - http://t.co/3ImaomknnA</td>\n",
       "      <td>1</td>\n",
       "    </tr>\n",
       "    <tr>\n",
       "      <th>38</th>\n",
       "      <td>56</td>\n",
       "      <td>ablaze</td>\n",
       "      <td>NaN</td>\n",
       "      <td>Barbados #Bridgetown JAMAICA ÛÒ Two cars set ablaze: SANTA CRUZ ÛÓ Head of the St Elizabeth Police Superintende...  http://t.co/wDUEaj8Q4J</td>\n",
       "      <td>1</td>\n",
       "    </tr>\n",
       "    <tr>\n",
       "      <th>46</th>\n",
       "      <td>66</td>\n",
       "      <td>ablaze</td>\n",
       "      <td>GREENSBORO,NORTH CAROLINA</td>\n",
       "      <td>How the West was burned: Thousands of wildfires ablaze in California alone http://t.co/vl5TBR3wbr</td>\n",
       "      <td>1</td>\n",
       "    </tr>\n",
       "  </tbody>\n",
       "</table>\n",
       "</div>"
      ],
      "text/plain": [
       "    id keyword                   location  \\\n",
       "0    1     NaN                        NaN   \n",
       "1    4     NaN                        NaN   \n",
       "2    5     NaN                        NaN   \n",
       "3    6     NaN                        NaN   \n",
       "4    7     NaN                        NaN   \n",
       "5    8     NaN                        NaN   \n",
       "6   10     NaN                        NaN   \n",
       "7   13     NaN                        NaN   \n",
       "8   14     NaN                        NaN   \n",
       "9   15     NaN                        NaN   \n",
       "10  16     NaN                        NaN   \n",
       "11  17     NaN                        NaN   \n",
       "12  18     NaN                        NaN   \n",
       "13  19     NaN                        NaN   \n",
       "14  20     NaN                        NaN   \n",
       "31  48  ablaze                 Birmingham   \n",
       "33  50  ablaze                     AFRICA   \n",
       "37  55  ablaze               World Wide!!   \n",
       "38  56  ablaze                        NaN   \n",
       "46  66  ablaze  GREENSBORO,NORTH CAROLINA   \n",
       "\n",
       "                                                                                                                                            text  \\\n",
       "0                                                                          Our Deeds are the Reason of this #earthquake May ALLAH Forgive us all   \n",
       "1                                                                                                         Forest fire near La Ronge Sask. Canada   \n",
       "2          All residents asked to 'shelter in place' are being notified by officers. No other evacuation or shelter in place orders are expected   \n",
       "3                                                                              13,000 people receive #wildfires evacuation orders in California    \n",
       "4                                                       Just got sent this photo from Ruby #Alaska as smoke from #wildfires pours into a school    \n",
       "5                                 #RockyFire Update => California Hwy. 20 closed in both directions due to Lake County fire - #CAfire #wildfires   \n",
       "6                                                #flood #disaster Heavy rain causes flash flooding of streets in Manitou, Colorado Springs areas   \n",
       "7                                                                                    I'm on top of the hill and I can see a fire in the woods...   \n",
       "8                                                                There's an emergency evacuation happening now in the building across the street   \n",
       "9                                                                                           I'm afraid that the tornado is coming to our area...   \n",
       "10                                                                                                   Three people died from the heat wave so far   \n",
       "11             Haha South Tampa is getting flooded hah- WAIT A SECOND I LIVE IN SOUTH TAMPA WHAT AM I GONNA DO WHAT AM I GONNA DO FVCK #flooding   \n",
       "12                                                                  #raining #flooding #Florida #TampaBay #Tampa 18 or 19 days. I've lost count    \n",
       "13                                                                                                       #Flood in Bago Myanmar #We arrived Bago   \n",
       "14                                                                                      Damage to school bus on 80 in multi car crash #BREAKING    \n",
       "31                                                                                       @bbcmtd Wholesale Markets ablaze http://t.co/lHYXEOHY6C   \n",
       "33                                                            #AFRICANBAZE: Breaking news:Nigeria flag set ablaze in Aba. http://t.co/2nndBGwyEi   \n",
       "37                                                                                       INEC Office in Abia Set Ablaze - http://t.co/3ImaomknnA   \n",
       "38  Barbados #Bridgetown JAMAICA ÛÒ Two cars set ablaze: SANTA CRUZ ÛÓ Head of the St Elizabeth Police Superintende...  http://t.co/wDUEaj8Q4J   \n",
       "46                                             How the West was burned: Thousands of wildfires ablaze in California alone http://t.co/vl5TBR3wbr   \n",
       "\n",
       "   target  \n",
       "0       1  \n",
       "1       1  \n",
       "2       1  \n",
       "3       1  \n",
       "4       1  \n",
       "5       1  \n",
       "6       1  \n",
       "7       1  \n",
       "8       1  \n",
       "9       1  \n",
       "10      1  \n",
       "11      1  \n",
       "12      1  \n",
       "13      1  \n",
       "14      1  \n",
       "31      1  \n",
       "33      1  \n",
       "37      1  \n",
       "38      1  \n",
       "46      1  "
      ]
     },
     "execution_count": 11,
     "metadata": {},
     "output_type": "execute_result"
    }
   ],
   "source": [
    "pd.options.display.max_colwidth = 200\n",
    "train_df[train_df[\"target\"]==\"1\"].head(20)"
   ]
  },
  {
   "cell_type": "code",
   "execution_count": 13,
   "metadata": {
    "execution": {
     "iopub.execute_input": "2023-08-02T00:03:06.118515Z",
     "iopub.status.busy": "2023-08-02T00:03:06.117379Z",
     "iopub.status.idle": "2023-08-02T00:03:06.145155Z",
     "shell.execute_reply": "2023-08-02T00:03:06.144246Z",
     "shell.execute_reply.started": "2023-08-02T00:03:06.118480Z"
    }
   },
   "outputs": [
    {
     "data": {
      "text/html": [
       "<div>\n",
       "<style scoped>\n",
       "    .dataframe tbody tr th:only-of-type {\n",
       "        vertical-align: middle;\n",
       "    }\n",
       "\n",
       "    .dataframe tbody tr th {\n",
       "        vertical-align: top;\n",
       "    }\n",
       "\n",
       "    .dataframe thead th {\n",
       "        text-align: right;\n",
       "    }\n",
       "</style>\n",
       "<table border=\"1\" class=\"dataframe\">\n",
       "  <thead>\n",
       "    <tr style=\"text-align: right;\">\n",
       "      <th></th>\n",
       "      <th>id</th>\n",
       "      <th>keyword</th>\n",
       "      <th>location</th>\n",
       "      <th>text</th>\n",
       "      <th>target</th>\n",
       "    </tr>\n",
       "  </thead>\n",
       "  <tbody>\n",
       "    <tr>\n",
       "      <th>15</th>\n",
       "      <td>23</td>\n",
       "      <td>NaN</td>\n",
       "      <td>NaN</td>\n",
       "      <td>What's up man?</td>\n",
       "      <td>0</td>\n",
       "    </tr>\n",
       "    <tr>\n",
       "      <th>16</th>\n",
       "      <td>24</td>\n",
       "      <td>NaN</td>\n",
       "      <td>NaN</td>\n",
       "      <td>I love fruits</td>\n",
       "      <td>0</td>\n",
       "    </tr>\n",
       "    <tr>\n",
       "      <th>17</th>\n",
       "      <td>25</td>\n",
       "      <td>NaN</td>\n",
       "      <td>NaN</td>\n",
       "      <td>Summer is lovely</td>\n",
       "      <td>0</td>\n",
       "    </tr>\n",
       "    <tr>\n",
       "      <th>18</th>\n",
       "      <td>26</td>\n",
       "      <td>NaN</td>\n",
       "      <td>NaN</td>\n",
       "      <td>My car is so fast</td>\n",
       "      <td>0</td>\n",
       "    </tr>\n",
       "    <tr>\n",
       "      <th>19</th>\n",
       "      <td>28</td>\n",
       "      <td>NaN</td>\n",
       "      <td>NaN</td>\n",
       "      <td>What a goooooooaaaaaal!!!!!!</td>\n",
       "      <td>0</td>\n",
       "    </tr>\n",
       "    <tr>\n",
       "      <th>20</th>\n",
       "      <td>31</td>\n",
       "      <td>NaN</td>\n",
       "      <td>NaN</td>\n",
       "      <td>this is ridiculous....</td>\n",
       "      <td>0</td>\n",
       "    </tr>\n",
       "    <tr>\n",
       "      <th>21</th>\n",
       "      <td>32</td>\n",
       "      <td>NaN</td>\n",
       "      <td>NaN</td>\n",
       "      <td>London is cool ;)</td>\n",
       "      <td>0</td>\n",
       "    </tr>\n",
       "    <tr>\n",
       "      <th>22</th>\n",
       "      <td>33</td>\n",
       "      <td>NaN</td>\n",
       "      <td>NaN</td>\n",
       "      <td>Love skiing</td>\n",
       "      <td>0</td>\n",
       "    </tr>\n",
       "    <tr>\n",
       "      <th>23</th>\n",
       "      <td>34</td>\n",
       "      <td>NaN</td>\n",
       "      <td>NaN</td>\n",
       "      <td>What a wonderful day!</td>\n",
       "      <td>0</td>\n",
       "    </tr>\n",
       "    <tr>\n",
       "      <th>24</th>\n",
       "      <td>36</td>\n",
       "      <td>NaN</td>\n",
       "      <td>NaN</td>\n",
       "      <td>LOOOOOOL</td>\n",
       "      <td>0</td>\n",
       "    </tr>\n",
       "    <tr>\n",
       "      <th>25</th>\n",
       "      <td>37</td>\n",
       "      <td>NaN</td>\n",
       "      <td>NaN</td>\n",
       "      <td>No way...I can't eat that shit</td>\n",
       "      <td>0</td>\n",
       "    </tr>\n",
       "    <tr>\n",
       "      <th>26</th>\n",
       "      <td>38</td>\n",
       "      <td>NaN</td>\n",
       "      <td>NaN</td>\n",
       "      <td>Was in NYC last week!</td>\n",
       "      <td>0</td>\n",
       "    </tr>\n",
       "    <tr>\n",
       "      <th>27</th>\n",
       "      <td>39</td>\n",
       "      <td>NaN</td>\n",
       "      <td>NaN</td>\n",
       "      <td>Love my girlfriend</td>\n",
       "      <td>0</td>\n",
       "    </tr>\n",
       "    <tr>\n",
       "      <th>28</th>\n",
       "      <td>40</td>\n",
       "      <td>NaN</td>\n",
       "      <td>NaN</td>\n",
       "      <td>Cooool :)</td>\n",
       "      <td>0</td>\n",
       "    </tr>\n",
       "    <tr>\n",
       "      <th>29</th>\n",
       "      <td>41</td>\n",
       "      <td>NaN</td>\n",
       "      <td>NaN</td>\n",
       "      <td>Do you like pasta?</td>\n",
       "      <td>0</td>\n",
       "    </tr>\n",
       "    <tr>\n",
       "      <th>30</th>\n",
       "      <td>44</td>\n",
       "      <td>NaN</td>\n",
       "      <td>NaN</td>\n",
       "      <td>The end!</td>\n",
       "      <td>0</td>\n",
       "    </tr>\n",
       "    <tr>\n",
       "      <th>32</th>\n",
       "      <td>49</td>\n",
       "      <td>ablaze</td>\n",
       "      <td>Est. September 2012 - Bristol</td>\n",
       "      <td>We always try to bring the heavy. #metal #RT http://t.co/YAo1e0xngw</td>\n",
       "      <td>0</td>\n",
       "    </tr>\n",
       "    <tr>\n",
       "      <th>34</th>\n",
       "      <td>52</td>\n",
       "      <td>ablaze</td>\n",
       "      <td>Philadelphia, PA</td>\n",
       "      <td>Crying out for more! Set me ablaze</td>\n",
       "      <td>0</td>\n",
       "    </tr>\n",
       "    <tr>\n",
       "      <th>35</th>\n",
       "      <td>53</td>\n",
       "      <td>ablaze</td>\n",
       "      <td>London, UK</td>\n",
       "      <td>On plus side LOOK AT THE SKY LAST NIGHT IT WAS ABLAZE http://t.co/qqsmshaJ3N</td>\n",
       "      <td>0</td>\n",
       "    </tr>\n",
       "    <tr>\n",
       "      <th>36</th>\n",
       "      <td>54</td>\n",
       "      <td>ablaze</td>\n",
       "      <td>Pretoria</td>\n",
       "      <td>@PhDSquares #mufc they've built so much hype around new acquisitions but I doubt they will set the EPL ablaze this season.</td>\n",
       "      <td>0</td>\n",
       "    </tr>\n",
       "  </tbody>\n",
       "</table>\n",
       "</div>"
      ],
      "text/plain": [
       "    id keyword                       location  \\\n",
       "15  23     NaN                            NaN   \n",
       "16  24     NaN                            NaN   \n",
       "17  25     NaN                            NaN   \n",
       "18  26     NaN                            NaN   \n",
       "19  28     NaN                            NaN   \n",
       "20  31     NaN                            NaN   \n",
       "21  32     NaN                            NaN   \n",
       "22  33     NaN                            NaN   \n",
       "23  34     NaN                            NaN   \n",
       "24  36     NaN                            NaN   \n",
       "25  37     NaN                            NaN   \n",
       "26  38     NaN                            NaN   \n",
       "27  39     NaN                            NaN   \n",
       "28  40     NaN                            NaN   \n",
       "29  41     NaN                            NaN   \n",
       "30  44     NaN                            NaN   \n",
       "32  49  ablaze  Est. September 2012 - Bristol   \n",
       "34  52  ablaze               Philadelphia, PA   \n",
       "35  53  ablaze                     London, UK   \n",
       "36  54  ablaze                       Pretoria   \n",
       "\n",
       "                                                                                                                          text  \\\n",
       "15                                                                                                              What's up man?   \n",
       "16                                                                                                               I love fruits   \n",
       "17                                                                                                            Summer is lovely   \n",
       "18                                                                                                           My car is so fast   \n",
       "19                                                                                                What a goooooooaaaaaal!!!!!!   \n",
       "20                                                                                                      this is ridiculous....   \n",
       "21                                                                                                           London is cool ;)   \n",
       "22                                                                                                                 Love skiing   \n",
       "23                                                                                                       What a wonderful day!   \n",
       "24                                                                                                                    LOOOOOOL   \n",
       "25                                                                                              No way...I can't eat that shit   \n",
       "26                                                                                                       Was in NYC last week!   \n",
       "27                                                                                                          Love my girlfriend   \n",
       "28                                                                                                                   Cooool :)   \n",
       "29                                                                                                          Do you like pasta?   \n",
       "30                                                                                                                    The end!   \n",
       "32                                                         We always try to bring the heavy. #metal #RT http://t.co/YAo1e0xngw   \n",
       "34                                                                                          Crying out for more! Set me ablaze   \n",
       "35                                                On plus side LOOK AT THE SKY LAST NIGHT IT WAS ABLAZE http://t.co/qqsmshaJ3N   \n",
       "36  @PhDSquares #mufc they've built so much hype around new acquisitions but I doubt they will set the EPL ablaze this season.   \n",
       "\n",
       "   target  \n",
       "15      0  \n",
       "16      0  \n",
       "17      0  \n",
       "18      0  \n",
       "19      0  \n",
       "20      0  \n",
       "21      0  \n",
       "22      0  \n",
       "23      0  \n",
       "24      0  \n",
       "25      0  \n",
       "26      0  \n",
       "27      0  \n",
       "28      0  \n",
       "29      0  \n",
       "30      0  \n",
       "32      0  \n",
       "34      0  \n",
       "35      0  \n",
       "36      0  "
      ]
     },
     "execution_count": 13,
     "metadata": {},
     "output_type": "execute_result"
    }
   ],
   "source": [
    "train_df[train_df[\"target\"]==\"0\"].head(20)"
   ]
  },
  {
   "cell_type": "code",
   "execution_count": 14,
   "metadata": {
    "execution": {
     "iopub.execute_input": "2023-08-02T00:03:09.714929Z",
     "iopub.status.busy": "2023-08-02T00:03:09.714572Z",
     "iopub.status.idle": "2023-08-02T00:03:09.724448Z",
     "shell.execute_reply": "2023-08-02T00:03:09.723527Z",
     "shell.execute_reply.started": "2023-08-02T00:03:09.714901Z"
    }
   },
   "outputs": [
    {
     "data": {
      "text/plain": [
       "target\n",
       "0    4342\n",
       "1    3271\n",
       "Name: target, dtype: int64"
      ]
     },
     "execution_count": 14,
     "metadata": {},
     "output_type": "execute_result"
    }
   ],
   "source": [
    "train_df.groupby(\"target\")[\"target\"].count()"
   ]
  },
  {
   "cell_type": "markdown",
   "metadata": {},
   "source": [
    "There are about 1,100 more negatively classed tweets than true disaster tweets.  However, it is still a fairly balanced dataset."
   ]
  },
  {
   "cell_type": "code",
   "execution_count": 15,
   "metadata": {
    "execution": {
     "iopub.execute_input": "2023-08-02T00:03:12.835805Z",
     "iopub.status.busy": "2023-08-02T00:03:12.834724Z",
     "iopub.status.idle": "2023-08-02T00:03:13.084935Z",
     "shell.execute_reply": "2023-08-02T00:03:13.083977Z",
     "shell.execute_reply.started": "2023-08-02T00:03:12.835760Z"
    }
   },
   "outputs": [
    {
     "data": {
      "text/plain": [
       "<Axes: xlabel='target'>"
      ]
     },
     "execution_count": 15,
     "metadata": {},
     "output_type": "execute_result"
    },
    {
     "data": {
      "image/png": "[encoded data removed]",
      "text/plain": [
       "<Figure size 640x480 with 1 Axes>"
      ]
     },
     "metadata": {},
     "output_type": "display_data"
    }
   ],
   "source": [
    "train_df.groupby(\"target\")[\"target\"].count().plot(kind='bar')"
   ]
  },
  {
   "cell_type": "markdown",
   "metadata": {},
   "source": [
    "The test data is also missing locations and keywords.  This confirms that it would be best to just drop these features.  The tweets themselves should be enough for the training."
   ]
  },
  {
   "cell_type": "code",
   "execution_count": 16,
   "metadata": {
    "execution": {
     "iopub.execute_input": "2023-08-02T00:04:22.514617Z",
     "iopub.status.busy": "2023-08-02T00:04:22.513907Z",
     "iopub.status.idle": "2023-08-02T00:04:22.526980Z",
     "shell.execute_reply": "2023-08-02T00:04:22.526125Z",
     "shell.execute_reply.started": "2023-08-02T00:04:22.514583Z"
    }
   },
   "outputs": [
    {
     "data": {
      "text/html": [
       "<div>\n",
       "<style scoped>\n",
       "    .dataframe tbody tr th:only-of-type {\n",
       "        vertical-align: middle;\n",
       "    }\n",
       "\n",
       "    .dataframe tbody tr th {\n",
       "        vertical-align: top;\n",
       "    }\n",
       "\n",
       "    .dataframe thead th {\n",
       "        text-align: right;\n",
       "    }\n",
       "</style>\n",
       "<table border=\"1\" class=\"dataframe\">\n",
       "  <thead>\n",
       "    <tr style=\"text-align: right;\">\n",
       "      <th></th>\n",
       "      <th>id</th>\n",
       "      <th>keyword</th>\n",
       "      <th>location</th>\n",
       "      <th>text</th>\n",
       "    </tr>\n",
       "  </thead>\n",
       "  <tbody>\n",
       "    <tr>\n",
       "      <th>0</th>\n",
       "      <td>0</td>\n",
       "      <td>NaN</td>\n",
       "      <td>NaN</td>\n",
       "      <td>Just happened a terrible car crash</td>\n",
       "    </tr>\n",
       "    <tr>\n",
       "      <th>1</th>\n",
       "      <td>2</td>\n",
       "      <td>NaN</td>\n",
       "      <td>NaN</td>\n",
       "      <td>Heard about #earthquake is different cities, stay safe everyone.</td>\n",
       "    </tr>\n",
       "    <tr>\n",
       "      <th>2</th>\n",
       "      <td>3</td>\n",
       "      <td>NaN</td>\n",
       "      <td>NaN</td>\n",
       "      <td>there is a forest fire at spot pond, geese are fleeing across the street, I cannot save them all</td>\n",
       "    </tr>\n",
       "    <tr>\n",
       "      <th>3</th>\n",
       "      <td>9</td>\n",
       "      <td>NaN</td>\n",
       "      <td>NaN</td>\n",
       "      <td>Apocalypse lighting. #Spokane #wildfires</td>\n",
       "    </tr>\n",
       "    <tr>\n",
       "      <th>4</th>\n",
       "      <td>11</td>\n",
       "      <td>NaN</td>\n",
       "      <td>NaN</td>\n",
       "      <td>Typhoon Soudelor kills 28 in China and Taiwan</td>\n",
       "    </tr>\n",
       "    <tr>\n",
       "      <th>...</th>\n",
       "      <td>...</td>\n",
       "      <td>...</td>\n",
       "      <td>...</td>\n",
       "      <td>...</td>\n",
       "    </tr>\n",
       "    <tr>\n",
       "      <th>3258</th>\n",
       "      <td>10861</td>\n",
       "      <td>NaN</td>\n",
       "      <td>NaN</td>\n",
       "      <td>EARTHQUAKE SAFETY LOS ANGELES ÛÒ SAFETY FASTENERS XrWn</td>\n",
       "    </tr>\n",
       "    <tr>\n",
       "      <th>3259</th>\n",
       "      <td>10865</td>\n",
       "      <td>NaN</td>\n",
       "      <td>NaN</td>\n",
       "      <td>Storm in RI worse than last hurricane. My city&amp;amp;3others hardest hit. My yard looks like it was bombed. Around 20000K still without power</td>\n",
       "    </tr>\n",
       "    <tr>\n",
       "      <th>3260</th>\n",
       "      <td>10868</td>\n",
       "      <td>NaN</td>\n",
       "      <td>NaN</td>\n",
       "      <td>Green Line derailment in Chicago http://t.co/UtbXLcBIuY</td>\n",
       "    </tr>\n",
       "    <tr>\n",
       "      <th>3261</th>\n",
       "      <td>10874</td>\n",
       "      <td>NaN</td>\n",
       "      <td>NaN</td>\n",
       "      <td>MEG issues Hazardous Weather Outlook (HWO) http://t.co/3X6RBQJHn3</td>\n",
       "    </tr>\n",
       "    <tr>\n",
       "      <th>3262</th>\n",
       "      <td>10875</td>\n",
       "      <td>NaN</td>\n",
       "      <td>NaN</td>\n",
       "      <td>#CityofCalgary has activated its Municipal Emergency Plan. #yycstorm</td>\n",
       "    </tr>\n",
       "  </tbody>\n",
       "</table>\n",
       "<p>3263 rows × 4 columns</p>\n",
       "</div>"
      ],
      "text/plain": [
       "         id keyword location  \\\n",
       "0         0     NaN      NaN   \n",
       "1         2     NaN      NaN   \n",
       "2         3     NaN      NaN   \n",
       "3         9     NaN      NaN   \n",
       "4        11     NaN      NaN   \n",
       "...     ...     ...      ...   \n",
       "3258  10861     NaN      NaN   \n",
       "3259  10865     NaN      NaN   \n",
       "3260  10868     NaN      NaN   \n",
       "3261  10874     NaN      NaN   \n",
       "3262  10875     NaN      NaN   \n",
       "\n",
       "                                                                                                                                             text  \n",
       "0                                                                                                              Just happened a terrible car crash  \n",
       "1                                                                                Heard about #earthquake is different cities, stay safe everyone.  \n",
       "2                                                there is a forest fire at spot pond, geese are fleeing across the street, I cannot save them all  \n",
       "3                                                                                                        Apocalypse lighting. #Spokane #wildfires  \n",
       "4                                                                                                   Typhoon Soudelor kills 28 in China and Taiwan  \n",
       "...                                                                                                                                           ...  \n",
       "3258                                                                                      EARTHQUAKE SAFETY LOS ANGELES ÛÒ SAFETY FASTENERS XrWn  \n",
       "3259  Storm in RI worse than last hurricane. My city&amp;3others hardest hit. My yard looks like it was bombed. Around 20000K still without power  \n",
       "3260                                                                                      Green Line derailment in Chicago http://t.co/UtbXLcBIuY  \n",
       "3261                                                                            MEG issues Hazardous Weather Outlook (HWO) http://t.co/3X6RBQJHn3  \n",
       "3262                                                                         #CityofCalgary has activated its Municipal Emergency Plan. #yycstorm  \n",
       "\n",
       "[3263 rows x 4 columns]"
      ]
     },
     "execution_count": 16,
     "metadata": {},
     "output_type": "execute_result"
    }
   ],
   "source": [
    "test_df"
   ]
  },
  {
   "cell_type": "code",
   "execution_count": 17,
   "metadata": {
    "execution": {
     "iopub.execute_input": "2023-08-02T00:04:27.212000Z",
     "iopub.status.busy": "2023-08-02T00:04:27.211633Z",
     "iopub.status.idle": "2023-08-02T00:04:27.230674Z",
     "shell.execute_reply": "2023-08-02T00:04:27.229623Z",
     "shell.execute_reply.started": "2023-08-02T00:04:27.211969Z"
    }
   },
   "outputs": [
    {
     "name": "stdout",
     "output_type": "stream",
     "text": [
      "<class 'pandas.core.frame.DataFrame'>\n",
      "RangeIndex: 3263 entries, 0 to 3262\n",
      "Data columns (total 4 columns):\n",
      " #   Column    Non-Null Count  Dtype \n",
      "---  ------    --------------  ----- \n",
      " 0   id        3263 non-null   object\n",
      " 1   keyword   3237 non-null   object\n",
      " 2   location  2158 non-null   object\n",
      " 3   text      3263 non-null   object\n",
      "dtypes: object(4)\n",
      "memory usage: 102.1+ KB\n"
     ]
    }
   ],
   "source": [
    "test_df.info()"
   ]
  },
  {
   "cell_type": "code",
   "execution_count": 18,
   "metadata": {
    "execution": {
     "iopub.execute_input": "2023-08-02T00:04:30.406841Z",
     "iopub.status.busy": "2023-08-02T00:04:30.406487Z",
     "iopub.status.idle": "2023-08-02T00:04:30.419809Z",
     "shell.execute_reply": "2023-08-02T00:04:30.418693Z",
     "shell.execute_reply.started": "2023-08-02T00:04:30.406812Z"
    }
   },
   "outputs": [
    {
     "data": {
      "text/plain": [
       "id             0\n",
       "keyword       26\n",
       "location    1105\n",
       "text           0\n",
       "dtype: int64"
      ]
     },
     "execution_count": 18,
     "metadata": {},
     "output_type": "execute_result"
    }
   ],
   "source": [
    "test_df.isna().sum()"
   ]
  },
  {
   "cell_type": "code",
   "execution_count": 17,
   "metadata": {
    "execution": {
     "iopub.execute_input": "2023-07-28T23:34:29.887624Z",
     "iopub.status.busy": "2023-07-28T23:34:29.886975Z",
     "iopub.status.idle": "2023-07-28T23:34:29.901972Z",
     "shell.execute_reply": "2023-07-28T23:34:29.901077Z",
     "shell.execute_reply.started": "2023-07-28T23:34:29.887572Z"
    }
   },
   "outputs": [],
   "source": [
    "text_lengths = []\n",
    "\n",
    "for row in train_df[\"text\"].astype(str):\n",
    "    text_lengths.append(len(row))"
   ]
  },
  {
   "cell_type": "markdown",
   "metadata": {},
   "source": [
    "Most of the tweets bump up again the 140-character limit.  Interestingly some have a more than 140 characters.  This might be due to the way that emojis are being encoded in this dataset.  "
   ]
  },
  {
   "cell_type": "code",
   "execution_count": 18,
   "metadata": {
    "execution": {
     "iopub.execute_input": "2023-07-28T23:34:31.482707Z",
     "iopub.status.busy": "2023-07-28T23:34:31.482309Z",
     "iopub.status.idle": "2023-07-28T23:34:31.862396Z",
     "shell.execute_reply": "2023-07-28T23:34:31.861238Z",
     "shell.execute_reply.started": "2023-07-28T23:34:31.482675Z"
    }
   },
   "outputs": [
    {
     "data": {
      "image/png": "[encoded data removed]",
      "text/plain": [
       "<Figure size 640x480 with 1 Axes>"
      ]
     },
     "metadata": {},
     "output_type": "display_data"
    }
   ],
   "source": [
    "plt.hist(text_lengths)\n",
    "plt.xlabel('Length')\n",
    "plt.ylabel('Count')\n",
    "plt.show()"
   ]
  },
  {
   "cell_type": "code",
   "execution_count": 22,
   "metadata": {
    "execution": {
     "iopub.execute_input": "2023-07-28T23:34:44.865963Z",
     "iopub.status.busy": "2023-07-28T23:34:44.865548Z",
     "iopub.status.idle": "2023-07-28T23:34:44.874372Z",
     "shell.execute_reply": "2023-07-28T23:34:44.873034Z",
     "shell.execute_reply.started": "2023-07-28T23:34:44.865930Z"
    }
   },
   "outputs": [],
   "source": [
    "def word_freq(Target):\n",
    "    count_vectors = CountVectorizer()\n",
    "    count = count_vectors.fit_transform(train_df[train_df[\"target\"] == Target][\"text\"])\n",
    "    words = count_vectors.get_feature_names_out()\n",
    "    word_values = count.sum(0)\n",
    "    word_values_arr = np.array(word_values)\n",
    "    word_indices = word_values_arr[0].argsort()[-50:][::-1]\n",
    "    plt.figure(figsize=(15,3))\n",
    "    plt.bar(words[word_indices], word_values_arr[0][word_indices])\n",
    "    plt.xticks(rotation = 90)\n",
    "    plt.title(Target)\n",
    "    plt.show()"
   ]
  },
  {
   "cell_type": "markdown",
   "metadata": {},
   "source": [
    "The most common words are not likely to be very helpful in classification.  There are a lot of URLs in both target classes, so it will be prudent to remove the links.  Other common words like \"and\" \"to\" \"of\" also likely will not help with classification.  I will try training after removing these. "
   ]
  },
  {
   "cell_type": "code",
   "execution_count": 23,
   "metadata": {
    "execution": {
     "iopub.execute_input": "2023-07-28T23:34:46.347758Z",
     "iopub.status.busy": "2023-07-28T23:34:46.347283Z",
     "iopub.status.idle": "2023-07-28T23:34:47.148317Z",
     "shell.execute_reply": "2023-07-28T23:34:47.147052Z",
     "shell.execute_reply.started": "2023-07-28T23:34:46.347676Z"
    }
   },
   "outputs": [
    {
     "data": {
      "image/png": "[encoded data removed]",
      "text/plain": [
       "<Figure size 1500x300 with 1 Axes>"
      ]
     },
     "metadata": {},
     "output_type": "display_data"
    }
   ],
   "source": [
    "word_freq(\"0\")"
   ]
  },
  {
   "cell_type": "code",
   "execution_count": 25,
   "metadata": {
    "execution": {
     "iopub.execute_input": "2023-07-28T23:34:56.887116Z",
     "iopub.status.busy": "2023-07-28T23:34:56.886735Z",
     "iopub.status.idle": "2023-07-28T23:34:57.663952Z",
     "shell.execute_reply": "2023-07-28T23:34:57.662380Z",
     "shell.execute_reply.started": "2023-07-28T23:34:56.887088Z"
    }
   },
   "outputs": [
    {
     "data": {
      "image/png": "[encoded data removed]",
      "text/plain": [
       "<Figure size 1500x300 with 1 Axes>"
      ]
     },
     "metadata": {},
     "output_type": "display_data"
    }
   ],
   "source": [
    "word_freq(\"1\")"
   ]
  },
  {
   "cell_type": "markdown",
   "metadata": {},
   "source": [
    "# Data Cleaning and Preparation\n",
    "\n",
    "To prepare the data, I will first combine both the training and test datasets into a single dataset.  This will be necessary for tokenizing the data.  We want to make sure that we are using a common dictionary for both datasets.  We will split them apart again in a later step."
   ]
  },
  {
   "cell_type": "code",
   "execution_count": 4,
   "metadata": {
    "execution": {
     "iopub.execute_input": "2023-08-05T16:24:18.919613Z",
     "iopub.status.busy": "2023-08-05T16:24:18.919257Z",
     "iopub.status.idle": "2023-08-05T16:24:18.928978Z",
     "shell.execute_reply": "2023-08-05T16:24:18.927957Z",
     "shell.execute_reply.started": "2023-08-05T16:24:18.919583Z"
    }
   },
   "outputs": [
    {
     "name": "stderr",
     "output_type": "stream",
     "text": [
      "/tmp/ipykernel_28/2039958361.py:1: FutureWarning: The series.append method is deprecated and will be removed from pandas in a future version. Use pandas.concat instead.\n",
      "  All_X = train_df[\"text\"].append(test_df[\"text\"], ignore_index=True)\n"
     ]
    }
   ],
   "source": [
    "All_X = train_df[\"text\"].append(test_df[\"text\"], ignore_index=True)"
   ]
  },
  {
   "cell_type": "markdown",
   "metadata": {},
   "source": [
    "I will also standardize the data by making everything lowercase.  I will then remove URLs and punctuation."
   ]
  },
  {
   "cell_type": "code",
   "execution_count": 6,
   "metadata": {
    "execution": {
     "iopub.execute_input": "2023-08-05T16:24:19.044409Z",
     "iopub.status.busy": "2023-08-05T16:24:19.043766Z",
     "iopub.status.idle": "2023-08-05T16:24:19.130239Z",
     "shell.execute_reply": "2023-08-05T16:24:19.129342Z",
     "shell.execute_reply.started": "2023-08-05T16:24:19.044349Z"
    }
   },
   "outputs": [
    {
     "name": "stderr",
     "output_type": "stream",
     "text": [
      "/tmp/ipykernel_28/4034471532.py:2: FutureWarning: The default value of regex will change from True to False in a future version.\n",
      "  All_X = All_X.str.replace(r'http.*\\s','')\n",
      "/tmp/ipykernel_28/4034471532.py:3: FutureWarning: The default value of regex will change from True to False in a future version.\n",
      "  All_X = All_X.str.replace(r'\\shttp[A-Za-z0-9\\:\\.\\/]*$','')\n",
      "/tmp/ipykernel_28/4034471532.py:4: FutureWarning: The default value of regex will change from True to False in a future version.\n",
      "  All_X = All_X.str.replace(r'[\\.\\:\\*\\@\\?\\!\\#\\'\\;\\(\\)\\-\\|]','')\n"
     ]
    }
   ],
   "source": [
    "All_X = All_X.str.lower()\n",
    "All_X = All_X.str.replace(r'http.*\\s','')\n",
    "All_X = All_X.str.replace(r'\\shttp[A-Za-z0-9\\:\\.\\/]*$','')\n",
    "All_X = All_X.str.replace(r'[\\.\\:\\*\\@\\?\\!\\#\\'\\;\\(\\)\\-\\|]','')\n",
    "All_X = All_X.str.replace(r'&amp','')"
   ]
  },
  {
   "cell_type": "markdown",
   "metadata": {},
   "source": [
    "Here I import a set of stop words.  I will iterate over each tweet, and I will only keep those words that are not included in the stop words set."
   ]
  },
  {
   "cell_type": "code",
   "execution_count": 7,
   "metadata": {
    "execution": {
     "iopub.execute_input": "2023-08-05T16:24:19.132127Z",
     "iopub.status.busy": "2023-08-05T16:24:19.131782Z",
     "iopub.status.idle": "2023-08-05T16:24:19.142178Z",
     "shell.execute_reply": "2023-08-05T16:24:19.141189Z",
     "shell.execute_reply.started": "2023-08-05T16:24:19.132095Z"
    }
   },
   "outputs": [],
   "source": [
    "stop_words = set(stopwords.words('english'))"
   ]
  },
  {
   "cell_type": "code",
   "execution_count": 6,
   "metadata": {
    "execution": {
     "iopub.execute_input": "2023-08-04T00:19:03.550365Z",
     "iopub.status.busy": "2023-08-04T00:19:03.549690Z",
     "iopub.status.idle": "2023-08-04T00:19:03.560875Z",
     "shell.execute_reply": "2023-08-04T00:19:03.559851Z",
     "shell.execute_reply.started": "2023-08-04T00:19:03.550330Z"
    }
   },
   "outputs": [
    {
     "data": {
      "text/plain": [
       "0        our deeds are the reason of this earthquake ma...\n",
       "1                    forest fire near la ronge sask canada\n",
       "2        all residents asked to shelter in place are be...\n",
       "3        13,000 people receive wildfires evacuation ord...\n",
       "4        just got sent this photo from ruby alaska as s...\n",
       "                               ...                        \n",
       "10871    earthquake safety los angeles ûò safety faste...\n",
       "10872    storm in ri worse than last hurricane my city3...\n",
       "10873                     green line derailment in chicago\n",
       "10874             meg issues hazardous weather outlook hwo\n",
       "10875    cityofcalgary has activated its municipal emer...\n",
       "Name: text, Length: 10876, dtype: object"
      ]
     },
     "execution_count": 6,
     "metadata": {},
     "output_type": "execute_result"
    }
   ],
   "source": [
    "All_X"
   ]
  },
  {
   "cell_type": "code",
   "execution_count": 8,
   "metadata": {
    "execution": {
     "iopub.execute_input": "2023-08-05T16:24:25.583235Z",
     "iopub.status.busy": "2023-08-05T16:24:25.582191Z",
     "iopub.status.idle": "2023-08-05T16:24:25.793572Z",
     "shell.execute_reply": "2023-08-05T16:24:25.792538Z",
     "shell.execute_reply.started": "2023-08-05T16:24:25.583189Z"
    }
   },
   "outputs": [],
   "source": [
    "for i in range(len(All_X)):\n",
    "    stripped_tweet = \"\"\n",
    "    for word in All_X[i].split():\n",
    "        if word not in stop_words:\n",
    "            stripped_tweet = stripped_tweet + word + \" \"\n",
    "            \n",
    "    All_X[i] = stripped_tweet"
   ]
  },
  {
   "cell_type": "markdown",
   "metadata": {},
   "source": [
    "The updated dataframe below shows how the common words have been removed."
   ]
  },
  {
   "cell_type": "code",
   "execution_count": 18,
   "metadata": {
    "execution": {
     "iopub.execute_input": "2023-08-02T23:32:25.396152Z",
     "iopub.status.busy": "2023-08-02T23:32:25.395676Z",
     "iopub.status.idle": "2023-08-02T23:32:25.409201Z",
     "shell.execute_reply": "2023-08-02T23:32:25.408273Z",
     "shell.execute_reply.started": "2023-08-02T23:32:25.396106Z"
    }
   },
   "outputs": [
    {
     "data": {
      "text/plain": [
       "0                                                                          deeds reason earthquake may allah forgive us \n",
       "1                                                                                 forest fire near la ronge sask canada \n",
       "2                              residents asked shelter place notified officers evacuation shelter place orders expected \n",
       "3                                                          13,000 people receive wildfires evacuation orders california \n",
       "4                                                               got sent photo ruby alaska smoke wildfires pours school \n",
       "                                                              ...                                                       \n",
       "10871                                                           earthquake safety los angeles ûò safety fasteners xrwn \n",
       "10872    storm ri worse last hurricane city3others hardest hit yard looks like bombed around 20000k still without power \n",
       "10873                                                                                     green line derailment chicago \n",
       "10874                                                                          meg issues hazardous weather outlook hwo \n",
       "10875                                                         cityofcalgary activated municipal emergency plan yycstorm \n",
       "Name: text, Length: 10876, dtype: object"
      ]
     },
     "execution_count": 18,
     "metadata": {},
     "output_type": "execute_result"
    }
   ],
   "source": [
    "All_X"
   ]
  },
  {
   "cell_type": "markdown",
   "metadata": {},
   "source": [
    "I will now tokenize the tweets.  This will keep keep the ordering of the words within the tweets"
   ]
  },
  {
   "cell_type": "code",
   "execution_count": 9,
   "metadata": {
    "execution": {
     "iopub.execute_input": "2023-08-05T16:24:30.093347Z",
     "iopub.status.busy": "2023-08-05T16:24:30.092944Z",
     "iopub.status.idle": "2023-08-05T16:24:30.322798Z",
     "shell.execute_reply": "2023-08-05T16:24:30.321784Z",
     "shell.execute_reply.started": "2023-08-05T16:24:30.093312Z"
    }
   },
   "outputs": [],
   "source": [
    "tokenizer = Tokenizer(\n",
    "    num_words=3000,\n",
    "    filters='!\"#$%&()*+,-./:;<=>?@[\\\\]^_`{|}~\\t\\n',\n",
    "    lower=True,\n",
    "    split=' ',\n",
    "    char_level=False,\n",
    "    oov_token=None,\n",
    "    analyzer=None\n",
    ")\n",
    "tokenizer.fit_on_texts(All_X.values)"
   ]
  },
  {
   "cell_type": "markdown",
   "metadata": {},
   "source": [
    "I will also pad the resulting vectors so that they all have the same length.  That will be necessary to train the models."
   ]
  },
  {
   "cell_type": "code",
   "execution_count": 10,
   "metadata": {
    "execution": {
     "iopub.execute_input": "2023-08-05T16:24:34.832152Z",
     "iopub.status.busy": "2023-08-05T16:24:34.831173Z",
     "iopub.status.idle": "2023-08-05T16:24:35.043984Z",
     "shell.execute_reply": "2023-08-05T16:24:35.043023Z",
     "shell.execute_reply.started": "2023-08-05T16:24:34.832117Z"
    }
   },
   "outputs": [],
   "source": [
    "All_X_Vector = tokenizer.texts_to_sequences(All_X.values)\n",
    "All_X_Vector = pad_sequences(All_X_Vector)"
   ]
  },
  {
   "cell_type": "markdown",
   "metadata": {},
   "source": [
    "Now I split the data back into training and test sets, and I create a target (y) set for training."
   ]
  },
  {
   "cell_type": "code",
   "execution_count": 11,
   "metadata": {
    "execution": {
     "iopub.execute_input": "2023-08-05T16:24:38.745057Z",
     "iopub.status.busy": "2023-08-05T16:24:38.744701Z",
     "iopub.status.idle": "2023-08-05T16:24:38.749869Z",
     "shell.execute_reply": "2023-08-05T16:24:38.748884Z",
     "shell.execute_reply.started": "2023-08-05T16:24:38.745027Z"
    }
   },
   "outputs": [],
   "source": [
    "X_train = All_X_Vector[:7613]\n",
    "X_test = All_X_Vector[7613:]"
   ]
  },
  {
   "cell_type": "code",
   "execution_count": 23,
   "metadata": {
    "execution": {
     "iopub.execute_input": "2023-08-02T23:32:40.103177Z",
     "iopub.status.busy": "2023-08-02T23:32:40.102815Z",
     "iopub.status.idle": "2023-08-02T23:32:40.110432Z",
     "shell.execute_reply": "2023-08-02T23:32:40.109365Z",
     "shell.execute_reply.started": "2023-08-02T23:32:40.103148Z"
    }
   },
   "outputs": [
    {
     "data": {
      "text/plain": [
       "array([[   0,    0,    0, ...,   62, 1749,   11],\n",
       "       [   0,    0,    0, ...,  115,  678, 1421],\n",
       "       [   0,    0,    0, ...,  651, 1511, 1130],\n",
       "       ...,\n",
       "       [   0,    0,    0, ..., 1411,  462, 1412],\n",
       "       [   0,    0,    0, ..., 1094, 2157,  214],\n",
       "       [   0,    0,    0, ...,   87,  573,    8]], dtype=int32)"
      ]
     },
     "execution_count": 23,
     "metadata": {},
     "output_type": "execute_result"
    }
   ],
   "source": [
    "X_train"
   ]
  },
  {
   "cell_type": "code",
   "execution_count": 12,
   "metadata": {
    "execution": {
     "iopub.execute_input": "2023-08-05T16:24:42.904389Z",
     "iopub.status.busy": "2023-08-05T16:24:42.903993Z",
     "iopub.status.idle": "2023-08-05T16:24:42.910672Z",
     "shell.execute_reply": "2023-08-05T16:24:42.909224Z",
     "shell.execute_reply.started": "2023-08-05T16:24:42.904358Z"
    }
   },
   "outputs": [],
   "source": [
    "y_train = train_df[\"target\"].astype(int) "
   ]
  },
  {
   "cell_type": "code",
   "execution_count": 25,
   "metadata": {
    "execution": {
     "iopub.execute_input": "2023-08-02T23:32:44.726267Z",
     "iopub.status.busy": "2023-08-02T23:32:44.725882Z",
     "iopub.status.idle": "2023-08-02T23:32:44.734752Z",
     "shell.execute_reply": "2023-08-02T23:32:44.733580Z",
     "shell.execute_reply.started": "2023-08-02T23:32:44.726236Z"
    }
   },
   "outputs": [
    {
     "data": {
      "text/plain": [
       "0       1\n",
       "1       1\n",
       "2       1\n",
       "3       1\n",
       "4       1\n",
       "       ..\n",
       "7608    1\n",
       "7609    1\n",
       "7610    1\n",
       "7611    1\n",
       "7612    1\n",
       "Name: target, Length: 7613, dtype: int64"
      ]
     },
     "execution_count": 25,
     "metadata": {},
     "output_type": "execute_result"
    }
   ],
   "source": [
    "y_train"
   ]
  },
  {
   "cell_type": "code",
   "execution_count": 26,
   "metadata": {
    "execution": {
     "iopub.execute_input": "2023-08-02T23:32:49.549868Z",
     "iopub.status.busy": "2023-08-02T23:32:49.549501Z",
     "iopub.status.idle": "2023-08-02T23:32:49.557030Z",
     "shell.execute_reply": "2023-08-02T23:32:49.556017Z",
     "shell.execute_reply.started": "2023-08-02T23:32:49.549837Z"
    }
   },
   "outputs": [
    {
     "data": {
      "text/plain": [
       "(7613, 19)"
      ]
     },
     "execution_count": 26,
     "metadata": {},
     "output_type": "execute_result"
    }
   ],
   "source": [
    "X_train.shape"
   ]
  },
  {
   "cell_type": "markdown",
   "metadata": {},
   "source": [
    "The length of each tweet vector is 19 tokens.  This will be the input size for our models.  "
   ]
  },
  {
   "cell_type": "markdown",
   "metadata": {},
   "source": [
    "# Simple RNN Model\n",
    "\n",
    "For the Simple RNN model, I will begin with a single RNN layer, and attempt to build up a more complex model from there.  Since this is a binary classification task, I will use the Sigmoid activation function for the final dense layer, and I will use binary crossentropy for a loss function. \n",
    "\n",
    "A SimpleRNN model includes layer units that feed back data from previous timestamps into the next timestamp.  This therefore allow for some \"memory\" concerning sequential patterns, and for our purposes, it allows for the recognition of the way the a word (token) might be related to others\n",
    "\n",
    "In order to tune parameters, I will wrap my model in a KerasClassifier so that I can use gridsearch to test various parameter options.  The first parameter I will test for is the number of units in the hidden layer.\n",
    "\n",
    "During the tuning process, I will use 3-fold cross validation so that all of the training data is available."
   ]
  },
  {
   "cell_type": "code",
   "execution_count": 28,
   "metadata": {
    "execution": {
     "iopub.execute_input": "2023-08-02T23:33:10.115034Z",
     "iopub.status.busy": "2023-08-02T23:33:10.114624Z",
     "iopub.status.idle": "2023-08-02T23:33:10.122678Z",
     "shell.execute_reply": "2023-08-02T23:33:10.121676Z",
     "shell.execute_reply.started": "2023-08-02T23:33:10.114992Z"
    }
   },
   "outputs": [],
   "source": [
    "def create_SimpleRNN(units):\n",
    "    model = Sequential()\n",
    "    model.add(SimpleRNN(units=units, input_shape=(19,1), activation=\"relu\"))\n",
    "    model.add(Dense(1, activation='sigmoid'))\n",
    "    model.compile(loss='binary_crossentropy', metrics=[\"accuracy\", tf.keras.metrics.Precision(),tf.keras.metrics.Recall(),tf.keras.metrics.AUC(),tf.keras.metrics.BinaryAccuracy()])\n",
    "    return model"
   ]
  },
  {
   "cell_type": "code",
   "execution_count": 29,
   "metadata": {
    "execution": {
     "iopub.execute_input": "2023-08-02T23:33:22.164823Z",
     "iopub.status.busy": "2023-08-02T23:33:22.164456Z",
     "iopub.status.idle": "2023-08-02T23:36:18.009587Z",
     "shell.execute_reply": "2023-08-02T23:36:18.008481Z",
     "shell.execute_reply.started": "2023-08-02T23:33:22.164792Z"
    }
   },
   "outputs": [],
   "source": [
    "simpleRNN_model = KerasClassifier(model=create_SimpleRNN, optimizer=\"Adam\", batch_size=32, epochs = 3, verbose=0)\n",
    "param_grid = dict(model__units=[32, 64, 128, 256, 512])\n",
    "grid = GridSearchCV(estimator=simpleRNN_model, param_grid=param_grid, cv=3)\n",
    "grid_result = grid.fit(X_train, y_train)\n"
   ]
  },
  {
   "cell_type": "code",
   "execution_count": 30,
   "metadata": {
    "execution": {
     "iopub.execute_input": "2023-08-02T23:36:18.012191Z",
     "iopub.status.busy": "2023-08-02T23:36:18.011720Z",
     "iopub.status.idle": "2023-08-02T23:36:18.020587Z",
     "shell.execute_reply": "2023-08-02T23:36:18.019666Z",
     "shell.execute_reply.started": "2023-08-02T23:36:18.012156Z"
    }
   },
   "outputs": [
    {
     "name": "stdout",
     "output_type": "stream",
     "text": [
      "{'model__units': 64}\n",
      "0.5331690921822226\n"
     ]
    }
   ],
   "source": [
    "print(grid_result.best_params_)\n",
    "print(grid_result.best_score_)\n",
    "# grid_result.cv_results_"
   ]
  },
  {
   "cell_type": "markdown",
   "metadata": {},
   "source": [
    "64 units in the hidden layer worked the best.  I used just 3 epochs for training because during testing I found that overfitting started to occur after about 3 epochs.  Next I will test for the best optimizer option."
   ]
  },
  {
   "cell_type": "code",
   "execution_count": 31,
   "metadata": {
    "execution": {
     "iopub.execute_input": "2023-08-02T23:36:25.431544Z",
     "iopub.status.busy": "2023-08-02T23:36:25.431192Z",
     "iopub.status.idle": "2023-08-02T23:40:32.428402Z",
     "shell.execute_reply": "2023-08-02T23:40:32.427269Z",
     "shell.execute_reply.started": "2023-08-02T23:36:25.431517Z"
    }
   },
   "outputs": [],
   "source": [
    "simpleRNN_model = KerasClassifier(model=create_SimpleRNN, units=64, batch_size=32, epochs = 3, verbose=0)\n",
    "param_grid = dict(optimizer=['SGD', 'RMSprop', 'Adagrad', 'Adadelta', 'Adam', 'Adamax', 'Nadam'])\n",
    "grid = GridSearchCV(estimator=simpleRNN_model, param_grid=param_grid, cv=3)\n",
    "grid_result = grid.fit(X_train, y_train)"
   ]
  },
  {
   "cell_type": "code",
   "execution_count": 32,
   "metadata": {
    "execution": {
     "iopub.execute_input": "2023-08-02T23:40:32.431408Z",
     "iopub.status.busy": "2023-08-02T23:40:32.431029Z",
     "iopub.status.idle": "2023-08-02T23:40:32.436708Z",
     "shell.execute_reply": "2023-08-02T23:40:32.435780Z",
     "shell.execute_reply.started": "2023-08-02T23:40:32.431375Z"
    }
   },
   "outputs": [
    {
     "name": "stdout",
     "output_type": "stream",
     "text": [
      "{'optimizer': 'RMSprop'}\n",
      "0.5424957283116106\n"
     ]
    }
   ],
   "source": [
    "print(grid_result.best_params_)\n",
    "print(grid_result.best_score_)"
   ]
  },
  {
   "cell_type": "markdown",
   "metadata": {},
   "source": [
    "Using the RMSprop had the best result, and our performance increased by about 1%.  Next I will test whether adding an additional RNN layer will help the model.  "
   ]
  },
  {
   "cell_type": "code",
   "execution_count": 33,
   "metadata": {
    "execution": {
     "iopub.execute_input": "2023-08-02T23:40:57.325970Z",
     "iopub.status.busy": "2023-08-02T23:40:57.325606Z",
     "iopub.status.idle": "2023-08-02T23:40:57.333606Z",
     "shell.execute_reply": "2023-08-02T23:40:57.332629Z",
     "shell.execute_reply.started": "2023-08-02T23:40:57.325940Z"
    }
   },
   "outputs": [],
   "source": [
    "def create_SimpleRNN(units):\n",
    "    model = Sequential()\n",
    "    model.add(SimpleRNN(units=64, input_shape=(19,1), activation=\"relu\", return_sequences=True))\n",
    "    model.add(SimpleRNN(units=units, activation=\"relu\"))\n",
    "    model.add(Dense(1, activation='sigmoid'))\n",
    "    model.compile(loss='binary_crossentropy', optimizer='RMSprop', metrics=[\"accuracy\", tf.keras.metrics.Precision(),tf.keras.metrics.Recall(),tf.keras.metrics.AUC(),tf.keras.metrics.BinaryAccuracy()])\n",
    "    return model"
   ]
  },
  {
   "cell_type": "code",
   "execution_count": 34,
   "metadata": {
    "execution": {
     "iopub.execute_input": "2023-08-02T23:41:10.566492Z",
     "iopub.status.busy": "2023-08-02T23:41:10.566112Z",
     "iopub.status.idle": "2023-08-02T23:46:56.464681Z",
     "shell.execute_reply": "2023-08-02T23:46:56.463862Z",
     "shell.execute_reply.started": "2023-08-02T23:41:10.566462Z"
    }
   },
   "outputs": [],
   "source": [
    "simpleRNN_model = KerasClassifier(model=create_SimpleRNN, batch_size=32, epochs = 3, verbose=0)\n",
    "param_grid = dict(model__units=[32, 64, 128, 256, 512])\n",
    "grid = GridSearchCV(estimator=simpleRNN_model, param_grid=param_grid, cv=3)\n",
    "grid_result = grid.fit(X_train, y_train)"
   ]
  },
  {
   "cell_type": "code",
   "execution_count": 35,
   "metadata": {
    "execution": {
     "iopub.execute_input": "2023-08-02T23:46:56.468277Z",
     "iopub.status.busy": "2023-08-02T23:46:56.467916Z",
     "iopub.status.idle": "2023-08-02T23:46:56.474617Z",
     "shell.execute_reply": "2023-08-02T23:46:56.472595Z",
     "shell.execute_reply.started": "2023-08-02T23:46:56.468249Z"
    }
   },
   "outputs": [
    {
     "name": "stdout",
     "output_type": "stream",
     "text": [
      "{'model__units': 64}\n",
      "0.5411834453451151\n"
     ]
    }
   ],
   "source": [
    "print(grid_result.best_params_)\n",
    "print(grid_result.best_score_)"
   ]
  },
  {
   "cell_type": "markdown",
   "metadata": {},
   "source": [
    "Unfortunately, the model actually performed worse.  Therefore, I will not attempt to add additional SimpleRNN layers.  I will next see if adding dropout parameters will inprove the performance."
   ]
  },
  {
   "cell_type": "code",
   "execution_count": 36,
   "metadata": {
    "execution": {
     "iopub.execute_input": "2023-08-02T23:48:57.422209Z",
     "iopub.status.busy": "2023-08-02T23:48:57.421806Z",
     "iopub.status.idle": "2023-08-02T23:48:57.429425Z",
     "shell.execute_reply": "2023-08-02T23:48:57.428465Z",
     "shell.execute_reply.started": "2023-08-02T23:48:57.422178Z"
    }
   },
   "outputs": [],
   "source": [
    "def create_SimpleRNN(dropout):\n",
    "    model = Sequential()\n",
    "    model.add(SimpleRNN(units=64, input_shape=(19,1), activation=\"relu\", dropout=dropout))\n",
    "    model.add(Dense(1, activation='sigmoid'))\n",
    "    model.compile(loss='binary_crossentropy', optimizer='RMSprop', metrics=[\"accuracy\", tf.keras.metrics.Precision(),tf.keras.metrics.Recall(),tf.keras.metrics.AUC(),tf.keras.metrics.BinaryAccuracy()])\n",
    "    return model"
   ]
  },
  {
   "cell_type": "code",
   "execution_count": 37,
   "metadata": {
    "execution": {
     "iopub.execute_input": "2023-08-02T23:49:00.604328Z",
     "iopub.status.busy": "2023-08-02T23:49:00.603930Z",
     "iopub.status.idle": "2023-08-02T23:52:09.859110Z",
     "shell.execute_reply": "2023-08-02T23:52:09.858015Z",
     "shell.execute_reply.started": "2023-08-02T23:49:00.604296Z"
    }
   },
   "outputs": [],
   "source": [
    "simpleRNN_model = KerasClassifier(model=create_SimpleRNN, batch_size=32, epochs = 3, verbose=0)\n",
    "param_grid = dict(model__dropout=[.1, .2, .3, .4, .5])\n",
    "grid = GridSearchCV(estimator=simpleRNN_model, param_grid=param_grid, cv=3)\n",
    "grid_result = grid.fit(X_train, y_train)"
   ]
  },
  {
   "cell_type": "code",
   "execution_count": 38,
   "metadata": {
    "execution": {
     "iopub.execute_input": "2023-08-02T23:53:10.707701Z",
     "iopub.status.busy": "2023-08-02T23:53:10.707339Z",
     "iopub.status.idle": "2023-08-02T23:53:10.713777Z",
     "shell.execute_reply": "2023-08-02T23:53:10.712850Z",
     "shell.execute_reply.started": "2023-08-02T23:53:10.707669Z"
    }
   },
   "outputs": [
    {
     "name": "stdout",
     "output_type": "stream",
     "text": [
      "{'model__dropout': 0.1}\n",
      "0.5390795682786279\n"
     ]
    }
   ],
   "source": [
    "print(grid_result.best_params_)\n",
    "print(grid_result.best_score_)"
   ]
  },
  {
   "cell_type": "markdown",
   "metadata": {},
   "source": [
    "Adding a dropout parameter did not improve the performance much.  Next I will look at whether values for the recurrent dropout works any better."
   ]
  },
  {
   "cell_type": "code",
   "execution_count": 39,
   "metadata": {
    "execution": {
     "iopub.execute_input": "2023-08-02T23:53:57.559626Z",
     "iopub.status.busy": "2023-08-02T23:53:57.559253Z",
     "iopub.status.idle": "2023-08-02T23:53:57.566507Z",
     "shell.execute_reply": "2023-08-02T23:53:57.565447Z",
     "shell.execute_reply.started": "2023-08-02T23:53:57.559596Z"
    }
   },
   "outputs": [],
   "source": [
    "def create_SimpleRNN(dropout):\n",
    "    model = Sequential()\n",
    "    model.add(SimpleRNN(units=64, input_shape=(19,1), activation=\"relu\", recurrent_dropout=dropout))\n",
    "    model.add(Dense(1, activation='sigmoid'))\n",
    "    model.compile(loss='binary_crossentropy', optimizer='RMSprop', metrics=[\"accuracy\", tf.keras.metrics.Precision(),tf.keras.metrics.Recall(),tf.keras.metrics.AUC(),tf.keras.metrics.BinaryAccuracy()])\n",
    "    return model"
   ]
  },
  {
   "cell_type": "code",
   "execution_count": 40,
   "metadata": {
    "execution": {
     "iopub.execute_input": "2023-08-02T23:54:13.451621Z",
     "iopub.status.busy": "2023-08-02T23:54:13.450876Z",
     "iopub.status.idle": "2023-08-02T23:58:09.052145Z",
     "shell.execute_reply": "2023-08-02T23:58:09.051049Z",
     "shell.execute_reply.started": "2023-08-02T23:54:13.451587Z"
    }
   },
   "outputs": [],
   "source": [
    "simpleRNN_model = KerasClassifier(model=create_SimpleRNN, batch_size=32, epochs = 3, verbose=0)\n",
    "param_grid = dict(model__dropout=[.1, .2, .3, .4, .5])\n",
    "grid = GridSearchCV(estimator=simpleRNN_model, param_grid=param_grid, cv=3)\n",
    "grid_result = grid.fit(X_train, y_train)"
   ]
  },
  {
   "cell_type": "code",
   "execution_count": 41,
   "metadata": {
    "execution": {
     "iopub.execute_input": "2023-08-02T23:58:09.055003Z",
     "iopub.status.busy": "2023-08-02T23:58:09.054532Z",
     "iopub.status.idle": "2023-08-02T23:58:09.061150Z",
     "shell.execute_reply": "2023-08-02T23:58:09.060218Z",
     "shell.execute_reply.started": "2023-08-02T23:58:09.054949Z"
    }
   },
   "outputs": [
    {
     "name": "stdout",
     "output_type": "stream",
     "text": [
      "{'model__dropout': 0.2}\n",
      "0.5679751084009199\n"
     ]
    }
   ],
   "source": [
    "print(grid_result.best_params_)\n",
    "print(grid_result.best_score_)"
   ]
  },
  {
   "cell_type": "markdown",
   "metadata": {},
   "source": [
    "Great, adding the recurrent dropout did improve the performance.  Next I will take a look at the activation function.  I may have errored in assuming the relu would work the best.  I had used relu frequently for past neural network tasks, but after some reading, it seems that tanh might be more appropriate."
   ]
  },
  {
   "cell_type": "code",
   "execution_count": 110,
   "metadata": {
    "execution": {
     "iopub.execute_input": "2023-08-03T00:55:57.720412Z",
     "iopub.status.busy": "2023-08-03T00:55:57.720050Z",
     "iopub.status.idle": "2023-08-03T00:55:57.727596Z",
     "shell.execute_reply": "2023-08-03T00:55:57.726662Z",
     "shell.execute_reply.started": "2023-08-03T00:55:57.720379Z"
    }
   },
   "outputs": [],
   "source": [
    "def create_SimpleRNN(activation):\n",
    "    model = Sequential()\n",
    "    model.add(SimpleRNN(units=64, activation=activation, recurrent_dropout=.2, input_shape=(19,1)))\n",
    "    model.add(Dense(1, activation='sigmoid'))\n",
    "    model.compile(loss='binary_crossentropy', optimizer='RMSprop', metrics=[\"accuracy\", tf.keras.metrics.Precision(),tf.keras.metrics.Recall(),tf.keras.metrics.AUC(),tf.keras.metrics.BinaryAccuracy()])\n",
    "    return model"
   ]
  },
  {
   "cell_type": "code",
   "execution_count": 111,
   "metadata": {
    "execution": {
     "iopub.execute_input": "2023-08-03T00:56:00.125310Z",
     "iopub.status.busy": "2023-08-03T00:56:00.124618Z",
     "iopub.status.idle": "2023-08-03T00:58:11.410791Z",
     "shell.execute_reply": "2023-08-03T00:58:11.409672Z",
     "shell.execute_reply.started": "2023-08-03T00:56:00.125275Z"
    }
   },
   "outputs": [],
   "source": [
    "simpleRNN_model = KerasClassifier(model=create_SimpleRNN, batch_size=32, epochs = 3, verbose=0)\n",
    "param_grid = dict(model__activation=['relu','tanh','sigmoid'])\n",
    "grid = GridSearchCV(estimator=simpleRNN_model, param_grid=param_grid, cv=3)\n",
    "grid_result = grid.fit(X_train, y_train)"
   ]
  },
  {
   "cell_type": "code",
   "execution_count": 112,
   "metadata": {
    "execution": {
     "iopub.execute_input": "2023-08-03T00:58:11.413553Z",
     "iopub.status.busy": "2023-08-03T00:58:11.413108Z",
     "iopub.status.idle": "2023-08-03T00:58:11.419021Z",
     "shell.execute_reply": "2023-08-03T00:58:11.418050Z",
     "shell.execute_reply.started": "2023-08-03T00:58:11.413520Z"
    }
   },
   "outputs": [
    {
     "name": "stdout",
     "output_type": "stream",
     "text": [
      "{'model__activation': 'sigmoid'}\n",
      "0.5682380412656022\n"
     ]
    }
   ],
   "source": [
    "print(grid_result.best_params_)\n",
    "print(grid_result.best_score_)"
   ]
  },
  {
   "cell_type": "markdown",
   "metadata": {},
   "source": [
    "This is a bit of a surprise for me.  The sigmoid activation function brought about the best results.  Some tutorials on RNNs suggest adding a Embedding layer, as this can reduce the dimensionality.  "
   ]
  },
  {
   "cell_type": "code",
   "execution_count": 113,
   "metadata": {
    "execution": {
     "iopub.execute_input": "2023-08-03T00:58:53.984766Z",
     "iopub.status.busy": "2023-08-03T00:58:53.984397Z",
     "iopub.status.idle": "2023-08-03T00:58:53.996899Z",
     "shell.execute_reply": "2023-08-03T00:58:53.995825Z",
     "shell.execute_reply.started": "2023-08-03T00:58:53.984737Z"
    }
   },
   "outputs": [],
   "source": [
    "def create_SimpleRNN(output_dim):\n",
    "    model = Sequential()\n",
    "    model.add(Embedding(3000, output_dim=output_dim, input_length = 19))\n",
    "    model.add(SimpleRNN(units=64, activation='sigmoid', recurrent_dropout=.2))\n",
    "    model.add(Dense(1, activation='sigmoid'))\n",
    "    model.compile(loss='binary_crossentropy', optimizer='RMSprop', metrics=[\"accuracy\", tf.keras.metrics.Precision(),tf.keras.metrics.Recall(),tf.keras.metrics.AUC(),tf.keras.metrics.BinaryAccuracy()])\n",
    "    return model"
   ]
  },
  {
   "cell_type": "code",
   "execution_count": 120,
   "metadata": {
    "execution": {
     "iopub.execute_input": "2023-08-03T02:01:42.210023Z",
     "iopub.status.busy": "2023-08-03T02:01:42.208891Z",
     "iopub.status.idle": "2023-08-03T02:11:24.513325Z",
     "shell.execute_reply": "2023-08-03T02:11:24.512229Z",
     "shell.execute_reply.started": "2023-08-03T02:01:42.209966Z"
    }
   },
   "outputs": [],
   "source": [
    "simpleRNN_model = KerasClassifier(model=create_SimpleRNN, batch_size=32, epochs = 3, verbose=0)\n",
    "param_grid = dict(model__output_dim=[16,32,64,128,256,512])\n",
    "grid = GridSearchCV(estimator=simpleRNN_model, param_grid=param_grid, cv=3)\n",
    "grid_result = grid.fit(X_train, y_train)"
   ]
  },
  {
   "cell_type": "code",
   "execution_count": 121,
   "metadata": {
    "execution": {
     "iopub.execute_input": "2023-08-03T02:11:24.518210Z",
     "iopub.status.busy": "2023-08-03T02:11:24.517290Z",
     "iopub.status.idle": "2023-08-03T02:11:24.523627Z",
     "shell.execute_reply": "2023-08-03T02:11:24.522765Z",
     "shell.execute_reply.started": "2023-08-03T02:11:24.518172Z"
    }
   },
   "outputs": [
    {
     "name": "stdout",
     "output_type": "stream",
     "text": [
      "{'model__output_dim': 128}\n",
      "0.6599213178967566\n"
     ]
    }
   ],
   "source": [
    "print(grid_result.best_params_)\n",
    "print(grid_result.best_score_)"
   ]
  },
  {
   "cell_type": "markdown",
   "metadata": {},
   "source": [
    "Lastly, I will check for the optimal number of epochs to train the model. "
   ]
  },
  {
   "cell_type": "code",
   "execution_count": 62,
   "metadata": {
    "execution": {
     "iopub.execute_input": "2023-08-03T00:28:06.456376Z",
     "iopub.status.busy": "2023-08-03T00:28:06.455940Z",
     "iopub.status.idle": "2023-08-03T00:28:06.463335Z",
     "shell.execute_reply": "2023-08-03T00:28:06.462234Z",
     "shell.execute_reply.started": "2023-08-03T00:28:06.456344Z"
    }
   },
   "outputs": [],
   "source": [
    "def create_SimpleRNN():\n",
    "    model = Sequential()\n",
    "    model.add(Embedding(3000, output_dim=512, input_length = 19))\n",
    "    model.add(SimpleRNN(units=64, activation='sigmoid', recurrent_dropout=.2))\n",
    "    model.add(Dense(1, activation='sigmoid'))\n",
    "    model.compile(loss='binary_crossentropy', optimizer='RMSprop', metrics=[\"accuracy\", tf.keras.metrics.Precision(),tf.keras.metrics.Recall(),tf.keras.metrics.AUC(),tf.keras.metrics.BinaryAccuracy()])\n",
    "    return model"
   ]
  },
  {
   "cell_type": "code",
   "execution_count": 63,
   "metadata": {
    "execution": {
     "iopub.execute_input": "2023-08-03T00:28:09.079798Z",
     "iopub.status.busy": "2023-08-03T00:28:09.079430Z",
     "iopub.status.idle": "2023-08-03T00:34:55.257410Z",
     "shell.execute_reply": "2023-08-03T00:34:55.256343Z",
     "shell.execute_reply.started": "2023-08-03T00:28:09.079769Z"
    }
   },
   "outputs": [],
   "source": [
    "simpleRNN_model = KerasClassifier(model=create_SimpleRNN, batch_size=32, verbose=0)\n",
    "param_grid = dict(epochs=[2,4,6,8,10])\n",
    "grid = GridSearchCV(estimator=simpleRNN_model, param_grid=param_grid, cv=3)\n",
    "grid_result = grid.fit(X_train, y_train)"
   ]
  },
  {
   "cell_type": "code",
   "execution_count": 67,
   "metadata": {
    "execution": {
     "iopub.execute_input": "2023-08-03T00:37:16.782167Z",
     "iopub.status.busy": "2023-08-03T00:37:16.781751Z",
     "iopub.status.idle": "2023-08-03T00:37:16.788083Z",
     "shell.execute_reply": "2023-08-03T00:37:16.786819Z",
     "shell.execute_reply.started": "2023-08-03T00:37:16.782134Z"
    }
   },
   "outputs": [
    {
     "name": "stdout",
     "output_type": "stream",
     "text": [
      "{'epochs': 2}\n",
      "0.5703402099673454\n"
     ]
    }
   ],
   "source": [
    "print(grid_result.best_params_)\n",
    "print(grid_result.best_score_)"
   ]
  },
  {
   "cell_type": "markdown",
   "metadata": {},
   "source": [
    "Now I will evaluate the model performance on a epoch by epoch basis.  Hopefuly we can discern how many epochs are ideal or if other changes should be made.  In particular, I will try different values of the learning rate so that we can smoothly get to the best accuracy."
   ]
  },
  {
   "cell_type": "code",
   "execution_count": 77,
   "metadata": {
    "execution": {
     "iopub.execute_input": "2023-08-05T17:52:14.424410Z",
     "iopub.status.busy": "2023-08-05T17:52:14.424010Z",
     "iopub.status.idle": "2023-08-05T17:52:14.545003Z",
     "shell.execute_reply": "2023-08-05T17:52:14.544198Z",
     "shell.execute_reply.started": "2023-08-05T17:52:14.424379Z"
    }
   },
   "outputs": [
    {
     "name": "stdout",
     "output_type": "stream",
     "text": [
      "Model: \"sequential_48\"\n",
      "_________________________________________________________________\n",
      " Layer (type)                Output Shape              Param #   \n",
      "=================================================================\n",
      " embedding_48 (Embedding)    (None, 19, 512)           1536000   \n",
      "                                                                 \n",
      " simple_rnn_7 (SimpleRNN)    (None, 64)                36928     \n",
      "                                                                 \n",
      " dense_48 (Dense)            (None, 1)                 65        \n",
      "                                                                 \n",
      "=================================================================\n",
      "Total params: 1,572,993\n",
      "Trainable params: 1,572,993\n",
      "Non-trainable params: 0\n",
      "_________________________________________________________________\n"
     ]
    }
   ],
   "source": [
    "optimizer = keras.optimizers.RMSprop(lr=0.0001)\n",
    "simpleRNN_model = Sequential()\n",
    "simpleRNN_model.add(Embedding(3000, output_dim=512, input_length = 19))\n",
    "simpleRNN_model.add(SimpleRNN(units=64, activation='sigmoid', recurrent_dropout=.2))\n",
    "simpleRNN_model.add(Dense(1, activation='sigmoid'))\n",
    "simpleRNN_model.compile(loss='binary_crossentropy', optimizer=optimizer, metrics=[\"accuracy\", tf.keras.metrics.Precision(),tf.keras.metrics.Recall(),tf.keras.metrics.AUC(),tf.keras.metrics.BinaryAccuracy()])\n",
    "\n",
    "simpleRNN_model.summary()"
   ]
  },
  {
   "cell_type": "code",
   "execution_count": 78,
   "metadata": {
    "execution": {
     "iopub.execute_input": "2023-08-05T17:52:20.093451Z",
     "iopub.status.busy": "2023-08-05T17:52:20.093068Z",
     "iopub.status.idle": "2023-08-05T17:55:43.877630Z",
     "shell.execute_reply": "2023-08-05T17:55:43.876345Z",
     "shell.execute_reply.started": "2023-08-05T17:52:20.093418Z"
    }
   },
   "outputs": [
    {
     "name": "stdout",
     "output_type": "stream",
     "text": [
      "Epoch 1/30\n",
      "191/191 [==============================] - 9s 35ms/step - loss: 0.6804 - accuracy: 0.5773 - precision_48: 0.4639 - recall_48: 0.0301 - auc_48: 0.5243 - binary_accuracy: 0.5773 - val_loss: 0.6924 - val_accuracy: 0.5345 - val_precision_48: 0.0000e+00 - val_recall_48: 0.0000e+00 - val_auc_48: 0.6276 - val_binary_accuracy: 0.5345\n",
      "Epoch 2/30\n",
      "191/191 [==============================] - 6s 32ms/step - loss: 0.6737 - accuracy: 0.5798 - precision_48: 0.8000 - recall_48: 0.0016 - auc_48: 0.5906 - binary_accuracy: 0.5798 - val_loss: 0.6870 - val_accuracy: 0.5345 - val_precision_48: 0.0000e+00 - val_recall_48: 0.0000e+00 - val_auc_48: 0.6689 - val_binary_accuracy: 0.5345\n",
      "Epoch 3/30\n",
      "191/191 [==============================] - 6s 31ms/step - loss: 0.6620 - accuracy: 0.5865 - precision_48: 0.8548 - recall_48: 0.0207 - auc_48: 0.6889 - binary_accuracy: 0.5865 - val_loss: 0.6839 - val_accuracy: 0.5384 - val_precision_48: 0.7143 - val_recall_48: 0.0141 - val_auc_48: 0.6911 - val_binary_accuracy: 0.5384\n",
      "Epoch 4/30\n",
      "191/191 [==============================] - 6s 32ms/step - loss: 0.6463 - accuracy: 0.6126 - precision_48: 0.8830 - recall_48: 0.0913 - auc_48: 0.7526 - binary_accuracy: 0.6126 - val_loss: 0.6726 - val_accuracy: 0.5647 - val_precision_48: 0.7875 - val_recall_48: 0.0889 - val_auc_48: 0.7001 - val_binary_accuracy: 0.5647\n",
      "Epoch 5/30\n",
      "191/191 [==============================] - 6s 32ms/step - loss: 0.6224 - accuracy: 0.6654 - precision_48: 0.8609 - recall_48: 0.2440 - auc_48: 0.7983 - binary_accuracy: 0.6654 - val_loss: 0.6634 - val_accuracy: 0.5798 - val_precision_48: 0.8000 - val_recall_48: 0.1298 - val_auc_48: 0.7098 - val_binary_accuracy: 0.5798\n",
      "Epoch 6/30\n",
      "191/191 [==============================] - 7s 36ms/step - loss: 0.5952 - accuracy: 0.6923 - precision_48: 0.8525 - recall_48: 0.3247 - auc_48: 0.8220 - binary_accuracy: 0.6923 - val_loss: 0.6493 - val_accuracy: 0.6159 - val_precision_48: 0.7650 - val_recall_48: 0.2525 - val_auc_48: 0.7221 - val_binary_accuracy: 0.6159\n",
      "Epoch 7/30\n",
      "191/191 [==============================] - 6s 30ms/step - loss: 0.5647 - accuracy: 0.7488 - precision_48: 0.8468 - recall_48: 0.4918 - auc_48: 0.8362 - binary_accuracy: 0.7488 - val_loss: 0.6400 - val_accuracy: 0.6205 - val_precision_48: 0.7787 - val_recall_48: 0.2581 - val_auc_48: 0.7324 - val_binary_accuracy: 0.6205\n",
      "Epoch 8/30\n",
      "191/191 [==============================] - 6s 30ms/step - loss: 0.5350 - accuracy: 0.7691 - precision_48: 0.8453 - recall_48: 0.5523 - auc_48: 0.8439 - binary_accuracy: 0.7691 - val_loss: 0.6228 - val_accuracy: 0.6802 - val_precision_48: 0.7322 - val_recall_48: 0.4937 - val_auc_48: 0.7433 - val_binary_accuracy: 0.6802\n",
      "Epoch 9/30\n",
      "191/191 [==============================] - 6s 31ms/step - loss: 0.5081 - accuracy: 0.7920 - precision_48: 0.8315 - recall_48: 0.6339 - auc_48: 0.8508 - binary_accuracy: 0.7920 - val_loss: 0.6104 - val_accuracy: 0.6980 - val_precision_48: 0.7336 - val_recall_48: 0.5515 - val_auc_48: 0.7529 - val_binary_accuracy: 0.6980\n",
      "Epoch 10/30\n",
      "191/191 [==============================] - 6s 32ms/step - loss: 0.4827 - accuracy: 0.7997 - precision_48: 0.8214 - recall_48: 0.6694 - auc_48: 0.8587 - binary_accuracy: 0.7997 - val_loss: 0.5977 - val_accuracy: 0.7019 - val_precision_48: 0.7107 - val_recall_48: 0.6065 - val_auc_48: 0.7619 - val_binary_accuracy: 0.7019\n",
      "Epoch 11/30\n",
      "191/191 [==============================] - 6s 34ms/step - loss: 0.4635 - accuracy: 0.8095 - precision_48: 0.8236 - recall_48: 0.6963 - auc_48: 0.8646 - binary_accuracy: 0.8095 - val_loss: 0.5859 - val_accuracy: 0.7249 - val_precision_48: 0.7259 - val_recall_48: 0.6573 - val_auc_48: 0.7709 - val_binary_accuracy: 0.7249\n",
      "Epoch 12/30\n",
      "191/191 [==============================] - 6s 31ms/step - loss: 0.4474 - accuracy: 0.8136 - precision_48: 0.8161 - recall_48: 0.7190 - auc_48: 0.8700 - binary_accuracy: 0.8136 - val_loss: 0.5756 - val_accuracy: 0.7301 - val_precision_48: 0.7285 - val_recall_48: 0.6700 - val_auc_48: 0.7793 - val_binary_accuracy: 0.7301\n",
      "Epoch 13/30\n",
      "191/191 [==============================] - 6s 31ms/step - loss: 0.4347 - accuracy: 0.8156 - precision_48: 0.8141 - recall_48: 0.7279 - auc_48: 0.8753 - binary_accuracy: 0.8156 - val_loss: 0.5686 - val_accuracy: 0.7209 - val_precision_48: 0.7046 - val_recall_48: 0.6897 - val_auc_48: 0.7863 - val_binary_accuracy: 0.7209\n",
      "Epoch 14/30\n",
      "191/191 [==============================] - 6s 30ms/step - loss: 0.4242 - accuracy: 0.8207 - precision_48: 0.8176 - recall_48: 0.7385 - auc_48: 0.8803 - binary_accuracy: 0.8207 - val_loss: 0.5625 - val_accuracy: 0.7183 - val_precision_48: 0.6955 - val_recall_48: 0.7024 - val_auc_48: 0.7924 - val_binary_accuracy: 0.7183\n",
      "Epoch 15/30\n",
      "191/191 [==============================] - 6s 32ms/step - loss: 0.4147 - accuracy: 0.8259 - precision_48: 0.8215 - recall_48: 0.7490 - auc_48: 0.8850 - binary_accuracy: 0.8259 - val_loss: 0.5557 - val_accuracy: 0.7249 - val_precision_48: 0.7019 - val_recall_48: 0.7109 - val_auc_48: 0.7987 - val_binary_accuracy: 0.7249\n",
      "Epoch 16/30\n",
      "191/191 [==============================] - 7s 35ms/step - loss: 0.4053 - accuracy: 0.8255 - precision_48: 0.8188 - recall_48: 0.7514 - auc_48: 0.8903 - binary_accuracy: 0.8255 - val_loss: 0.5489 - val_accuracy: 0.7249 - val_precision_48: 0.6986 - val_recall_48: 0.7193 - val_auc_48: 0.8058 - val_binary_accuracy: 0.7249\n",
      "Epoch 17/30\n",
      "191/191 [==============================] - 6s 31ms/step - loss: 0.3955 - accuracy: 0.8320 - precision_48: 0.8273 - recall_48: 0.7592 - auc_48: 0.8954 - binary_accuracy: 0.8320 - val_loss: 0.5462 - val_accuracy: 0.7334 - val_precision_48: 0.6975 - val_recall_48: 0.7546 - val_auc_48: 0.8114 - val_binary_accuracy: 0.7334\n",
      "Epoch 18/30\n",
      "191/191 [==============================] - 6s 31ms/step - loss: 0.3927 - accuracy: 0.8342 - precision_48: 0.8261 - recall_48: 0.7674 - auc_48: 0.8967 - binary_accuracy: 0.8342 - val_loss: 0.5415 - val_accuracy: 0.7367 - val_precision_48: 0.6985 - val_recall_48: 0.7645 - val_auc_48: 0.8161 - val_binary_accuracy: 0.7367\n",
      "Epoch 19/30\n",
      "191/191 [==============================] - 6s 31ms/step - loss: 0.3830 - accuracy: 0.8363 - precision_48: 0.8320 - recall_48: 0.7654 - auc_48: 0.9021 - binary_accuracy: 0.8363 - val_loss: 0.5399 - val_accuracy: 0.7393 - val_precision_48: 0.6955 - val_recall_48: 0.7828 - val_auc_48: 0.8208 - val_binary_accuracy: 0.7393\n",
      "Epoch 20/30\n",
      "191/191 [==============================] - 6s 32ms/step - loss: 0.3790 - accuracy: 0.8358 - precision_48: 0.8295 - recall_48: 0.7674 - auc_48: 0.9043 - binary_accuracy: 0.8358 - val_loss: 0.5386 - val_accuracy: 0.7387 - val_precision_48: 0.6908 - val_recall_48: 0.7941 - val_auc_48: 0.8250 - val_binary_accuracy: 0.7387\n",
      "Epoch 21/30\n",
      "191/191 [==============================] - 7s 35ms/step - loss: 0.3735 - accuracy: 0.8414 - precision_48: 0.8376 - recall_48: 0.7728 - auc_48: 0.9066 - binary_accuracy: 0.8414 - val_loss: 0.5320 - val_accuracy: 0.7446 - val_precision_48: 0.6980 - val_recall_48: 0.7955 - val_auc_48: 0.8278 - val_binary_accuracy: 0.7446\n",
      "Epoch 22/30\n",
      "191/191 [==============================] - 6s 32ms/step - loss: 0.3657 - accuracy: 0.8435 - precision_48: 0.8385 - recall_48: 0.7779 - auc_48: 0.9105 - binary_accuracy: 0.8435 - val_loss: 0.5192 - val_accuracy: 0.7518 - val_precision_48: 0.7152 - val_recall_48: 0.7757 - val_auc_48: 0.8320 - val_binary_accuracy: 0.7518\n",
      "Epoch 23/30\n",
      "191/191 [==============================] - 6s 32ms/step - loss: 0.3628 - accuracy: 0.8458 - precision_48: 0.8461 - recall_48: 0.7744 - auc_48: 0.9118 - binary_accuracy: 0.8458 - val_loss: 0.5314 - val_accuracy: 0.7459 - val_precision_48: 0.6959 - val_recall_48: 0.8068 - val_auc_48: 0.8342 - val_binary_accuracy: 0.7459\n",
      "Epoch 24/30\n",
      "191/191 [==============================] - 6s 32ms/step - loss: 0.3577 - accuracy: 0.8499 - precision_48: 0.8503 - recall_48: 0.7806 - auc_48: 0.9139 - binary_accuracy: 0.8499 - val_loss: 0.5232 - val_accuracy: 0.7492 - val_precision_48: 0.6996 - val_recall_48: 0.8082 - val_auc_48: 0.8374 - val_binary_accuracy: 0.7492\n",
      "Epoch 25/30\n",
      "191/191 [==============================] - 6s 32ms/step - loss: 0.3516 - accuracy: 0.8504 - precision_48: 0.8496 - recall_48: 0.7830 - auc_48: 0.9171 - binary_accuracy: 0.8504 - val_loss: 0.5122 - val_accuracy: 0.7564 - val_precision_48: 0.7139 - val_recall_48: 0.7955 - val_auc_48: 0.8407 - val_binary_accuracy: 0.7564\n",
      "Epoch 26/30\n",
      "191/191 [==============================] - 7s 37ms/step - loss: 0.3480 - accuracy: 0.8616 - precision_48: 0.8616 - recall_48: 0.7994 - auc_48: 0.9181 - binary_accuracy: 0.8616 - val_loss: 0.5027 - val_accuracy: 0.7577 - val_precision_48: 0.7243 - val_recall_48: 0.7743 - val_auc_48: 0.8428 - val_binary_accuracy: 0.7577\n",
      "Epoch 27/30\n",
      "191/191 [==============================] - 6s 31ms/step - loss: 0.3454 - accuracy: 0.8544 - precision_48: 0.8615 - recall_48: 0.7791 - auc_48: 0.9197 - binary_accuracy: 0.8544 - val_loss: 0.5283 - val_accuracy: 0.7459 - val_precision_48: 0.6903 - val_recall_48: 0.8237 - val_auc_48: 0.8430 - val_binary_accuracy: 0.7459\n",
      "Epoch 28/30\n",
      "191/191 [==============================] - 6s 31ms/step - loss: 0.3394 - accuracy: 0.8575 - precision_48: 0.8586 - recall_48: 0.7916 - auc_48: 0.9231 - binary_accuracy: 0.8575 - val_loss: 0.5108 - val_accuracy: 0.7571 - val_precision_48: 0.7100 - val_recall_48: 0.8082 - val_auc_48: 0.8453 - val_binary_accuracy: 0.7571\n",
      "Epoch 29/30\n",
      "191/191 [==============================] - 6s 32ms/step - loss: 0.3406 - accuracy: 0.8581 - precision_48: 0.8597 - recall_48: 0.7920 - auc_48: 0.9222 - binary_accuracy: 0.8581 - val_loss: 0.5241 - val_accuracy: 0.7472 - val_precision_48: 0.6933 - val_recall_48: 0.8195 - val_auc_48: 0.8444 - val_binary_accuracy: 0.7472\n",
      "Epoch 30/30\n",
      "191/191 [==============================] - 6s 32ms/step - loss: 0.3368 - accuracy: 0.8635 - precision_48: 0.8632 - recall_48: 0.8029 - auc_48: 0.9240 - binary_accuracy: 0.8635 - val_loss: 0.4929 - val_accuracy: 0.7577 - val_precision_48: 0.7267 - val_recall_48: 0.7687 - val_auc_48: 0.8477 - val_binary_accuracy: 0.7577\n",
      "Execution time: 288.2569154490002 seconds\n"
     ]
    }
   ],
   "source": [
    "st = time.process_time()\n",
    "simpleRNN_stats = simpleRNN_model.fit(X_train, y_train, epochs = 30, batch_size=32, verbose = 1, shuffle=True, validation_split=0.2)\n",
    "et = time.process_time()\n",
    "res = et - st\n",
    "print('Execution time:', et - st, 'seconds')"
   ]
  },
  {
   "cell_type": "code",
   "execution_count": 13,
   "metadata": {
    "execution": {
     "iopub.execute_input": "2023-08-05T16:24:53.464206Z",
     "iopub.status.busy": "2023-08-05T16:24:53.463830Z",
     "iopub.status.idle": "2023-08-05T16:24:53.482181Z",
     "shell.execute_reply": "2023-08-05T16:24:53.480860Z",
     "shell.execute_reply.started": "2023-08-05T16:24:53.464170Z"
    }
   },
   "outputs": [],
   "source": [
    "def visualize_stats(stats,num_epochs):\n",
    "    stats_list = []\n",
    "    \n",
    "    for key, values in stats.history.items():\n",
    "        stats_list.append((key,values))\n",
    "    \n",
    "    num_rows = 2\n",
    "    num_cols = 6\n",
    "    stat_index = 0\n",
    "\n",
    "    fig, axes = plt.subplots(nrows = num_rows, ncols = num_cols, figsize = (15,6))\n",
    "\n",
    "    for i in range(num_rows):\n",
    "        for j in range(num_cols):  \n",
    "            axes[i,j].plot(range(1,num_epochs+1),stats_list[stat_index][1])\n",
    "            axes[i,j].set_title(stats_list[stat_index][0], fontsize=7)\n",
    "            axes[i,j].xaxis.set_tick_params(labelsize=5)\n",
    "            axes[i,j].yaxis.set_tick_params(labelsize=5)\n",
    "            stat_index += 1"
   ]
  },
  {
   "cell_type": "code",
   "execution_count": 79,
   "metadata": {
    "execution": {
     "iopub.execute_input": "2023-08-05T17:55:43.880119Z",
     "iopub.status.busy": "2023-08-05T17:55:43.879661Z",
     "iopub.status.idle": "2023-08-05T17:55:46.208714Z",
     "shell.execute_reply": "2023-08-05T17:55:46.207542Z",
     "shell.execute_reply.started": "2023-08-05T17:55:43.880083Z"
    }
   },
   "outputs": [
    {
     "data": {
      "image/png": "[encoded data removed]",
      "text/plain": [
       "<Figure size 1500x600 with 12 Axes>"
      ]
     },
     "metadata": {},
     "output_type": "display_data"
    }
   ],
   "source": [
    "visualize_stats(simpleRNN_stats,30)"
   ]
  },
  {
   "cell_type": "markdown",
   "metadata": {},
   "source": [
    "The validation accuracy continues to improve through about 25 epochs of training.  Recall also begins to flatten out about then, while the precision begins to decrease about about 5 epochs.  The validation loss decreases to about .5.  Overall accuracy peaks at about .75.  \n",
    "\n",
    "|Metric|Training|Validation|\n",
    "|:----|:--------:|:--------:|\n",
    "|Loss | 0.3368 | 0.4929 |\n",
    "|Accuracy | 0.8635 | 0.7577 |\n",
    "|Precision | 0.8632 | 0.7267 | \n",
    "|Recall | 0.8029 | 0.7687 |\n",
    "|AUC | 0.9240 | 0.8477 | "
   ]
  },
  {
   "cell_type": "code",
   "execution_count": 83,
   "metadata": {
    "execution": {
     "iopub.execute_input": "2023-08-05T18:23:54.011078Z",
     "iopub.status.busy": "2023-08-05T18:23:54.010694Z",
     "iopub.status.idle": "2023-08-05T18:23:54.015869Z",
     "shell.execute_reply": "2023-08-05T18:23:54.014916Z",
     "shell.execute_reply.started": "2023-08-05T18:23:54.011048Z"
    }
   },
   "outputs": [],
   "source": [
    "# This function is to assign binary classes to the continuous sigmoid outputs\n",
    "\n",
    "def assign_binary_class(a):\n",
    "    if a > .5:\n",
    "        return 1\n",
    "    else:\n",
    "        return 0"
   ]
  },
  {
   "cell_type": "code",
   "execution_count": 113,
   "metadata": {
    "execution": {
     "iopub.execute_input": "2023-08-05T18:57:57.094153Z",
     "iopub.status.busy": "2023-08-05T18:57:57.093213Z",
     "iopub.status.idle": "2023-08-05T18:57:57.791225Z",
     "shell.execute_reply": "2023-08-05T18:57:57.790216Z",
     "shell.execute_reply.started": "2023-08-05T18:57:57.094108Z"
    }
   },
   "outputs": [
    {
     "name": "stdout",
     "output_type": "stream",
     "text": [
      "102/102 [==============================] - 0s 3ms/step\n"
     ]
    }
   ],
   "source": [
    "simpleRNN_predictions = simpleRNN_model.predict(X_test)\n",
    "simpleRNN_pred_binary = np.apply_along_axis(assign_binary_class, 1, simpleRNN_predictions)"
   ]
  },
  {
   "cell_type": "code",
   "execution_count": 114,
   "metadata": {
    "execution": {
     "iopub.execute_input": "2023-08-05T18:58:01.553001Z",
     "iopub.status.busy": "2023-08-05T18:58:01.552632Z",
     "iopub.status.idle": "2023-08-05T18:58:01.558994Z",
     "shell.execute_reply": "2023-08-05T18:58:01.557887Z",
     "shell.execute_reply.started": "2023-08-05T18:58:01.552971Z"
    }
   },
   "outputs": [],
   "source": [
    "simpleRNN_submission = submission_df.copy()\n",
    "simpleRNN_submission[\"target\"] = simpleRNN_pred_binary"
   ]
  },
  {
   "cell_type": "code",
   "execution_count": 115,
   "metadata": {
    "execution": {
     "iopub.execute_input": "2023-08-05T18:58:04.895412Z",
     "iopub.status.busy": "2023-08-05T18:58:04.895018Z",
     "iopub.status.idle": "2023-08-05T18:58:04.910702Z",
     "shell.execute_reply": "2023-08-05T18:58:04.909424Z",
     "shell.execute_reply.started": "2023-08-05T18:58:04.895382Z"
    }
   },
   "outputs": [],
   "source": [
    "simpleRNN_submission.to_csv('/kaggle/working/simpleRNN_submission.csv', index=False)"
   ]
  },
  {
   "attachments": {
    "68c1cfb8-28c5-4a28-9182-64fcf5a6bd95.png": {
     "image/png": "[encoded data removed]"
    }
   },
   "cell_type": "markdown",
   "metadata": {},
   "source": [
    "![image.png](attachment:68c1cfb8-28c5-4a28-9182-64fcf5a6bd95.png)"
   ]
  },
  {
   "cell_type": "markdown",
   "metadata": {},
   "source": [
    "Using the SimpleRNN model, I was able to achieve a Kaggle competition score of about .77.  I will now attempt to use other RNN models to improve on this performance."
   ]
  },
  {
   "cell_type": "markdown",
   "metadata": {},
   "source": [
    "# Long Short-Term Memory (LSTM\n",
    "\n",
    "Long Short-Term Memory uses more complex layer units which allow greater ability to control how much memory or past information should be applied later in the layer.  However, in doing so it uses more parameters, which may make it more intensive to train.  However, with the small amount of data to train on, I'm not very concerned.  We will begin by using Gridsearch to determine the optimal number of units in the LSTM layer."
   ]
  },
  {
   "cell_type": "code",
   "execution_count": 14,
   "metadata": {
    "execution": {
     "iopub.execute_input": "2023-08-04T00:20:32.594948Z",
     "iopub.status.busy": "2023-08-04T00:20:32.594230Z",
     "iopub.status.idle": "2023-08-04T00:20:32.602010Z",
     "shell.execute_reply": "2023-08-04T00:20:32.600900Z",
     "shell.execute_reply.started": "2023-08-04T00:20:32.594915Z"
    }
   },
   "outputs": [],
   "source": [
    "def create_LSTM(units):\n",
    "    model = Sequential()\n",
    "    model.add(LSTM(units=units, input_shape=(19,1)))\n",
    "    model.add(Dense(1, activation='sigmoid'))\n",
    "    model.compile(loss='binary_crossentropy', metrics=[\"accuracy\", tf.keras.metrics.Precision(),tf.keras.metrics.Recall(),tf.keras.metrics.AUC(),tf.keras.metrics.BinaryAccuracy()])\n",
    "    return model"
   ]
  },
  {
   "cell_type": "code",
   "execution_count": 15,
   "metadata": {
    "execution": {
     "iopub.execute_input": "2023-08-04T00:20:37.101857Z",
     "iopub.status.busy": "2023-08-04T00:20:37.101478Z",
     "iopub.status.idle": "2023-08-04T00:22:24.091915Z",
     "shell.execute_reply": "2023-08-04T00:22:24.091105Z",
     "shell.execute_reply.started": "2023-08-04T00:20:37.101810Z"
    }
   },
   "outputs": [],
   "source": [
    "LSTM_model = KerasClassifier(model=create_LSTM, optimizer=\"Adam\", batch_size=32, epochs = 3, verbose=0)\n",
    "param_grid = dict(model__units=[32, 64, 128, 256, 512])\n",
    "grid = GridSearchCV(estimator=LSTM_model, param_grid=param_grid, cv=3)\n",
    "grid_result = grid.fit(X_train, y_train)\n"
   ]
  },
  {
   "cell_type": "code",
   "execution_count": 16,
   "metadata": {
    "execution": {
     "iopub.execute_input": "2023-08-04T00:22:33.554635Z",
     "iopub.status.busy": "2023-08-04T00:22:33.554267Z",
     "iopub.status.idle": "2023-08-04T00:22:33.562419Z",
     "shell.execute_reply": "2023-08-04T00:22:33.561337Z",
     "shell.execute_reply.started": "2023-08-04T00:22:33.554605Z"
    }
   },
   "outputs": [
    {
     "name": "stdout",
     "output_type": "stream",
     "text": [
      "{'model__units': 32}\n",
      "0.6016063908993236\n"
     ]
    }
   ],
   "source": [
    "print(grid_result.best_params_)\n",
    "print(grid_result.best_score_)"
   ]
  },
  {
   "cell_type": "markdown",
   "metadata": {},
   "source": [
    "We will use 32 units in the LSTM layer.  Now we will check to find the optimal output dimension of the embedding layer.  In the previous model, there were large gains in accuracy when the Embedding layer was applied, so I assume the same will occur in this instance.  "
   ]
  },
  {
   "cell_type": "code",
   "execution_count": 17,
   "metadata": {
    "execution": {
     "iopub.execute_input": "2023-08-04T00:25:20.281420Z",
     "iopub.status.busy": "2023-08-04T00:25:20.280716Z",
     "iopub.status.idle": "2023-08-04T00:25:20.288069Z",
     "shell.execute_reply": "2023-08-04T00:25:20.287065Z",
     "shell.execute_reply.started": "2023-08-04T00:25:20.281386Z"
    }
   },
   "outputs": [],
   "source": [
    "def create_LSTM(output_dim):\n",
    "    model = Sequential()\n",
    "    model.add(Embedding(3000, output_dim=output_dim, input_length = 19))\n",
    "    model.add(LSTM(units=32))\n",
    "    model.add(Dense(1, activation='sigmoid'))\n",
    "    model.compile(loss='binary_crossentropy', metrics=[\"accuracy\", tf.keras.metrics.Precision(),tf.keras.metrics.Recall(),tf.keras.metrics.AUC(),tf.keras.metrics.BinaryAccuracy()])\n",
    "    return model"
   ]
  },
  {
   "cell_type": "code",
   "execution_count": 18,
   "metadata": {
    "execution": {
     "iopub.execute_input": "2023-08-04T00:25:23.569941Z",
     "iopub.status.busy": "2023-08-04T00:25:23.569559Z",
     "iopub.status.idle": "2023-08-04T00:31:00.782399Z",
     "shell.execute_reply": "2023-08-04T00:31:00.781238Z",
     "shell.execute_reply.started": "2023-08-04T00:25:23.569910Z"
    }
   },
   "outputs": [],
   "source": [
    "LSTM_model = KerasClassifier(model=create_LSTM, optimizer=\"Adam\", batch_size=32, epochs = 3, verbose=0)\n",
    "param_grid = dict(model__output_dim=[32, 64, 128, 256, 512])\n",
    "grid = GridSearchCV(estimator=LSTM_model, param_grid=param_grid, cv=3)\n",
    "grid_result = grid.fit(X_train, y_train)"
   ]
  },
  {
   "cell_type": "code",
   "execution_count": 19,
   "metadata": {
    "execution": {
     "iopub.execute_input": "2023-08-04T00:31:06.520761Z",
     "iopub.status.busy": "2023-08-04T00:31:06.519570Z",
     "iopub.status.idle": "2023-08-04T00:31:06.526691Z",
     "shell.execute_reply": "2023-08-04T00:31:06.525578Z",
     "shell.execute_reply.started": "2023-08-04T00:31:06.520725Z"
    }
   },
   "outputs": [
    {
     "name": "stdout",
     "output_type": "stream",
     "text": [
      "{'model__output_dim': 32}\n",
      "0.7376895495394197\n"
     ]
    }
   ],
   "source": [
    "print(grid_result.best_params_)\n",
    "print(grid_result.best_score_)"
   ]
  },
  {
   "cell_type": "markdown",
   "metadata": {},
   "source": [
    "Indeed, adding the embedding layer with a output reduced to 32 units increased performance by over 10%.  Next we will see whether adding additioanl LSTM layers might improve the model at all."
   ]
  },
  {
   "cell_type": "code",
   "execution_count": 22,
   "metadata": {
    "execution": {
     "iopub.execute_input": "2023-08-04T00:35:24.535045Z",
     "iopub.status.busy": "2023-08-04T00:35:24.534552Z",
     "iopub.status.idle": "2023-08-04T00:35:24.542638Z",
     "shell.execute_reply": "2023-08-04T00:35:24.541483Z",
     "shell.execute_reply.started": "2023-08-04T00:35:24.535007Z"
    }
   },
   "outputs": [],
   "source": [
    "def create_LSTM(units):\n",
    "    model = Sequential()\n",
    "    model.add(Embedding(3000, output_dim=32, input_length = 19))\n",
    "    model.add(LSTM(units=32, return_sequences=True))\n",
    "    model.add(LSTM(units=units))\n",
    "    model.add(Dense(1, activation='sigmoid'))\n",
    "    model.compile(loss='binary_crossentropy', metrics=[\"accuracy\", tf.keras.metrics.Precision(),tf.keras.metrics.Recall(),tf.keras.metrics.AUC(),tf.keras.metrics.BinaryAccuracy()])\n",
    "    return model"
   ]
  },
  {
   "cell_type": "code",
   "execution_count": 23,
   "metadata": {
    "execution": {
     "iopub.execute_input": "2023-08-04T00:35:27.631171Z",
     "iopub.status.busy": "2023-08-04T00:35:27.630770Z",
     "iopub.status.idle": "2023-08-04T00:41:07.315090Z",
     "shell.execute_reply": "2023-08-04T00:41:07.313919Z",
     "shell.execute_reply.started": "2023-08-04T00:35:27.631141Z"
    }
   },
   "outputs": [],
   "source": [
    "LSTM_model = KerasClassifier(model=create_LSTM, optimizer=\"Adam\", batch_size=32, epochs = 3, verbose=0)\n",
    "param_grid = dict(model__units=[32, 64, 128, 256, 512])\n",
    "grid = GridSearchCV(estimator=LSTM_model, param_grid=param_grid, cv=3)\n",
    "grid_result = grid.fit(X_train, y_train)"
   ]
  },
  {
   "cell_type": "code",
   "execution_count": 24,
   "metadata": {
    "execution": {
     "iopub.execute_input": "2023-08-04T00:41:27.704604Z",
     "iopub.status.busy": "2023-08-04T00:41:27.704227Z",
     "iopub.status.idle": "2023-08-04T00:41:27.710602Z",
     "shell.execute_reply": "2023-08-04T00:41:27.709462Z",
     "shell.execute_reply.started": "2023-08-04T00:41:27.704573Z"
    }
   },
   "outputs": [
    {
     "name": "stdout",
     "output_type": "stream",
     "text": [
      "{'model__units': 256}\n",
      "0.7390032820275163\n"
     ]
    }
   ],
   "source": [
    "print(grid_result.best_params_)\n",
    "print(grid_result.best_score_)"
   ]
  },
  {
   "cell_type": "markdown",
   "metadata": {},
   "source": [
    "There was a slight increase in performance.  I am hesitant to keep the second layer as it is really only a marginal difference.  I will keep it for now, but will likely drop it later in this tuning process."
   ]
  },
  {
   "cell_type": "code",
   "execution_count": 26,
   "metadata": {
    "execution": {
     "iopub.execute_input": "2023-08-04T00:43:53.383278Z",
     "iopub.status.busy": "2023-08-04T00:43:53.382909Z",
     "iopub.status.idle": "2023-08-04T00:43:53.393069Z",
     "shell.execute_reply": "2023-08-04T00:43:53.392026Z",
     "shell.execute_reply.started": "2023-08-04T00:43:53.383248Z"
    }
   },
   "outputs": [],
   "source": [
    "def create_LSTM(dropout):\n",
    "    model = Sequential()\n",
    "    model.add(Embedding(3000, output_dim=32, input_length = 19))\n",
    "    model.add(LSTM(units=32, return_sequences=True, dropout=dropout))\n",
    "    model.add(LSTM(units=256, dropout=dropout))\n",
    "    model.add(Dense(1, activation='sigmoid'))\n",
    "    model.compile(loss='binary_crossentropy', metrics=[\"accuracy\", tf.keras.metrics.Precision(),tf.keras.metrics.Recall(),tf.keras.metrics.AUC(),tf.keras.metrics.BinaryAccuracy()])\n",
    "    return model"
   ]
  },
  {
   "cell_type": "code",
   "execution_count": 27,
   "metadata": {
    "execution": {
     "iopub.execute_input": "2023-08-04T00:43:56.814952Z",
     "iopub.status.busy": "2023-08-04T00:43:56.814562Z",
     "iopub.status.idle": "2023-08-04T00:49:42.849879Z",
     "shell.execute_reply": "2023-08-04T00:49:42.848773Z",
     "shell.execute_reply.started": "2023-08-04T00:43:56.814915Z"
    }
   },
   "outputs": [],
   "source": [
    "LSTM_model = KerasClassifier(model=create_LSTM, optimizer=\"Adam\", batch_size=32, epochs = 3, verbose=0)\n",
    "param_grid = dict(model__dropout=[.1, .2, .3, .4, .5])\n",
    "grid = GridSearchCV(estimator=LSTM_model, param_grid=param_grid, cv=3)\n",
    "grid_result = grid.fit(X_train, y_train)"
   ]
  },
  {
   "cell_type": "code",
   "execution_count": 28,
   "metadata": {
    "execution": {
     "iopub.execute_input": "2023-08-04T00:49:51.385054Z",
     "iopub.status.busy": "2023-08-04T00:49:51.384677Z",
     "iopub.status.idle": "2023-08-04T00:49:51.390858Z",
     "shell.execute_reply": "2023-08-04T00:49:51.389548Z",
     "shell.execute_reply.started": "2023-08-04T00:49:51.385021Z"
    }
   },
   "outputs": [
    {
     "name": "stdout",
     "output_type": "stream",
     "text": [
      "{'model__dropout': 0.5}\n",
      "0.7378216113109898\n"
     ]
    }
   ],
   "source": [
    "print(grid_result.best_params_)\n",
    "print(grid_result.best_score_)"
   ]
  },
  {
   "cell_type": "markdown",
   "metadata": {},
   "source": [
    "Add dropouts in the LSTM layers did not improve performance at all.  Now we will see if recurrent dropout helps at all."
   ]
  },
  {
   "cell_type": "code",
   "execution_count": 29,
   "metadata": {
    "execution": {
     "iopub.execute_input": "2023-08-04T00:50:29.469782Z",
     "iopub.status.busy": "2023-08-04T00:50:29.469399Z",
     "iopub.status.idle": "2023-08-04T00:50:29.477615Z",
     "shell.execute_reply": "2023-08-04T00:50:29.476275Z",
     "shell.execute_reply.started": "2023-08-04T00:50:29.469751Z"
    }
   },
   "outputs": [],
   "source": [
    "def create_LSTM(recurrent_dropout):\n",
    "    model = Sequential()\n",
    "    model.add(Embedding(3000, output_dim=32, input_length = 19))\n",
    "    model.add(LSTM(units=32, return_sequences=True, recurrent_dropout=recurrent_dropout))\n",
    "    model.add(LSTM(units=256, recurrent_dropout=recurrent_dropout))\n",
    "    model.add(Dense(1, activation='sigmoid'))\n",
    "    model.compile(loss='binary_crossentropy', metrics=[\"accuracy\", tf.keras.metrics.Precision(),tf.keras.metrics.Recall(),tf.keras.metrics.AUC(),tf.keras.metrics.BinaryAccuracy()])\n",
    "    return model"
   ]
  },
  {
   "cell_type": "code",
   "execution_count": 30,
   "metadata": {
    "execution": {
     "iopub.execute_input": "2023-08-04T00:50:32.874380Z",
     "iopub.status.busy": "2023-08-04T00:50:32.873933Z",
     "iopub.status.idle": "2023-08-04T01:13:46.532213Z",
     "shell.execute_reply": "2023-08-04T01:13:46.531099Z",
     "shell.execute_reply.started": "2023-08-04T00:50:32.874345Z"
    }
   },
   "outputs": [],
   "source": [
    "LSTM_model = KerasClassifier(model=create_LSTM, optimizer=\"Adam\", batch_size=32, epochs = 3, verbose=0)\n",
    "param_grid = dict(model__recurrent_dropout=[.1, .2, .3, .4, .5])\n",
    "grid = GridSearchCV(estimator=LSTM_model, param_grid=param_grid, cv=3)\n",
    "grid_result = grid.fit(X_train, y_train)"
   ]
  },
  {
   "cell_type": "code",
   "execution_count": 31,
   "metadata": {
    "execution": {
     "iopub.execute_input": "2023-08-04T01:23:22.467152Z",
     "iopub.status.busy": "2023-08-04T01:23:22.466517Z",
     "iopub.status.idle": "2023-08-04T01:23:22.473352Z",
     "shell.execute_reply": "2023-08-04T01:23:22.472296Z",
     "shell.execute_reply.started": "2023-08-04T01:23:22.467113Z"
    }
   },
   "outputs": [
    {
     "name": "stdout",
     "output_type": "stream",
     "text": [
      "{'model__recurrent_dropout': 0.5}\n",
      "0.7245548648585127\n"
     ]
    }
   ],
   "source": [
    "print(grid_result.best_params_)\n",
    "print(grid_result.best_score_)"
   ]
  },
  {
   "cell_type": "markdown",
   "metadata": {},
   "source": [
    "The recurrent dropout does not help.  However, I might attempt this again later in the tuning process."
   ]
  },
  {
   "cell_type": "code",
   "execution_count": 34,
   "metadata": {
    "execution": {
     "iopub.execute_input": "2023-08-04T01:24:08.044474Z",
     "iopub.status.busy": "2023-08-04T01:24:08.044099Z",
     "iopub.status.idle": "2023-08-04T01:24:08.052144Z",
     "shell.execute_reply": "2023-08-04T01:24:08.051039Z",
     "shell.execute_reply.started": "2023-08-04T01:24:08.044443Z"
    }
   },
   "outputs": [],
   "source": [
    "def create_LSTM():\n",
    "    model = Sequential()\n",
    "    model.add(Embedding(3000, output_dim=32, input_length = 19))\n",
    "    model.add(LSTM(units=32, return_sequences=True))\n",
    "    model.add(LSTM(units=256))\n",
    "    model.add(Dense(1, activation='sigmoid'))\n",
    "    model.compile(loss='binary_crossentropy', metrics=[\"accuracy\", tf.keras.metrics.Precision(),tf.keras.metrics.Recall(),tf.keras.metrics.AUC(),tf.keras.metrics.BinaryAccuracy()])\n",
    "    return model"
   ]
  },
  {
   "cell_type": "code",
   "execution_count": 35,
   "metadata": {
    "execution": {
     "iopub.execute_input": "2023-08-04T01:24:10.996184Z",
     "iopub.status.busy": "2023-08-04T01:24:10.995793Z",
     "iopub.status.idle": "2023-08-04T01:32:11.310960Z",
     "shell.execute_reply": "2023-08-04T01:32:11.309893Z",
     "shell.execute_reply.started": "2023-08-04T01:24:10.996155Z"
    }
   },
   "outputs": [],
   "source": [
    "LSTM_model = KerasClassifier(model=create_LSTM, batch_size=32, epochs = 3, verbose=0)\n",
    "param_grid = dict(optimizer=['SGD', 'RMSprop', 'Adagrad', 'Adadelta', 'Adam', 'Adamax', 'Nadam'])\n",
    "grid = GridSearchCV(estimator=LSTM_model, param_grid=param_grid, cv=3)\n",
    "grid_result = grid.fit(X_train, y_train)"
   ]
  },
  {
   "cell_type": "code",
   "execution_count": 36,
   "metadata": {
    "execution": {
     "iopub.execute_input": "2023-08-04T02:06:00.585150Z",
     "iopub.status.busy": "2023-08-04T02:06:00.580755Z",
     "iopub.status.idle": "2023-08-04T02:06:00.596126Z",
     "shell.execute_reply": "2023-08-04T02:06:00.593247Z",
     "shell.execute_reply.started": "2023-08-04T02:06:00.585094Z"
    }
   },
   "outputs": [
    {
     "name": "stdout",
     "output_type": "stream",
     "text": [
      "{'optimizer': 'Adam'}\n",
      "0.7387413845354062\n"
     ]
    }
   ],
   "source": [
    "print(grid_result.best_params_)\n",
    "print(grid_result.best_score_)"
   ]
  },
  {
   "cell_type": "markdown",
   "metadata": {},
   "source": [
    "The best optimzer in this case is Adam.  Next I will check how performance changes over each epoch.  This will help to determine whether there is a need to change the learning rate or other parameters.  "
   ]
  },
  {
   "cell_type": "code",
   "execution_count": 34,
   "metadata": {
    "execution": {
     "iopub.execute_input": "2023-08-05T14:59:04.222084Z",
     "iopub.status.busy": "2023-08-05T14:59:04.221703Z",
     "iopub.status.idle": "2023-08-05T14:59:04.782213Z",
     "shell.execute_reply": "2023-08-05T14:59:04.781439Z",
     "shell.execute_reply.started": "2023-08-05T14:59:04.222054Z"
    }
   },
   "outputs": [
    {
     "name": "stdout",
     "output_type": "stream",
     "text": [
      "Model: \"sequential_5\"\n",
      "_________________________________________________________________\n",
      " Layer (type)                Output Shape              Param #   \n",
      "=================================================================\n",
      " embedding_5 (Embedding)     (None, 19, 32)            96000     \n",
      "                                                                 \n",
      " lstm_9 (LSTM)               (None, 19, 32)            8320      \n",
      "                                                                 \n",
      " lstm_10 (LSTM)              (None, 256)               295936    \n",
      "                                                                 \n",
      " dense_5 (Dense)             (None, 1)                 257       \n",
      "                                                                 \n",
      "=================================================================\n",
      "Total params: 400,513\n",
      "Trainable params: 400,513\n",
      "Non-trainable params: 0\n",
      "_________________________________________________________________\n"
     ]
    }
   ],
   "source": [
    "LSTM_model = Sequential()\n",
    "LSTM_model.add(Embedding(3000, output_dim=32, input_length = 19))\n",
    "LSTM_model.add(LSTM(units=32, return_sequences=True))\n",
    "LSTM_model.add(LSTM(units=256))\n",
    "LSTM_model.add(Dense(1, activation='sigmoid'))\n",
    "LSTM_model.compile(loss='binary_crossentropy', optimizer='Adam', metrics=[\"accuracy\", tf.keras.metrics.Precision(),tf.keras.metrics.Recall(),tf.keras.metrics.AUC(),tf.keras.metrics.BinaryAccuracy()])\n",
    "LSTM_model.summary()"
   ]
  },
  {
   "cell_type": "code",
   "execution_count": 35,
   "metadata": {
    "execution": {
     "iopub.execute_input": "2023-08-05T14:59:08.118676Z",
     "iopub.status.busy": "2023-08-05T14:59:08.118268Z",
     "iopub.status.idle": "2023-08-05T14:59:52.363042Z",
     "shell.execute_reply": "2023-08-05T14:59:52.362115Z",
     "shell.execute_reply.started": "2023-08-05T14:59:08.118643Z"
    }
   },
   "outputs": [
    {
     "name": "stdout",
     "output_type": "stream",
     "text": [
      "Epoch 1/10\n",
      "191/191 [==============================] - 16s 63ms/step - loss: 0.5590 - accuracy: 0.7135 - precision_5: 0.7903 - recall_5: 0.4340 - auc_5: 0.7672 - binary_accuracy: 0.7135 - val_loss: 0.4653 - val_accuracy: 0.7925 - val_precision_5: 0.8673 - val_recall_5: 0.6544 - val_auc_5: 0.8525 - val_binary_accuracy: 0.7925\n",
      "Epoch 2/10\n",
      "191/191 [==============================] - 4s 22ms/step - loss: 0.3809 - accuracy: 0.8361 - precision_5: 0.8519 - recall_5: 0.7389 - auc_5: 0.8999 - binary_accuracy: 0.8361 - val_loss: 0.4523 - val_accuracy: 0.7892 - val_precision_5: 0.8012 - val_recall_5: 0.7278 - val_auc_5: 0.8573 - val_binary_accuracy: 0.7892\n",
      "Epoch 3/10\n",
      "191/191 [==============================] - 3s 17ms/step - loss: 0.3287 - accuracy: 0.8616 - precision_5: 0.8742 - recall_5: 0.7838 - auc_5: 0.9259 - binary_accuracy: 0.8616 - val_loss: 0.4696 - val_accuracy: 0.7827 - val_precision_5: 0.7953 - val_recall_5: 0.7179 - val_auc_5: 0.8501 - val_binary_accuracy: 0.7827\n",
      "Epoch 4/10\n",
      "191/191 [==============================] - 2s 13ms/step - loss: 0.2979 - accuracy: 0.8762 - precision_5: 0.8877 - recall_5: 0.8080 - auc_5: 0.9392 - binary_accuracy: 0.8762 - val_loss: 0.5255 - val_accuracy: 0.7728 - val_precision_5: 0.7597 - val_recall_5: 0.7489 - val_auc_5: 0.8449 - val_binary_accuracy: 0.7728\n",
      "Epoch 5/10\n",
      "191/191 [==============================] - 2s 12ms/step - loss: 0.2711 - accuracy: 0.8872 - precision_5: 0.8981 - recall_5: 0.8255 - auc_5: 0.9500 - binary_accuracy: 0.8872 - val_loss: 0.5818 - val_accuracy: 0.7459 - val_precision_5: 0.7118 - val_recall_5: 0.7630 - val_auc_5: 0.8346 - val_binary_accuracy: 0.7459\n",
      "Epoch 6/10\n",
      "191/191 [==============================] - 2s 13ms/step - loss: 0.2523 - accuracy: 0.8967 - precision_5: 0.9029 - recall_5: 0.8454 - auc_5: 0.9571 - binary_accuracy: 0.8967 - val_loss: 0.5970 - val_accuracy: 0.7538 - val_precision_5: 0.7269 - val_recall_5: 0.7546 - val_auc_5: 0.8307 - val_binary_accuracy: 0.7538\n",
      "Epoch 7/10\n",
      "191/191 [==============================] - 3s 15ms/step - loss: 0.2301 - accuracy: 0.9085 - precision_5: 0.9161 - recall_5: 0.8614 - auc_5: 0.9638 - binary_accuracy: 0.9085 - val_loss: 0.6277 - val_accuracy: 0.7551 - val_precision_5: 0.7463 - val_recall_5: 0.7179 - val_auc_5: 0.8278 - val_binary_accuracy: 0.7551\n",
      "Epoch 8/10\n",
      "191/191 [==============================] - 2s 11ms/step - loss: 0.2045 - accuracy: 0.9204 - precision_5: 0.9282 - recall_5: 0.8786 - auc_5: 0.9711 - binary_accuracy: 0.9204 - val_loss: 0.7842 - val_accuracy: 0.7485 - val_precision_5: 0.7349 - val_recall_5: 0.7193 - val_auc_5: 0.8208 - val_binary_accuracy: 0.7485\n",
      "Epoch 9/10\n",
      "191/191 [==============================] - 2s 13ms/step - loss: 0.1832 - accuracy: 0.9315 - precision_5: 0.9419 - recall_5: 0.8923 - auc_5: 0.9766 - binary_accuracy: 0.9315 - val_loss: 1.0283 - val_accuracy: 0.7354 - val_precision_5: 0.6972 - val_recall_5: 0.7630 - val_auc_5: 0.8070 - val_binary_accuracy: 0.7354\n",
      "Epoch 10/10\n",
      "191/191 [==============================] - 2s 11ms/step - loss: 0.1606 - accuracy: 0.9396 - precision_5: 0.9423 - recall_5: 0.9122 - auc_5: 0.9820 - binary_accuracy: 0.9396 - val_loss: 1.0335 - val_accuracy: 0.7269 - val_precision_5: 0.6915 - val_recall_5: 0.7461 - val_auc_5: 0.8029 - val_binary_accuracy: 0.7269\n",
      "Execution time: 46.118119412 seconds\n"
     ]
    }
   ],
   "source": [
    "st = time.process_time()\n",
    "LSTM_stats = LSTM_model.fit(X_train, y_train, epochs = 10, batch_size=32, verbose = 1, shuffle=True, validation_split=0.2)\n",
    "et = time.process_time()\n",
    "res = et - st\n",
    "print('Execution time:', et - st, 'seconds')"
   ]
  },
  {
   "cell_type": "code",
   "execution_count": 36,
   "metadata": {
    "execution": {
     "iopub.execute_input": "2023-08-05T14:59:54.571920Z",
     "iopub.status.busy": "2023-08-05T14:59:54.571479Z",
     "iopub.status.idle": "2023-08-05T14:59:56.805215Z",
     "shell.execute_reply": "2023-08-05T14:59:56.804116Z",
     "shell.execute_reply.started": "2023-08-05T14:59:54.571885Z"
    }
   },
   "outputs": [
    {
     "data": {
      "image/png": "[encoded data removed]",
      "text/plain": [
       "<Figure size 1500x600 with 12 Axes>"
      ]
     },
     "metadata": {},
     "output_type": "display_data"
    }
   ],
   "source": [
    "visualize_stats(LSTM_stats,10)"
   ]
  },
  {
   "cell_type": "markdown",
   "metadata": {},
   "source": [
    "Unfortunately, all of the metrics move in the wrong direction.  I surmise that the learning rate it too high, so I played with different rates to obtain a better performance.  I also found that I could obtain improved performance by removing the second LSTM layer and adding in the recurring drop out.  "
   ]
  },
  {
   "cell_type": "code",
   "execution_count": 117,
   "metadata": {
    "execution": {
     "iopub.execute_input": "2023-08-05T19:00:05.912899Z",
     "iopub.status.busy": "2023-08-05T19:00:05.912144Z",
     "iopub.status.idle": "2023-08-05T19:00:06.089345Z",
     "shell.execute_reply": "2023-08-05T19:00:06.088547Z",
     "shell.execute_reply.started": "2023-08-05T19:00:05.912866Z"
    }
   },
   "outputs": [
    {
     "name": "stdout",
     "output_type": "stream",
     "text": [
      "Model: \"sequential_51\"\n",
      "_________________________________________________________________\n",
      " Layer (type)                Output Shape              Param #   \n",
      "=================================================================\n",
      " embedding_51 (Embedding)    (None, 19, 32)            96000     \n",
      "                                                                 \n",
      " lstm_6 (LSTM)               (None, 32)                8320      \n",
      "                                                                 \n",
      " dense_51 (Dense)            (None, 1)                 33        \n",
      "                                                                 \n",
      "=================================================================\n",
      "Total params: 104,353\n",
      "Trainable params: 104,353\n",
      "Non-trainable params: 0\n",
      "_________________________________________________________________\n"
     ]
    },
    {
     "name": "stderr",
     "output_type": "stream",
     "text": [
      "/opt/conda/lib/python3.10/site-packages/keras/optimizers/legacy/adam.py:117: UserWarning: The `lr` argument is deprecated, use `learning_rate` instead.\n",
      "  super().__init__(name, **kwargs)\n"
     ]
    }
   ],
   "source": [
    "optimizer = keras.optimizers.Adam(lr=0.00005)\n",
    "LSTM_model = Sequential()\n",
    "LSTM_model.add(Embedding(3000, output_dim=32, input_length = 19))\n",
    "LSTM_model.add(LSTM(units=32, recurrent_dropout=.2))\n",
    "LSTM_model.add(Dense(1, activation='sigmoid'))\n",
    "LSTM_model.compile(loss='binary_crossentropy', optimizer=optimizer, metrics=[\"accuracy\", tf.keras.metrics.Precision(),tf.keras.metrics.Recall(),tf.keras.metrics.AUC(),tf.keras.metrics.BinaryAccuracy()])\n",
    "LSTM_model.summary()"
   ]
  },
  {
   "cell_type": "code",
   "execution_count": 61,
   "metadata": {
    "execution": {
     "iopub.execute_input": "2023-08-05T17:33:12.246065Z",
     "iopub.status.busy": "2023-08-05T17:33:12.245704Z",
     "iopub.status.idle": "2023-08-05T17:38:36.640946Z",
     "shell.execute_reply": "2023-08-05T17:38:36.639742Z",
     "shell.execute_reply.started": "2023-08-05T17:33:12.246036Z"
    }
   },
   "outputs": [
    {
     "name": "stdout",
     "output_type": "stream",
     "text": [
      "Epoch 1/20\n",
      "191/191 [==============================] - 19s 86ms/step - loss: 0.6887 - accuracy: 0.5775 - precision_40: 0.4758 - recall_40: 0.0422 - auc_40: 0.5461 - binary_accuracy: 0.5775 - val_loss: 0.6868 - val_accuracy: 0.5345 - val_precision_40: 0.0000e+00 - val_recall_40: 0.0000e+00 - val_auc_40: 0.7024 - val_binary_accuracy: 0.5345\n",
      "Epoch 2/20\n",
      "191/191 [==============================] - 15s 80ms/step - loss: 0.6766 - accuracy: 0.5793 - precision_40: 0.0000e+00 - recall_40: 0.0000e+00 - auc_40: 0.6042 - binary_accuracy: 0.5793 - val_loss: 0.6792 - val_accuracy: 0.5345 - val_precision_40: 0.0000e+00 - val_recall_40: 0.0000e+00 - val_auc_40: 0.7122 - val_binary_accuracy: 0.5345\n",
      "Epoch 3/20\n",
      "191/191 [==============================] - 15s 81ms/step - loss: 0.6643 - accuracy: 0.5793 - precision_40: 0.0000e+00 - recall_40: 0.0000e+00 - auc_40: 0.6788 - binary_accuracy: 0.5793 - val_loss: 0.6733 - val_accuracy: 0.5345 - val_precision_40: 0.0000e+00 - val_recall_40: 0.0000e+00 - val_auc_40: 0.7317 - val_binary_accuracy: 0.5345\n",
      "Epoch 4/20\n",
      "191/191 [==============================] - 15s 78ms/step - loss: 0.6547 - accuracy: 0.5801 - precision_40: 1.0000 - recall_40: 0.0020 - auc_40: 0.7143 - binary_accuracy: 0.5801 - val_loss: 0.6647 - val_accuracy: 0.5371 - val_precision_40: 1.0000 - val_recall_40: 0.0056 - val_auc_40: 0.7523 - val_binary_accuracy: 0.5371\n",
      "Epoch 5/20\n",
      "191/191 [==============================] - 16s 84ms/step - loss: 0.6421 - accuracy: 0.5967 - precision_40: 1.0000 - recall_40: 0.0414 - auc_40: 0.7480 - binary_accuracy: 0.5967 - val_loss: 0.6526 - val_accuracy: 0.5561 - val_precision_40: 1.0000 - val_recall_40: 0.0465 - val_auc_40: 0.7735 - val_binary_accuracy: 0.5561\n",
      "Epoch 6/20\n",
      "191/191 [==============================] - 15s 78ms/step - loss: 0.6256 - accuracy: 0.6328 - precision_40: 0.9939 - recall_40: 0.1280 - auc_40: 0.7797 - binary_accuracy: 0.6328 - val_loss: 0.6383 - val_accuracy: 0.6001 - val_precision_40: 0.9902 - val_recall_40: 0.1425 - val_auc_40: 0.7892 - val_binary_accuracy: 0.6001\n",
      "Epoch 7/20\n",
      "191/191 [==============================] - 16s 86ms/step - loss: 0.6050 - accuracy: 0.6750 - precision_40: 0.9694 - recall_40: 0.2350 - auc_40: 0.8045 - binary_accuracy: 0.6750 - val_loss: 0.6211 - val_accuracy: 0.6671 - val_precision_40: 0.9856 - val_recall_40: 0.2891 - val_auc_40: 0.8049 - val_binary_accuracy: 0.6671\n",
      "Epoch 8/20\n",
      "191/191 [==============================] - 15s 78ms/step - loss: 0.5789 - accuracy: 0.7120 - precision_40: 0.9499 - recall_40: 0.3329 - auc_40: 0.8299 - binary_accuracy: 0.7120 - val_loss: 0.6003 - val_accuracy: 0.7039 - val_precision_40: 0.9542 - val_recall_40: 0.3822 - val_auc_40: 0.8179 - val_binary_accuracy: 0.7039\n",
      "Epoch 9/20\n",
      "191/191 [==============================] - 16s 86ms/step - loss: 0.5491 - accuracy: 0.7563 - precision_40: 0.9285 - recall_40: 0.4559 - auc_40: 0.8497 - binary_accuracy: 0.7563 - val_loss: 0.5761 - val_accuracy: 0.7439 - val_precision_40: 0.9370 - val_recall_40: 0.4824 - val_auc_40: 0.8303 - val_binary_accuracy: 0.7439\n",
      "Epoch 10/20\n",
      "191/191 [==============================] - 15s 79ms/step - loss: 0.5161 - accuracy: 0.7811 - precision_40: 0.9051 - recall_40: 0.5359 - auc_40: 0.8665 - binary_accuracy: 0.7811 - val_loss: 0.5489 - val_accuracy: 0.7649 - val_precision_40: 0.9110 - val_recall_40: 0.5487 - val_auc_40: 0.8416 - val_binary_accuracy: 0.7649\n",
      "Epoch 11/20\n",
      "191/191 [==============================] - 16s 83ms/step - loss: 0.4836 - accuracy: 0.8020 - precision_40: 0.8835 - recall_40: 0.6097 - auc_40: 0.8796 - binary_accuracy: 0.8020 - val_loss: 0.5255 - val_accuracy: 0.7827 - val_precision_40: 0.8735 - val_recall_40: 0.6234 - val_auc_40: 0.8514 - val_binary_accuracy: 0.7827\n",
      "Epoch 12/20\n",
      "191/191 [==============================] - 15s 78ms/step - loss: 0.4522 - accuracy: 0.8131 - precision_40: 0.8607 - recall_40: 0.6632 - auc_40: 0.8900 - binary_accuracy: 0.8131 - val_loss: 0.5082 - val_accuracy: 0.7833 - val_precision_40: 0.8923 - val_recall_40: 0.6079 - val_auc_40: 0.8531 - val_binary_accuracy: 0.7833\n",
      "Epoch 13/20\n",
      "191/191 [==============================] - 17s 87ms/step - loss: 0.4313 - accuracy: 0.8250 - precision_40: 0.8579 - recall_40: 0.6998 - auc_40: 0.8965 - binary_accuracy: 0.8250 - val_loss: 0.4905 - val_accuracy: 0.7912 - val_precision_40: 0.8574 - val_recall_40: 0.6615 - val_auc_40: 0.8570 - val_binary_accuracy: 0.7912\n",
      "Epoch 14/20\n",
      "191/191 [==============================] - 15s 80ms/step - loss: 0.4115 - accuracy: 0.8333 - precision_40: 0.8521 - recall_40: 0.7307 - auc_40: 0.9023 - binary_accuracy: 0.8333 - val_loss: 0.4793 - val_accuracy: 0.7866 - val_precision_40: 0.8243 - val_recall_40: 0.6883 - val_auc_40: 0.8585 - val_binary_accuracy: 0.7866\n",
      "Epoch 15/20\n",
      "191/191 [==============================] - 16s 82ms/step - loss: 0.3949 - accuracy: 0.8383 - precision_40: 0.8503 - recall_40: 0.7471 - auc_40: 0.9070 - binary_accuracy: 0.8383 - val_loss: 0.4733 - val_accuracy: 0.7859 - val_precision_40: 0.8094 - val_recall_40: 0.7066 - val_auc_40: 0.8596 - val_binary_accuracy: 0.7859\n",
      "Epoch 16/20\n",
      "191/191 [==============================] - 15s 79ms/step - loss: 0.3823 - accuracy: 0.8397 - precision_40: 0.8451 - recall_40: 0.7580 - auc_40: 0.9121 - binary_accuracy: 0.8397 - val_loss: 0.4685 - val_accuracy: 0.7846 - val_precision_40: 0.8128 - val_recall_40: 0.6982 - val_auc_40: 0.8596 - val_binary_accuracy: 0.7846\n",
      "Epoch 17/20\n",
      "191/191 [==============================] - 15s 77ms/step - loss: 0.3724 - accuracy: 0.8435 - precision_40: 0.8496 - recall_40: 0.7631 - auc_40: 0.9162 - binary_accuracy: 0.8435 - val_loss: 0.4645 - val_accuracy: 0.7905 - val_precision_40: 0.8155 - val_recall_40: 0.7109 - val_auc_40: 0.8597 - val_binary_accuracy: 0.7905\n",
      "Epoch 18/20\n",
      "191/191 [==============================] - 16s 83ms/step - loss: 0.3630 - accuracy: 0.8512 - precision_40: 0.8569 - recall_40: 0.7760 - auc_40: 0.9197 - binary_accuracy: 0.8512 - val_loss: 0.4639 - val_accuracy: 0.7768 - val_precision_40: 0.7701 - val_recall_40: 0.7419 - val_auc_40: 0.8593 - val_binary_accuracy: 0.7768\n",
      "Epoch 19/20\n",
      "191/191 [==============================] - 15s 79ms/step - loss: 0.3528 - accuracy: 0.8547 - precision_40: 0.8579 - recall_40: 0.7845 - auc_40: 0.9237 - binary_accuracy: 0.8547 - val_loss: 0.4606 - val_accuracy: 0.7925 - val_precision_40: 0.8237 - val_recall_40: 0.7052 - val_auc_40: 0.8585 - val_binary_accuracy: 0.7925\n",
      "Epoch 20/20\n",
      "191/191 [==============================] - 16s 82ms/step - loss: 0.3428 - accuracy: 0.8583 - precision_40: 0.8647 - recall_40: 0.7861 - auc_40: 0.9282 - binary_accuracy: 0.8583 - val_loss: 0.4606 - val_accuracy: 0.7722 - val_precision_40: 0.7662 - val_recall_40: 0.7348 - val_auc_40: 0.8581 - val_binary_accuracy: 0.7722\n",
      "Execution time: 500.23760880699956 seconds\n"
     ]
    }
   ],
   "source": [
    "st = time.process_time()\n",
    "LSTM_stats = LSTM_model.fit(X_train, y_train, epochs = 20, batch_size=32, verbose = 1, shuffle=True, validation_split=0.2)\n",
    "et = time.process_time()\n",
    "res = et - st\n",
    "print('Execution time:', et - st, 'seconds')"
   ]
  },
  {
   "cell_type": "code",
   "execution_count": 62,
   "metadata": {
    "execution": {
     "iopub.execute_input": "2023-08-05T17:38:57.589028Z",
     "iopub.status.busy": "2023-08-05T17:38:57.588644Z",
     "iopub.status.idle": "2023-08-05T17:38:59.916866Z",
     "shell.execute_reply": "2023-08-05T17:38:59.915950Z",
     "shell.execute_reply.started": "2023-08-05T17:38:57.588998Z"
    }
   },
   "outputs": [
    {
     "data": {
      "image/png": "[encoded data removed]",
      "text/plain": [
       "<Figure size 1500x600 with 12 Axes>"
      ]
     },
     "metadata": {},
     "output_type": "display_data"
    }
   ],
   "source": [
    "visualize_stats(LSTM_stats,20)"
   ]
  },
  {
   "cell_type": "markdown",
   "metadata": {},
   "source": [
    "Now there is a much smoother increase in accuracy.  Overall validation accuracy improves to about .8, while the Area Under the Curve reaches about .86.  Recall hits .7 while precision is about .8.  \n",
    "\n",
    "|Metric|Training|Validation|\n",
    "|:----|:--------:|:--------:|\n",
    "|Loss | 0.3528 | 0.460 |\n",
    "|Accuracy | 0.8547 | 0.7925 |\n",
    "|Precision | 0.8579 | 0.8237 | \n",
    "|Recall | 0.7845 | 0.7052 |\n",
    "|AUC | 0.9282 | 0.8585 | \n",
    "\n",
    "From the previous run, the highest validation accuracy occured at 13 epochs, so I will retrain the model with 13 epochs and submit the results to Kaggle"
   ]
  },
  {
   "cell_type": "code",
   "execution_count": 118,
   "metadata": {
    "execution": {
     "iopub.execute_input": "2023-08-05T19:00:28.157679Z",
     "iopub.status.busy": "2023-08-05T19:00:28.157257Z",
     "iopub.status.idle": "2023-08-05T19:05:52.536343Z",
     "shell.execute_reply": "2023-08-05T19:05:52.535259Z",
     "shell.execute_reply.started": "2023-08-05T19:00:28.157650Z"
    }
   },
   "outputs": [
    {
     "name": "stdout",
     "output_type": "stream",
     "text": [
      "Epoch 1/13\n",
      "238/238 [==============================] - 22s 83ms/step - loss: 0.6891 - accuracy: 0.5625 - precision_51: 0.4180 - recall_51: 0.0468 - auc_51: 0.5388 - binary_accuracy: 0.5625\n",
      "Epoch 2/13\n",
      "238/238 [==============================] - 20s 83ms/step - loss: 0.6747 - accuracy: 0.5703 - precision_51: 0.0000e+00 - recall_51: 0.0000e+00 - auc_51: 0.6188 - binary_accuracy: 0.5703\n",
      "Epoch 3/13\n",
      "238/238 [==============================] - 22s 92ms/step - loss: 0.6621 - accuracy: 0.5710 - precision_51: 1.0000 - recall_51: 0.0015 - auc_51: 0.7008 - binary_accuracy: 0.5710\n",
      "Epoch 4/13\n",
      "238/238 [==============================] - 20s 86ms/step - loss: 0.6473 - accuracy: 0.5908 - precision_51: 0.9937 - recall_51: 0.0480 - auc_51: 0.7432 - binary_accuracy: 0.5908\n",
      "Epoch 5/13\n",
      "238/238 [==============================] - 21s 89ms/step - loss: 0.6262 - accuracy: 0.6427 - precision_51: 0.9808 - recall_51: 0.1718 - auc_51: 0.7786 - binary_accuracy: 0.6427\n",
      "Epoch 6/13\n",
      "238/238 [==============================] - 20s 85ms/step - loss: 0.5980 - accuracy: 0.6959 - precision_51: 0.9570 - recall_51: 0.3060 - auc_51: 0.8075 - binary_accuracy: 0.6959\n",
      "Epoch 7/13\n",
      "238/238 [==============================] - 21s 89ms/step - loss: 0.5619 - accuracy: 0.7477 - precision_51: 0.9278 - recall_51: 0.4476 - auc_51: 0.8370 - binary_accuracy: 0.7477\n",
      "Epoch 8/13\n",
      "238/238 [==============================] - 20s 82ms/step - loss: 0.5205 - accuracy: 0.7808 - precision_51: 0.8954 - recall_51: 0.5546 - auc_51: 0.8582 - binary_accuracy: 0.7808\n",
      "Epoch 9/13\n",
      "238/238 [==============================] - 20s 85ms/step - loss: 0.4813 - accuracy: 0.8022 - precision_51: 0.8676 - recall_51: 0.6368 - auc_51: 0.8742 - binary_accuracy: 0.8022\n",
      "Epoch 10/13\n",
      "238/238 [==============================] - 20s 83ms/step - loss: 0.4544 - accuracy: 0.8153 - precision_51: 0.8552 - recall_51: 0.6863 - auc_51: 0.8834 - binary_accuracy: 0.8153\n",
      "Epoch 11/13\n",
      "238/238 [==============================] - 19s 80ms/step - loss: 0.4305 - accuracy: 0.8229 - precision_51: 0.8526 - recall_51: 0.7108 - auc_51: 0.8935 - binary_accuracy: 0.8229\n",
      "Epoch 12/13\n",
      "238/238 [==============================] - 20s 83ms/step - loss: 0.4160 - accuracy: 0.8327 - precision_51: 0.8593 - recall_51: 0.7301 - auc_51: 0.8970 - binary_accuracy: 0.8327\n",
      "Epoch 13/13\n",
      "238/238 [==============================] - 19s 80ms/step - loss: 0.3991 - accuracy: 0.8349 - precision_51: 0.8546 - recall_51: 0.7420 - auc_51: 0.9048 - binary_accuracy: 0.8349\n",
      "Execution time: 420.54116739500023 seconds\n"
     ]
    }
   ],
   "source": [
    "st = time.process_time()\n",
    "LSTM_stats = LSTM_model.fit(X_train, y_train, epochs = 13, batch_size=32, verbose = 1, shuffle=True)\n",
    "et = time.process_time()\n",
    "res = et - st\n",
    "print('Execution time:', et - st, 'seconds')"
   ]
  },
  {
   "cell_type": "code",
   "execution_count": 119,
   "metadata": {
    "execution": {
     "iopub.execute_input": "2023-08-05T19:05:57.585821Z",
     "iopub.status.busy": "2023-08-05T19:05:57.585448Z",
     "iopub.status.idle": "2023-08-05T19:05:58.539124Z",
     "shell.execute_reply": "2023-08-05T19:05:58.538079Z",
     "shell.execute_reply.started": "2023-08-05T19:05:57.585786Z"
    }
   },
   "outputs": [
    {
     "name": "stdout",
     "output_type": "stream",
     "text": [
      "102/102 [==============================] - 1s 6ms/step\n"
     ]
    }
   ],
   "source": [
    "LSTM_predictions = LSTM_model.predict(X_test)\n",
    "LSTM_pred_binary = np.apply_along_axis(assign_binary_class, 1, LSTM_predictions)"
   ]
  },
  {
   "cell_type": "code",
   "execution_count": 120,
   "metadata": {
    "execution": {
     "iopub.execute_input": "2023-08-05T19:06:02.403177Z",
     "iopub.status.busy": "2023-08-05T19:06:02.402813Z",
     "iopub.status.idle": "2023-08-05T19:06:02.409155Z",
     "shell.execute_reply": "2023-08-05T19:06:02.408073Z",
     "shell.execute_reply.started": "2023-08-05T19:06:02.403146Z"
    }
   },
   "outputs": [],
   "source": [
    "LSTM_submission = submission_df.copy()\n",
    "LSTM_submission[\"target\"] = LSTM_pred_binary"
   ]
  },
  {
   "cell_type": "code",
   "execution_count": 121,
   "metadata": {
    "execution": {
     "iopub.execute_input": "2023-08-05T19:06:12.612002Z",
     "iopub.status.busy": "2023-08-05T19:06:12.611631Z",
     "iopub.status.idle": "2023-08-05T19:06:12.626056Z",
     "shell.execute_reply": "2023-08-05T19:06:12.625013Z",
     "shell.execute_reply.started": "2023-08-05T19:06:12.611974Z"
    }
   },
   "outputs": [],
   "source": [
    "LSTM_submission.to_csv('/kaggle/working/LSTM_submission.csv', index=False)"
   ]
  },
  {
   "attachments": {
    "3e33e728-1264-4d17-a8ee-a1b0759396ef.png": {
     "image/png": "[encoded data removed]"
    }
   },
   "cell_type": "markdown",
   "metadata": {},
   "source": [
    "![image.png](attachment:3e33e728-1264-4d17-a8ee-a1b0759396ef.png)"
   ]
  },
  {
   "cell_type": "markdown",
   "metadata": {},
   "source": [
    "The result is higher than the SimpleRNN model, but not as high as I hoped for.  I was hoping for an accuracy of about .8.  Next I will turn to the GRU model."
   ]
  },
  {
   "cell_type": "markdown",
   "metadata": {},
   "source": [
    "# GRU (Gated Recurrent Unit)\n",
    "\n",
    "Gated Recurring Units have some similarities with LSTM; however, they strip out some of the weights in order to simplify it. This results in fewer parameters, but it may also result in poorer performance.  We will undertake the same tuning process as the other models to find good performance.  \n",
    "\n",
    "We will begin by searching for the optimal number of units in the GRU layer."
   ]
  },
  {
   "cell_type": "code",
   "execution_count": 38,
   "metadata": {
    "execution": {
     "iopub.execute_input": "2023-08-05T15:10:30.429088Z",
     "iopub.status.busy": "2023-08-05T15:10:30.428700Z",
     "iopub.status.idle": "2023-08-05T15:10:30.436328Z",
     "shell.execute_reply": "2023-08-05T15:10:30.435118Z",
     "shell.execute_reply.started": "2023-08-05T15:10:30.429057Z"
    }
   },
   "outputs": [],
   "source": [
    "def create_GRU(units):\n",
    "    model = Sequential()\n",
    "    model.add(GRU(units=units, input_shape=(19,1)))\n",
    "    model.add(Dense(1, activation='sigmoid'))\n",
    "    model.compile(loss='binary_crossentropy', metrics=[\"accuracy\", tf.keras.metrics.Precision(),tf.keras.metrics.Recall(),tf.keras.metrics.AUC(),tf.keras.metrics.BinaryAccuracy()])\n",
    "    return model"
   ]
  },
  {
   "cell_type": "code",
   "execution_count": 40,
   "metadata": {
    "execution": {
     "iopub.execute_input": "2023-08-05T15:10:49.177684Z",
     "iopub.status.busy": "2023-08-05T15:10:49.177274Z",
     "iopub.status.idle": "2023-08-05T15:12:36.573854Z",
     "shell.execute_reply": "2023-08-05T15:12:36.572806Z",
     "shell.execute_reply.started": "2023-08-05T15:10:49.177650Z"
    }
   },
   "outputs": [],
   "source": [
    "GRU_model = KerasClassifier(model=create_GRU, optimizer=\"Adam\", batch_size=32, epochs = 3, verbose=0)\n",
    "param_grid = dict(model__units=[32, 64, 128, 256, 512])\n",
    "grid = GridSearchCV(estimator=GRU_model, param_grid=param_grid, cv=3)\n",
    "grid_result = grid.fit(X_train, y_train)"
   ]
  },
  {
   "cell_type": "code",
   "execution_count": 41,
   "metadata": {
    "execution": {
     "iopub.execute_input": "2023-08-05T15:12:49.525622Z",
     "iopub.status.busy": "2023-08-05T15:12:49.524507Z",
     "iopub.status.idle": "2023-08-05T15:12:49.532054Z",
     "shell.execute_reply": "2023-08-05T15:12:49.530895Z",
     "shell.execute_reply.started": "2023-08-05T15:12:49.525574Z"
    }
   },
   "outputs": [
    {
     "name": "stdout",
     "output_type": "stream",
     "text": [
      "{'model__units': 32}\n",
      "0.5876795426635105\n"
     ]
    }
   ],
   "source": [
    "print(grid_result.best_params_)\n",
    "print(grid_result.best_score_)"
   ]
  },
  {
   "cell_type": "markdown",
   "metadata": {},
   "source": [
    "This found that 32 units works best for our data.  We will now check the output parameter for the embedding layer.  As see in the previous models, I expect that the Embedding layer, which reduces the dimensionality of the token dictionary, will improve our performance quite a bit."
   ]
  },
  {
   "cell_type": "code",
   "execution_count": 42,
   "metadata": {
    "execution": {
     "iopub.execute_input": "2023-08-05T15:14:10.636754Z",
     "iopub.status.busy": "2023-08-05T15:14:10.636165Z",
     "iopub.status.idle": "2023-08-05T15:14:10.644130Z",
     "shell.execute_reply": "2023-08-05T15:14:10.642860Z",
     "shell.execute_reply.started": "2023-08-05T15:14:10.636709Z"
    }
   },
   "outputs": [],
   "source": [
    "def create_GRU(output_dim):\n",
    "    model = Sequential()\n",
    "    model.add(Embedding(3000, output_dim=output_dim, input_length = 19))\n",
    "    model.add(GRU(units=32))\n",
    "    model.add(Dense(1, activation='sigmoid'))\n",
    "    model.compile(loss='binary_crossentropy', metrics=[\"accuracy\", tf.keras.metrics.Precision(),tf.keras.metrics.Recall(),tf.keras.metrics.AUC(),tf.keras.metrics.BinaryAccuracy()])\n",
    "    return model"
   ]
  },
  {
   "cell_type": "code",
   "execution_count": 43,
   "metadata": {
    "execution": {
     "iopub.execute_input": "2023-08-05T15:14:14.621875Z",
     "iopub.status.busy": "2023-08-05T15:14:14.621154Z",
     "iopub.status.idle": "2023-08-05T15:19:23.445230Z",
     "shell.execute_reply": "2023-08-05T15:19:23.444178Z",
     "shell.execute_reply.started": "2023-08-05T15:14:14.621832Z"
    }
   },
   "outputs": [],
   "source": [
    "GRU_model = KerasClassifier(model=create_GRU, optimizer=\"Adam\", batch_size=32, epochs = 3, verbose=0)\n",
    "param_grid = dict(model__output_dim=[32, 64, 128, 256, 512])\n",
    "grid = GridSearchCV(estimator=GRU_model, param_grid=param_grid, cv=3)\n",
    "grid_result = grid.fit(X_train, y_train)"
   ]
  },
  {
   "cell_type": "code",
   "execution_count": 44,
   "metadata": {
    "execution": {
     "iopub.execute_input": "2023-08-05T15:20:19.709636Z",
     "iopub.status.busy": "2023-08-05T15:20:19.709211Z",
     "iopub.status.idle": "2023-08-05T15:20:19.715449Z",
     "shell.execute_reply": "2023-08-05T15:20:19.714494Z",
     "shell.execute_reply.started": "2023-08-05T15:20:19.709603Z"
    }
   },
   "outputs": [
    {
     "name": "stdout",
     "output_type": "stream",
     "text": [
      "{'model__output_dim': 32}\n",
      "0.725077520932904\n"
     ]
    }
   ],
   "source": [
    "print(grid_result.best_params_)\n",
    "print(grid_result.best_score_)"
   ]
  },
  {
   "cell_type": "markdown",
   "metadata": {},
   "source": [
    "The embedding layer does improve the model by about 15%.  I also want to check whether running the GRU layer in both directions (instead of just forward feed) can help bring about better results.  "
   ]
  },
  {
   "cell_type": "code",
   "execution_count": 45,
   "metadata": {
    "execution": {
     "iopub.execute_input": "2023-08-05T15:20:35.000024Z",
     "iopub.status.busy": "2023-08-05T15:20:34.999648Z",
     "iopub.status.idle": "2023-08-05T15:20:35.007277Z",
     "shell.execute_reply": "2023-08-05T15:20:35.006227Z",
     "shell.execute_reply.started": "2023-08-05T15:20:34.999992Z"
    }
   },
   "outputs": [],
   "source": [
    "def create_GRU(output_dim):\n",
    "    model = Sequential()\n",
    "    model.add(Embedding(3000, output_dim=output_dim, input_length = 19))\n",
    "    model.add(Bidirectional(GRU(32)))\n",
    "    model.add(Dense(1, activation='sigmoid'))\n",
    "    model.compile(loss='binary_crossentropy', metrics=[\"accuracy\", tf.keras.metrics.Precision(),tf.keras.metrics.Recall(),tf.keras.metrics.AUC(),tf.keras.metrics.BinaryAccuracy()])\n",
    "    return model"
   ]
  },
  {
   "cell_type": "code",
   "execution_count": 46,
   "metadata": {
    "execution": {
     "iopub.execute_input": "2023-08-05T15:20:39.174717Z",
     "iopub.status.busy": "2023-08-05T15:20:39.174301Z",
     "iopub.status.idle": "2023-08-05T15:26:37.783904Z",
     "shell.execute_reply": "2023-08-05T15:26:37.782760Z",
     "shell.execute_reply.started": "2023-08-05T15:20:39.174681Z"
    }
   },
   "outputs": [],
   "source": [
    "GRU_model = KerasClassifier(model=create_GRU, optimizer=\"Adam\", batch_size=32, epochs = 3, verbose=0)\n",
    "param_grid = dict(model__output_dim=[32, 64, 128, 256, 512])\n",
    "grid = GridSearchCV(estimator=GRU_model, param_grid=param_grid, cv=3)\n",
    "grid_result = grid.fit(X_train, y_train)"
   ]
  },
  {
   "cell_type": "code",
   "execution_count": 47,
   "metadata": {
    "execution": {
     "iopub.execute_input": "2023-08-05T15:27:11.141622Z",
     "iopub.status.busy": "2023-08-05T15:27:11.141205Z",
     "iopub.status.idle": "2023-08-05T15:27:11.149384Z",
     "shell.execute_reply": "2023-08-05T15:27:11.148193Z",
     "shell.execute_reply.started": "2023-08-05T15:27:11.141589Z"
    }
   },
   "outputs": [
    {
     "name": "stdout",
     "output_type": "stream",
     "text": [
      "{'model__output_dim': 32}\n",
      "0.7317770026978704\n"
     ]
    }
   ],
   "source": [
    "print(grid_result.best_params_)\n",
    "print(grid_result.best_score_)"
   ]
  },
  {
   "cell_type": "markdown",
   "metadata": {},
   "source": [
    "Yes, there was a marginal performance boost by adding the Bidirectional GRU.  Next I want to see whether additional GRU layers will help."
   ]
  },
  {
   "cell_type": "code",
   "execution_count": 50,
   "metadata": {
    "execution": {
     "iopub.execute_input": "2023-08-05T15:30:01.860302Z",
     "iopub.status.busy": "2023-08-05T15:30:01.859898Z",
     "iopub.status.idle": "2023-08-05T15:30:01.868252Z",
     "shell.execute_reply": "2023-08-05T15:30:01.866885Z",
     "shell.execute_reply.started": "2023-08-05T15:30:01.860270Z"
    }
   },
   "outputs": [],
   "source": [
    "def create_GRU(units):\n",
    "    model = Sequential()\n",
    "    model.add(Embedding(3000, output_dim=32, input_length = 19))\n",
    "    model.add(Bidirectional(GRU(32,return_sequences=True)))\n",
    "    model.add(Bidirectional(GRU(units=units)))\n",
    "    model.add(Dense(1, activation='sigmoid'))\n",
    "    model.compile(loss='binary_crossentropy', metrics=[\"accuracy\", tf.keras.metrics.Precision(),tf.keras.metrics.Recall(),tf.keras.metrics.AUC(),tf.keras.metrics.BinaryAccuracy()])\n",
    "    return model"
   ]
  },
  {
   "cell_type": "code",
   "execution_count": 51,
   "metadata": {
    "execution": {
     "iopub.execute_input": "2023-08-05T15:30:05.023436Z",
     "iopub.status.busy": "2023-08-05T15:30:05.023063Z",
     "iopub.status.idle": "2023-08-05T15:37:24.155626Z",
     "shell.execute_reply": "2023-08-05T15:37:24.154546Z",
     "shell.execute_reply.started": "2023-08-05T15:30:05.023405Z"
    }
   },
   "outputs": [],
   "source": [
    "GRU_model = KerasClassifier(model=create_GRU, optimizer=\"Adam\", batch_size=32, epochs = 3, verbose=0)\n",
    "param_grid = dict(model__units=[32, 64, 128, 256, 512])\n",
    "grid = GridSearchCV(estimator=GRU_model, param_grid=param_grid, cv=3)\n",
    "grid_result = grid.fit(X_train, y_train)"
   ]
  },
  {
   "cell_type": "code",
   "execution_count": 52,
   "metadata": {
    "execution": {
     "iopub.execute_input": "2023-08-05T15:37:36.979883Z",
     "iopub.status.busy": "2023-08-05T15:37:36.978930Z",
     "iopub.status.idle": "2023-08-05T15:37:36.986725Z",
     "shell.execute_reply": "2023-08-05T15:37:36.985307Z",
     "shell.execute_reply.started": "2023-08-05T15:37:36.979836Z"
    }
   },
   "outputs": [
    {
     "name": "stdout",
     "output_type": "stream",
     "text": [
      "{'model__units': 256}\n",
      "0.7303321920421472\n"
     ]
    }
   ],
   "source": [
    "print(grid_result.best_params_)\n",
    "print(grid_result.best_score_)"
   ]
  },
  {
   "cell_type": "markdown",
   "metadata": {},
   "source": [
    "No further gain was found.  I will next check whether adding the dropout parameters helps."
   ]
  },
  {
   "cell_type": "code",
   "execution_count": null,
   "metadata": {
    "execution": {
     "iopub.execute_input": "2023-08-05T15:38:41.369432Z",
     "iopub.status.busy": "2023-08-05T15:38:41.368253Z",
     "iopub.status.idle": "2023-08-05T15:38:41.376648Z",
     "shell.execute_reply": "2023-08-05T15:38:41.375448Z",
     "shell.execute_reply.started": "2023-08-05T15:38:41.369386Z"
    }
   },
   "outputs": [],
   "source": [
    "def create_GRU(dropout):\n",
    "    model = Sequential()\n",
    "    model.add(Embedding(3000, output_dim=32, input_length = 19))\n",
    "    model.add(Bidirectional(GRU(32,dropout=dropout)))\n",
    "    model.add(Dense(1, activation='sigmoid'))\n",
    "    model.compile(loss='binary_crossentropy', metrics=[\"accuracy\", tf.keras.metrics.Precision(),tf.keras.metrics.Recall(),tf.keras.metrics.AUC(),tf.keras.metrics.BinaryAccuracy()])\n",
    "    return model"
   ]
  },
  {
   "cell_type": "code",
   "execution_count": 56,
   "metadata": {
    "execution": {
     "iopub.execute_input": "2023-08-05T15:38:44.880911Z",
     "iopub.status.busy": "2023-08-05T15:38:44.880190Z",
     "iopub.status.idle": "2023-08-05T15:44:35.182628Z",
     "shell.execute_reply": "2023-08-05T15:44:35.181560Z",
     "shell.execute_reply.started": "2023-08-05T15:38:44.880875Z"
    }
   },
   "outputs": [],
   "source": [
    "GRU_model = KerasClassifier(model=create_GRU, optimizer=\"Adam\", batch_size=32, epochs = 3, verbose=0)\n",
    "param_grid = dict(model__dropout=[.1, .2, .3, .4, .5])\n",
    "grid = GridSearchCV(estimator=GRU_model, param_grid=param_grid, cv=3)\n",
    "grid_result = grid.fit(X_train, y_train)"
   ]
  },
  {
   "cell_type": "code",
   "execution_count": 57,
   "metadata": {
    "execution": {
     "iopub.execute_input": "2023-08-05T15:44:53.680293Z",
     "iopub.status.busy": "2023-08-05T15:44:53.679025Z",
     "iopub.status.idle": "2023-08-05T15:44:53.686833Z",
     "shell.execute_reply": "2023-08-05T15:44:53.685436Z",
     "shell.execute_reply.started": "2023-08-05T15:44:53.680238Z"
    }
   },
   "outputs": [
    {
     "name": "stdout",
     "output_type": "stream",
     "text": [
      "{'model__dropout': 0.3}\n",
      "0.7347995140789445\n"
     ]
    }
   ],
   "source": [
    "print(grid_result.best_params_)\n",
    "print(grid_result.best_score_)"
   ]
  },
  {
   "cell_type": "markdown",
   "metadata": {},
   "source": [
    "Yes, a dropout of .3 does help.  Now let's see whether we have smooth training by looking at performance at each epoch.  I have lowered the learning rate in the expectation that we will need smaller steps to prevent jumpy gains/losses"
   ]
  },
  {
   "cell_type": "code",
   "execution_count": 34,
   "metadata": {
    "execution": {
     "iopub.execute_input": "2023-08-05T16:46:16.551376Z",
     "iopub.status.busy": "2023-08-05T16:46:16.550974Z",
     "iopub.status.idle": "2023-08-05T16:46:17.037375Z",
     "shell.execute_reply": "2023-08-05T16:46:17.036572Z",
     "shell.execute_reply.started": "2023-08-05T16:46:16.551343Z"
    }
   },
   "outputs": [
    {
     "name": "stdout",
     "output_type": "stream",
     "text": [
      "Model: \"sequential_31\"\n",
      "_________________________________________________________________\n",
      " Layer (type)                Output Shape              Param #   \n",
      "=================================================================\n",
      " embedding_31 (Embedding)    (None, 19, 32)            96000     \n",
      "                                                                 \n",
      " bidirectional_30 (Bidirecti  (None, 64)               12672     \n",
      " onal)                                                           \n",
      "                                                                 \n",
      " dense_31 (Dense)            (None, 1)                 65        \n",
      "                                                                 \n",
      "=================================================================\n",
      "Total params: 108,737\n",
      "Trainable params: 108,737\n",
      "Non-trainable params: 0\n",
      "_________________________________________________________________\n"
     ]
    }
   ],
   "source": [
    "optimizer = keras.optimizers.Adam(lr=0.00005)\n",
    "GRU_model = Sequential()\n",
    "GRU_model.add(Embedding(3000, output_dim=32, input_length = 19))\n",
    "GRU_model.add(Bidirectional(GRU(32, dropout=.3)))\n",
    "GRU_model.add(Dense(1, activation='sigmoid'))\n",
    "GRU_model.compile(loss='binary_crossentropy', optimizer=optimizer, metrics=[\"accuracy\", tf.keras.metrics.Precision(),tf.keras.metrics.Recall(),tf.keras.metrics.AUC(),tf.keras.metrics.BinaryAccuracy()])\n",
    "GRU_model.summary()"
   ]
  },
  {
   "cell_type": "code",
   "execution_count": 35,
   "metadata": {
    "execution": {
     "iopub.execute_input": "2023-08-05T16:46:21.068866Z",
     "iopub.status.busy": "2023-08-05T16:46:21.068487Z",
     "iopub.status.idle": "2023-08-05T16:47:22.450373Z",
     "shell.execute_reply": "2023-08-05T16:47:22.449359Z",
     "shell.execute_reply.started": "2023-08-05T16:46:21.068837Z"
    }
   },
   "outputs": [
    {
     "name": "stdout",
     "output_type": "stream",
     "text": [
      "Epoch 1/20\n",
      "191/191 [==============================] - 25s 115ms/step - loss: 0.6863 - accuracy: 0.5757 - precision_31: 0.4647 - recall_31: 0.0566 - auc_31: 0.5287 - binary_accuracy: 0.5757 - val_loss: 0.6884 - val_accuracy: 0.5345 - val_precision_31: 0.0000e+00 - val_recall_31: 0.0000e+00 - val_auc_31: 0.6402 - val_binary_accuracy: 0.5345\n",
      "Epoch 2/20\n",
      "191/191 [==============================] - 2s 10ms/step - loss: 0.6781 - accuracy: 0.5793 - precision_31: 0.0000e+00 - recall_31: 0.0000e+00 - auc_31: 0.5988 - binary_accuracy: 0.5793 - val_loss: 0.6878 - val_accuracy: 0.5345 - val_precision_31: 0.0000e+00 - val_recall_31: 0.0000e+00 - val_auc_31: 0.6939 - val_binary_accuracy: 0.5345\n",
      "Epoch 3/20\n",
      "191/191 [==============================] - 2s 10ms/step - loss: 0.6732 - accuracy: 0.5793 - precision_31: 0.0000e+00 - recall_31: 0.0000e+00 - auc_31: 0.6861 - binary_accuracy: 0.5793 - val_loss: 0.6845 - val_accuracy: 0.5345 - val_precision_31: 0.0000e+00 - val_recall_31: 0.0000e+00 - val_auc_31: 0.7435 - val_binary_accuracy: 0.5345\n",
      "Epoch 4/20\n",
      "191/191 [==============================] - 2s 11ms/step - loss: 0.6652 - accuracy: 0.5793 - precision_31: 0.0000e+00 - recall_31: 0.0000e+00 - auc_31: 0.7547 - binary_accuracy: 0.5793 - val_loss: 0.6766 - val_accuracy: 0.5345 - val_precision_31: 0.0000e+00 - val_recall_31: 0.0000e+00 - val_auc_31: 0.7683 - val_binary_accuracy: 0.5345\n",
      "Epoch 5/20\n",
      "191/191 [==============================] - 2s 10ms/step - loss: 0.6503 - accuracy: 0.5806 - precision_31: 1.0000 - recall_31: 0.0031 - auc_31: 0.7771 - binary_accuracy: 0.5806 - val_loss: 0.6604 - val_accuracy: 0.5450 - val_precision_31: 1.0000 - val_recall_31: 0.0226 - val_auc_31: 0.7814 - val_binary_accuracy: 0.5450\n",
      "Epoch 6/20\n",
      "191/191 [==============================] - 2s 10ms/step - loss: 0.6261 - accuracy: 0.6274 - precision_31: 0.9803 - recall_31: 0.1167 - auc_31: 0.7901 - binary_accuracy: 0.6274 - val_loss: 0.6341 - val_accuracy: 0.6257 - val_precision_31: 0.9929 - val_recall_31: 0.1975 - val_auc_31: 0.7925 - val_binary_accuracy: 0.6257\n",
      "Epoch 7/20\n",
      "191/191 [==============================] - 2s 10ms/step - loss: 0.5932 - accuracy: 0.7038 - precision_31: 0.9387 - recall_31: 0.3165 - auc_31: 0.8100 - binary_accuracy: 0.7038 - val_loss: 0.6054 - val_accuracy: 0.7006 - val_precision_31: 0.9439 - val_recall_31: 0.3794 - val_auc_31: 0.8017 - val_binary_accuracy: 0.7006\n",
      "Epoch 8/20\n",
      "191/191 [==============================] - 2s 9ms/step - loss: 0.5549 - accuracy: 0.7570 - precision_31: 0.8926 - recall_31: 0.4801 - auc_31: 0.8294 - binary_accuracy: 0.7570 - val_loss: 0.5703 - val_accuracy: 0.7479 - val_precision_31: 0.8668 - val_recall_31: 0.5416 - val_auc_31: 0.8203 - val_binary_accuracy: 0.7479\n",
      "Epoch 9/20\n",
      "191/191 [==============================] - 2s 9ms/step - loss: 0.5146 - accuracy: 0.7829 - precision_31: 0.8669 - recall_31: 0.5718 - auc_31: 0.8518 - binary_accuracy: 0.7829 - val_loss: 0.5397 - val_accuracy: 0.7590 - val_precision_31: 0.8577 - val_recall_31: 0.5783 - val_auc_31: 0.8332 - val_binary_accuracy: 0.7590\n",
      "Epoch 10/20\n",
      "191/191 [==============================] - 2s 9ms/step - loss: 0.4785 - accuracy: 0.8013 - precision_31: 0.8517 - recall_31: 0.6390 - auc_31: 0.8688 - binary_accuracy: 0.8013 - val_loss: 0.5133 - val_accuracy: 0.7656 - val_precision_31: 0.8451 - val_recall_31: 0.6079 - val_auc_31: 0.8438 - val_binary_accuracy: 0.7656\n",
      "Epoch 11/20\n",
      "191/191 [==============================] - 2s 10ms/step - loss: 0.4468 - accuracy: 0.8174 - precision_31: 0.8513 - recall_31: 0.6858 - auc_31: 0.8822 - binary_accuracy: 0.8174 - val_loss: 0.4923 - val_accuracy: 0.7800 - val_precision_31: 0.8327 - val_recall_31: 0.6601 - val_auc_31: 0.8514 - val_binary_accuracy: 0.7800\n",
      "Epoch 12/20\n",
      "191/191 [==============================] - 2s 9ms/step - loss: 0.4213 - accuracy: 0.8228 - precision_31: 0.8473 - recall_31: 0.7061 - auc_31: 0.8935 - binary_accuracy: 0.8228 - val_loss: 0.4794 - val_accuracy: 0.7807 - val_precision_31: 0.7971 - val_recall_31: 0.7094 - val_auc_31: 0.8561 - val_binary_accuracy: 0.7807\n",
      "Epoch 13/20\n",
      "191/191 [==============================] - 2s 10ms/step - loss: 0.4052 - accuracy: 0.8300 - precision_31: 0.8386 - recall_31: 0.7381 - auc_31: 0.8986 - binary_accuracy: 0.8300 - val_loss: 0.4693 - val_accuracy: 0.7814 - val_precision_31: 0.8154 - val_recall_31: 0.6855 - val_auc_31: 0.8576 - val_binary_accuracy: 0.7814\n",
      "Epoch 14/20\n",
      "191/191 [==============================] - 2s 11ms/step - loss: 0.3913 - accuracy: 0.8342 - precision_31: 0.8434 - recall_31: 0.7440 - auc_31: 0.9042 - binary_accuracy: 0.8342 - val_loss: 0.4632 - val_accuracy: 0.7840 - val_precision_31: 0.8135 - val_recall_31: 0.6953 - val_auc_31: 0.8587 - val_binary_accuracy: 0.7840\n",
      "Epoch 15/20\n",
      "191/191 [==============================] - 2s 9ms/step - loss: 0.3774 - accuracy: 0.8376 - precision_31: 0.8421 - recall_31: 0.7557 - auc_31: 0.9104 - binary_accuracy: 0.8376 - val_loss: 0.4601 - val_accuracy: 0.7820 - val_precision_31: 0.7809 - val_recall_31: 0.7391 - val_auc_31: 0.8598 - val_binary_accuracy: 0.7820\n",
      "Epoch 16/20\n",
      "191/191 [==============================] - 2s 11ms/step - loss: 0.3688 - accuracy: 0.8427 - precision_31: 0.8424 - recall_31: 0.7701 - auc_31: 0.9135 - binary_accuracy: 0.8427 - val_loss: 0.4570 - val_accuracy: 0.7800 - val_precision_31: 0.7783 - val_recall_31: 0.7377 - val_auc_31: 0.8602 - val_binary_accuracy: 0.7800\n",
      "Epoch 17/20\n",
      "191/191 [==============================] - 2s 9ms/step - loss: 0.3582 - accuracy: 0.8455 - precision_31: 0.8456 - recall_31: 0.7740 - auc_31: 0.9185 - binary_accuracy: 0.8455 - val_loss: 0.4550 - val_accuracy: 0.7840 - val_precision_31: 0.7960 - val_recall_31: 0.7207 - val_auc_31: 0.8604 - val_binary_accuracy: 0.7840\n",
      "Epoch 18/20\n",
      "191/191 [==============================] - 2s 10ms/step - loss: 0.3550 - accuracy: 0.8473 - precision_31: 0.8487 - recall_31: 0.7752 - auc_31: 0.9193 - binary_accuracy: 0.8473 - val_loss: 0.4543 - val_accuracy: 0.7820 - val_precision_31: 0.7860 - val_recall_31: 0.7306 - val_auc_31: 0.8604 - val_binary_accuracy: 0.7820\n",
      "Epoch 19/20\n",
      "191/191 [==============================] - 2s 9ms/step - loss: 0.3450 - accuracy: 0.8507 - precision_31: 0.8498 - recall_31: 0.7838 - auc_31: 0.9242 - binary_accuracy: 0.8507 - val_loss: 0.4542 - val_accuracy: 0.7794 - val_precision_31: 0.7739 - val_recall_31: 0.7433 - val_auc_31: 0.8605 - val_binary_accuracy: 0.7794\n",
      "Epoch 20/20\n",
      "191/191 [==============================] - 2s 10ms/step - loss: 0.3399 - accuracy: 0.8558 - precision_31: 0.8529 - recall_31: 0.7943 - auc_31: 0.9261 - binary_accuracy: 0.8558 - val_loss: 0.4541 - val_accuracy: 0.7794 - val_precision_31: 0.7830 - val_recall_31: 0.7278 - val_auc_31: 0.8604 - val_binary_accuracy: 0.7794\n",
      "Execution time: 55.97735657199996 seconds\n"
     ]
    }
   ],
   "source": [
    "st = time.process_time()\n",
    "GRU_stats = GRU_model.fit(X_train, y_train, epochs = 20, batch_size=32, verbose = 1, shuffle=True, validation_split=0.2)\n",
    "et = time.process_time()\n",
    "res = et - st\n",
    "print('Execution time:', et - st, 'seconds')"
   ]
  },
  {
   "cell_type": "markdown",
   "metadata": {},
   "source": [
    "Validation accuracy peaked at about .78.  I want to see whether adding the recurring dropout with different values helps at all, so I will run the training again.  "
   ]
  },
  {
   "cell_type": "code",
   "execution_count": 102,
   "metadata": {
    "execution": {
     "iopub.execute_input": "2023-08-05T18:39:57.370136Z",
     "iopub.status.busy": "2023-08-05T18:39:57.369774Z",
     "iopub.status.idle": "2023-08-05T18:39:57.720299Z",
     "shell.execute_reply": "2023-08-05T18:39:57.719491Z",
     "shell.execute_reply.started": "2023-08-05T18:39:57.370107Z"
    }
   },
   "outputs": [
    {
     "name": "stdout",
     "output_type": "stream",
     "text": [
      "Model: \"sequential_50\"\n",
      "_________________________________________________________________\n",
      " Layer (type)                Output Shape              Param #   \n",
      "=================================================================\n",
      " embedding_50 (Embedding)    (None, 19, 32)            96000     \n",
      "                                                                 \n",
      " bidirectional_39 (Bidirecti  (None, 64)               12672     \n",
      " onal)                                                           \n",
      "                                                                 \n",
      " dense_50 (Dense)            (None, 1)                 65        \n",
      "                                                                 \n",
      "=================================================================\n",
      "Total params: 108,737\n",
      "Trainable params: 108,737\n",
      "Non-trainable params: 0\n",
      "_________________________________________________________________\n"
     ]
    }
   ],
   "source": [
    "optimizer = keras.optimizers.Adam(lr=0.0001)\n",
    "GRU_model = Sequential()\n",
    "GRU_model.add(Embedding(3000, output_dim=32, input_length = 19))\n",
    "GRU_model.add(Bidirectional(GRU(32, dropout=.3, recurrent_dropout=.3)))\n",
    "GRU_model.add(Dense(1, activation='sigmoid'))\n",
    "GRU_model.compile(loss='binary_crossentropy', optimizer=optimizer, metrics=[\"accuracy\", tf.keras.metrics.Precision(),tf.keras.metrics.Recall(),tf.keras.metrics.AUC(),tf.keras.metrics.BinaryAccuracy()])\n",
    "GRU_model.summary()"
   ]
  },
  {
   "cell_type": "code",
   "execution_count": 45,
   "metadata": {
    "execution": {
     "iopub.execute_input": "2023-08-05T17:05:35.141360Z",
     "iopub.status.busy": "2023-08-05T17:05:35.140947Z",
     "iopub.status.idle": "2023-08-05T17:16:28.037636Z",
     "shell.execute_reply": "2023-08-05T17:16:28.036685Z",
     "shell.execute_reply.started": "2023-08-05T17:05:35.141326Z"
    }
   },
   "outputs": [
    {
     "name": "stdout",
     "output_type": "stream",
     "text": [
      "Epoch 1/20\n",
      "191/191 [==============================] - 38s 174ms/step - loss: 0.6837 - accuracy: 0.5801 - precision_35: 0.6087 - recall_35: 0.0055 - auc_35: 0.5090 - binary_accuracy: 0.5801 - val_loss: 0.6888 - val_accuracy: 0.5345 - val_precision_35: 0.0000e+00 - val_recall_35: 0.0000e+00 - val_auc_35: 0.6774 - val_binary_accuracy: 0.5345\n",
      "Epoch 2/20\n",
      "191/191 [==============================] - 32s 168ms/step - loss: 0.6732 - accuracy: 0.5793 - precision_35: 0.0000e+00 - recall_35: 0.0000e+00 - auc_35: 0.6666 - binary_accuracy: 0.5793 - val_loss: 0.6832 - val_accuracy: 0.5345 - val_precision_35: 0.0000e+00 - val_recall_35: 0.0000e+00 - val_auc_35: 0.7511 - val_binary_accuracy: 0.5345\n",
      "Epoch 3/20\n",
      "191/191 [==============================] - 32s 168ms/step - loss: 0.6538 - accuracy: 0.5823 - precision_35: 1.0000 - recall_35: 0.0070 - auc_35: 0.7587 - binary_accuracy: 0.5823 - val_loss: 0.6585 - val_accuracy: 0.5417 - val_precision_35: 1.0000 - val_recall_35: 0.0155 - val_auc_35: 0.7791 - val_binary_accuracy: 0.5417\n",
      "Epoch 4/20\n",
      "191/191 [==============================] - 32s 168ms/step - loss: 0.6059 - accuracy: 0.6810 - precision_35: 0.9466 - recall_35: 0.2560 - auc_35: 0.7962 - binary_accuracy: 0.6810 - val_loss: 0.5996 - val_accuracy: 0.7242 - val_precision_35: 0.9288 - val_recall_35: 0.4415 - val_auc_35: 0.8112 - val_binary_accuracy: 0.7242\n",
      "Epoch 5/20\n",
      "191/191 [==============================] - 32s 169ms/step - loss: 0.5330 - accuracy: 0.7749 - precision_35: 0.8696 - recall_35: 0.5468 - auc_35: 0.8410 - binary_accuracy: 0.7749 - val_loss: 0.5347 - val_accuracy: 0.7761 - val_precision_35: 0.8485 - val_recall_35: 0.6319 - val_auc_35: 0.8439 - val_binary_accuracy: 0.7761\n",
      "Epoch 6/20\n",
      "191/191 [==============================] - 33s 175ms/step - loss: 0.4554 - accuracy: 0.8146 - precision_35: 0.8490 - recall_35: 0.6803 - auc_35: 0.8787 - binary_accuracy: 0.8146 - val_loss: 0.4886 - val_accuracy: 0.7919 - val_precision_35: 0.8267 - val_recall_35: 0.6996 - val_auc_35: 0.8586 - val_binary_accuracy: 0.7919\n",
      "Epoch 7/20\n",
      "191/191 [==============================] - 34s 178ms/step - loss: 0.4124 - accuracy: 0.8369 - precision_35: 0.8539 - recall_35: 0.7389 - auc_35: 0.8951 - binary_accuracy: 0.8369 - val_loss: 0.4669 - val_accuracy: 0.7879 - val_precision_35: 0.8217 - val_recall_35: 0.6953 - val_auc_35: 0.8605 - val_binary_accuracy: 0.7879\n",
      "Epoch 8/20\n",
      "191/191 [==============================] - 33s 173ms/step - loss: 0.3890 - accuracy: 0.8378 - precision_35: 0.8467 - recall_35: 0.7502 - auc_35: 0.9037 - binary_accuracy: 0.8378 - val_loss: 0.4644 - val_accuracy: 0.7827 - val_precision_35: 0.7677 - val_recall_35: 0.7645 - val_auc_35: 0.8616 - val_binary_accuracy: 0.7827\n",
      "Epoch 9/20\n",
      "191/191 [==============================] - 34s 177ms/step - loss: 0.3703 - accuracy: 0.8483 - precision_35: 0.8467 - recall_35: 0.7806 - auc_35: 0.9122 - binary_accuracy: 0.8483 - val_loss: 0.4531 - val_accuracy: 0.7951 - val_precision_35: 0.8126 - val_recall_35: 0.7278 - val_auc_35: 0.8618 - val_binary_accuracy: 0.7951\n",
      "Epoch 10/20\n",
      "191/191 [==============================] - 33s 171ms/step - loss: 0.3557 - accuracy: 0.8494 - precision_35: 0.8522 - recall_35: 0.7767 - auc_35: 0.9192 - binary_accuracy: 0.8494 - val_loss: 0.4503 - val_accuracy: 0.7945 - val_precision_35: 0.8267 - val_recall_35: 0.7066 - val_auc_35: 0.8626 - val_binary_accuracy: 0.7945\n",
      "Epoch 11/20\n",
      "191/191 [==============================] - 32s 170ms/step - loss: 0.3462 - accuracy: 0.8532 - precision_35: 0.8534 - recall_35: 0.7861 - auc_35: 0.9222 - binary_accuracy: 0.8532 - val_loss: 0.4527 - val_accuracy: 0.7879 - val_precision_35: 0.7855 - val_recall_35: 0.7489 - val_auc_35: 0.8610 - val_binary_accuracy: 0.7879\n",
      "Epoch 12/20\n",
      "191/191 [==============================] - 32s 167ms/step - loss: 0.3344 - accuracy: 0.8609 - precision_35: 0.8623 - recall_35: 0.7966 - auc_35: 0.9279 - binary_accuracy: 0.8609 - val_loss: 0.4511 - val_accuracy: 0.7919 - val_precision_35: 0.8025 - val_recall_35: 0.7334 - val_auc_35: 0.8613 - val_binary_accuracy: 0.7919\n",
      "Epoch 13/20\n",
      "191/191 [==============================] - 33s 170ms/step - loss: 0.3238 - accuracy: 0.8626 - precision_35: 0.8632 - recall_35: 0.8002 - auc_35: 0.9329 - binary_accuracy: 0.8626 - val_loss: 0.4538 - val_accuracy: 0.7919 - val_precision_35: 0.7988 - val_recall_35: 0.7391 - val_auc_35: 0.8606 - val_binary_accuracy: 0.7919\n",
      "Epoch 14/20\n",
      "191/191 [==============================] - 31s 163ms/step - loss: 0.3167 - accuracy: 0.8688 - precision_35: 0.8693 - recall_35: 0.8099 - auc_35: 0.9355 - binary_accuracy: 0.8688 - val_loss: 0.4591 - val_accuracy: 0.7859 - val_precision_35: 0.7796 - val_recall_35: 0.7532 - val_auc_35: 0.8596 - val_binary_accuracy: 0.7859\n",
      "Epoch 15/20\n",
      "191/191 [==============================] - 32s 165ms/step - loss: 0.3101 - accuracy: 0.8688 - precision_35: 0.8699 - recall_35: 0.8091 - auc_35: 0.9383 - binary_accuracy: 0.8688 - val_loss: 0.4639 - val_accuracy: 0.7833 - val_precision_35: 0.7742 - val_recall_35: 0.7546 - val_auc_35: 0.8584 - val_binary_accuracy: 0.7833\n",
      "Epoch 16/20\n",
      "191/191 [==============================] - 32s 169ms/step - loss: 0.3044 - accuracy: 0.8742 - precision_35: 0.8757 - recall_35: 0.8169 - auc_35: 0.9400 - binary_accuracy: 0.8742 - val_loss: 0.4763 - val_accuracy: 0.7695 - val_precision_35: 0.7399 - val_recall_35: 0.7786 - val_auc_35: 0.8569 - val_binary_accuracy: 0.7695\n",
      "Epoch 17/20\n",
      "191/191 [==============================] - 32s 165ms/step - loss: 0.2989 - accuracy: 0.8783 - precision_35: 0.8802 - recall_35: 0.8228 - auc_35: 0.9421 - binary_accuracy: 0.8783 - val_loss: 0.4724 - val_accuracy: 0.7840 - val_precision_35: 0.7722 - val_recall_35: 0.7602 - val_auc_35: 0.8571 - val_binary_accuracy: 0.7840\n",
      "Epoch 18/20\n",
      "191/191 [==============================] - 32s 167ms/step - loss: 0.2905 - accuracy: 0.8780 - precision_35: 0.8820 - recall_35: 0.8197 - auc_35: 0.9458 - binary_accuracy: 0.8780 - val_loss: 0.4808 - val_accuracy: 0.7774 - val_precision_35: 0.7577 - val_recall_35: 0.7673 - val_auc_35: 0.8559 - val_binary_accuracy: 0.7774\n",
      "Epoch 19/20\n",
      "191/191 [==============================] - 32s 168ms/step - loss: 0.2795 - accuracy: 0.8872 - precision_35: 0.8872 - recall_35: 0.8384 - auc_35: 0.9499 - binary_accuracy: 0.8872 - val_loss: 0.4876 - val_accuracy: 0.7787 - val_precision_35: 0.7605 - val_recall_35: 0.7659 - val_auc_35: 0.8551 - val_binary_accuracy: 0.7787\n",
      "Epoch 20/20\n",
      "191/191 [==============================] - 32s 169ms/step - loss: 0.2774 - accuracy: 0.8878 - precision_35: 0.8897 - recall_35: 0.8372 - auc_35: 0.9504 - binary_accuracy: 0.8878 - val_loss: 0.4957 - val_accuracy: 0.7781 - val_precision_35: 0.7594 - val_recall_35: 0.7659 - val_auc_35: 0.8539 - val_binary_accuracy: 0.7781\n",
      "Execution time: 1096.357349423 seconds\n"
     ]
    }
   ],
   "source": [
    "st = time.process_time()\n",
    "GRU_stats = GRU_model.fit(X_train, y_train, epochs = 20, batch_size=32, verbose = 1, shuffle=True, validation_split=0.2)\n",
    "et = time.process_time()\n",
    "res = et - st\n",
    "print('Execution time:', et - st, 'seconds')"
   ]
  },
  {
   "cell_type": "code",
   "execution_count": 47,
   "metadata": {
    "execution": {
     "iopub.execute_input": "2023-08-05T17:18:38.794628Z",
     "iopub.status.busy": "2023-08-05T17:18:38.794219Z",
     "iopub.status.idle": "2023-08-05T17:18:40.976962Z",
     "shell.execute_reply": "2023-08-05T17:18:40.976257Z",
     "shell.execute_reply.started": "2023-08-05T17:18:38.794599Z"
    }
   },
   "outputs": [
    {
     "data": {
      "image/png": "[encoded data removed]",
      "text/plain": [
       "<Figure size 1500x600 with 12 Axes>"
      ]
     },
     "metadata": {},
     "output_type": "display_data"
    }
   ],
   "source": [
    "visualize_stats(GRU_stats,20)"
   ]
  },
  {
   "cell_type": "markdown",
   "metadata": {},
   "source": [
    "Our model is achieving an accuracy of about .79.  This seems comparable to the LSTM model.  The performance gains are relatively smooth, so I'm happy with the learning rate.  \n",
    "\n",
    "The Validation precision is about .8 while the recall also hits about .8.  The validation AUC is about .85.  \n",
    "\n",
    "|Metric|Training|Validation|\n",
    "|:----|:--------:|:--------:|\n",
    "|Loss | 0.3238 | 0.45 |\n",
    "|Accuracy | 0.8609 | 0.7919 |\n",
    "|Precision | 0.8623 | 0.8025 | \n",
    "|Recall | 0.7966 | 0.7334 |\n",
    "|AUC | 0.9222 | 0.8613 | \n",
    "\n",
    "Since the best validation results came after epoch 12, I will retrain the model with 12 epochs and submit the results to Kaggle."
   ]
  },
  {
   "cell_type": "code",
   "execution_count": 103,
   "metadata": {
    "execution": {
     "iopub.execute_input": "2023-08-05T18:40:06.431910Z",
     "iopub.status.busy": "2023-08-05T18:40:06.431534Z",
     "iopub.status.idle": "2023-08-05T18:48:37.612081Z",
     "shell.execute_reply": "2023-08-05T18:48:37.611316Z",
     "shell.execute_reply.started": "2023-08-05T18:40:06.431880Z"
    }
   },
   "outputs": [
    {
     "name": "stdout",
     "output_type": "stream",
     "text": [
      "Epoch 1/12\n",
      "238/238 [==============================] - 46s 174ms/step - loss: 0.6868 - accuracy: 0.5555 - precision_50: 0.4185 - recall_50: 0.0887 - auc_50: 0.5189 - binary_accuracy: 0.5555\n",
      "Epoch 2/12\n",
      "238/238 [==============================] - 41s 174ms/step - loss: 0.6732 - accuracy: 0.5703 - precision_50: 0.0000e+00 - recall_50: 0.0000e+00 - auc_50: 0.7051 - binary_accuracy: 0.5703\n",
      "Epoch 3/12\n",
      "238/238 [==============================] - 42s 174ms/step - loss: 0.6347 - accuracy: 0.6249 - precision_50: 0.9501 - recall_50: 0.1339 - auc_50: 0.7716 - binary_accuracy: 0.6249\n",
      "Epoch 4/12\n",
      "238/238 [==============================] - 42s 176ms/step - loss: 0.5562 - accuracy: 0.7663 - precision_50: 0.8719 - recall_50: 0.5347 - auc_50: 0.8207 - binary_accuracy: 0.7663\n",
      "Epoch 5/12\n",
      "238/238 [==============================] - 42s 174ms/step - loss: 0.4701 - accuracy: 0.8082 - precision_50: 0.8595 - recall_50: 0.6619 - auc_50: 0.8689 - binary_accuracy: 0.8082\n",
      "Epoch 6/12\n",
      "238/238 [==============================] - 41s 171ms/step - loss: 0.4146 - accuracy: 0.8309 - precision_50: 0.8538 - recall_50: 0.7319 - auc_50: 0.8914 - binary_accuracy: 0.8309\n",
      "Epoch 7/12\n",
      "238/238 [==============================] - 42s 176ms/step - loss: 0.3857 - accuracy: 0.8374 - precision_50: 0.8511 - recall_50: 0.7533 - auc_50: 0.9045 - binary_accuracy: 0.8374\n",
      "Epoch 8/12\n",
      "238/238 [==============================] - 42s 178ms/step - loss: 0.3656 - accuracy: 0.8455 - precision_50: 0.8564 - recall_50: 0.7695 - auc_50: 0.9137 - binary_accuracy: 0.8455\n",
      "Epoch 9/12\n",
      "238/238 [==============================] - 43s 180ms/step - loss: 0.3529 - accuracy: 0.8510 - precision_50: 0.8606 - recall_50: 0.7796 - auc_50: 0.9187 - binary_accuracy: 0.8510\n",
      "Epoch 10/12\n",
      "238/238 [==============================] - 44s 184ms/step - loss: 0.3426 - accuracy: 0.8538 - precision_50: 0.8635 - recall_50: 0.7836 - auc_50: 0.9236 - binary_accuracy: 0.8538\n",
      "Epoch 11/12\n",
      "238/238 [==============================] - 44s 186ms/step - loss: 0.3311 - accuracy: 0.8617 - precision_50: 0.8731 - recall_50: 0.7933 - auc_50: 0.9286 - binary_accuracy: 0.8617\n",
      "Epoch 12/12\n",
      "238/238 [==============================] - 42s 178ms/step - loss: 0.3202 - accuracy: 0.8664 - precision_50: 0.8767 - recall_50: 0.8019 - auc_50: 0.9335 - binary_accuracy: 0.8664\n",
      "Execution time: 859.5298896500008 seconds\n"
     ]
    }
   ],
   "source": [
    "st = time.process_time()\n",
    "GRU_stats = GRU_model.fit(X_train, y_train, epochs = 12, batch_size=32, verbose = 1, shuffle=True)\n",
    "et = time.process_time()\n",
    "res = et - st\n",
    "print('Execution time:', et - st, 'seconds')"
   ]
  },
  {
   "cell_type": "code",
   "execution_count": 104,
   "metadata": {
    "execution": {
     "iopub.execute_input": "2023-08-05T18:48:42.398887Z",
     "iopub.status.busy": "2023-08-05T18:48:42.398504Z",
     "iopub.status.idle": "2023-08-05T18:48:44.446841Z",
     "shell.execute_reply": "2023-08-05T18:48:44.444696Z",
     "shell.execute_reply.started": "2023-08-05T18:48:42.398857Z"
    }
   },
   "outputs": [
    {
     "name": "stdout",
     "output_type": "stream",
     "text": [
      "102/102 [==============================] - 2s 14ms/step\n"
     ]
    }
   ],
   "source": [
    "GRU_predictions = GRU_model.predict(X_test)\n",
    "GRU_pred_binary = np.apply_along_axis(assign_binary_class, 1, GRU_predictions)"
   ]
  },
  {
   "cell_type": "code",
   "execution_count": 108,
   "metadata": {
    "execution": {
     "iopub.execute_input": "2023-08-05T18:51:20.505829Z",
     "iopub.status.busy": "2023-08-05T18:51:20.505421Z",
     "iopub.status.idle": "2023-08-05T18:51:20.514046Z",
     "shell.execute_reply": "2023-08-05T18:51:20.513016Z",
     "shell.execute_reply.started": "2023-08-05T18:51:20.505796Z"
    }
   },
   "outputs": [],
   "source": [
    "GRU_submission = submission_df.copy()\n",
    "GRU_submission[\"target\"] = GRU_pred_binary"
   ]
  },
  {
   "cell_type": "code",
   "execution_count": 109,
   "metadata": {
    "execution": {
     "iopub.execute_input": "2023-08-05T18:51:24.263003Z",
     "iopub.status.busy": "2023-08-05T18:51:24.262632Z",
     "iopub.status.idle": "2023-08-05T18:51:24.277350Z",
     "shell.execute_reply": "2023-08-05T18:51:24.276332Z",
     "shell.execute_reply.started": "2023-08-05T18:51:24.262973Z"
    }
   },
   "outputs": [],
   "source": [
    "GRU_submission.to_csv('/kaggle/working/GRU_submission.csv', index=False)"
   ]
  },
  {
   "attachments": {
    "f7527ecc-3f10-435d-b966-6dd54bdb50b6.png": {
     "image/png": "[encoded data removed]"
    }
   },
   "cell_type": "markdown",
   "metadata": {},
   "source": [
    "![image.png](attachment:f7527ecc-3f10-435d-b966-6dd54bdb50b6.png)"
   ]
  },
  {
   "cell_type": "markdown",
   "metadata": {},
   "source": [
    "# Analysis and Discussion\n",
    "\n",
    "The following table shows a comparison of the 3 models trained during this project:\n",
    "\n",
    "|Metric|SimpleRNN|LSTM|GRU|\n",
    "|:----|:--------:|:--------:|:--------:|\n",
    "|Loss | 0.4929 | 0.460 | 0.45 |\n",
    "|Accuracy | 0.7577 | 0.7925 | 0.7919 |\n",
    "|Precision |  0.7267 | 0.8237 | 0.8025 | \n",
    "|Recall | 0.7687 | 0.7052 | 0.7334 |\n",
    "|AUC | 0.8477 | 0.8585 | 0.8613 | \n",
    "|Kaggle | 0.76984 | 0.78976 | 0.7919 | \n",
    "|Epochs | 30 | 13 | 12 |\n",
    "|Computation Time | 288.3 | 420.5 | 859.5 |\n",
    "|# Parameters | 1,572,993 | 104,353 | 108,737 |\n"
   ]
  },
  {
   "cell_type": "markdown",
   "metadata": {},
   "source": [
    "After the tuning process, both the LSTM and GRU models were very similar.  The only difference was that the GRU had an additional dropout parameter.  The parameters and optimal number of epochs were nearly the same.  However, computation time was twice that of the LSTM for the GRU model, and the GRU model performed slightly better; that that could be accounted for by normal variation.  It is not likely to be a statistically significant difference.  The SimpleRNN model wound up with three times as many parameters due to the larger output dimension for the embedding layer, but it trained the fasted of any of the models.  It also lagged in performance by a points.  The GRU also had the highest validation AUC (.86), while SimpleRNN had the highest Recall.\n",
    "\n",
    "Overall, this classification task proved to be difficult.  Using only the training data that was provided, I was not able to increase model performance above about .79.  However, with the small dataset, this is not a horrible outcome.  Potential options to improve performance are to use a pre-trained model, and then add in additional training for this particular task. This would leverage the existing language proficiency of the pre-trained model to bring about a better result.  \n",
    "\n",
    "A positive outcome of this project was greater familiarity with using gridsearch for neural networks.  I had used gridsearch for assignments in the Supervised and Unsupervised learning courses; however, I had not taken the opportunity to learn how to employ it with neural networks.  In this assignment I learned about how to use wrap my models in a KerasClassifier to then test a variety of parameter values.  A downsize to this approach was that it was necessary to stipulate how many epochs would be needed for the gridsearch.  I did some initial trials to see how many epochs were needed, but it may have made more sense to tune the learning rates first instead of last.  It was difficult to identify the best accuracies when there was not smooth learning.  In fact some of the models initially had the highest performance with the first epoch.  Therefore, looking for performance on the 3rd epoch was actually identifying decreasing performance.  I will need to look into how to better employ gridsearch when the best performance can occur at different epochs.  Also, it was not clear initially which parameters to tune first.  In the SimpleRNN model I probably could had a better tuning process if I began with the embedding layer.  I did not initially realize how much impact that dimensionality reduction would have on the task.  It alone increased performance by 10%.\n",
    "\n",
    "Another positive for this project was the use of cross validation for tuning.  Since the dataset was small, this was especially important.  3-fold cross validation did increase the time needed for parameter selection, though.  Each gridsearch increased in execution time because it was necessary to do everything three times.  I also thought it was good to retrain the models using all of the data prior to making a submission to Kaggle.  However, the increased data might have changed how the models performed.  For instance, I might have been using the wrong number of epochs with all the data compared to 80% of the data.  \n",
    "\n",
    "A question that I have is why the GRU model performed better than the LSTM.  My understanding was that GRU was actually a simplification of LSTM, so I should expect better performance with the LSTM.  This raises the possibility that my tuning process for the GRU was better than for the LSTM.  I might need to go back to see if I can squeeze some additional performance fromthe LSTM model.  \n",
    "\n"
   ]
  },
  {
   "cell_type": "code",
   "execution_count": null,
   "metadata": {},
   "outputs": [],
   "source": []
  },
  {
   "cell_type": "code",
   "execution_count": null,
   "metadata": {},
   "outputs": [],
   "source": []
  }
 ],
 "metadata": {
  "kernelspec": {
   "display_name": "Python 3 (ipykernel)",
   "language": "python",
   "name": "python3"
  },
  "language_info": {
   "codemirror_mode": {
    "name": "ipython",
    "version": 3
   },
   "file_extension": ".py",
   "mimetype": "text/x-python",
   "name": "python",
   "nbconvert_exporter": "python",
   "pygments_lexer": "ipython3",
   "version": "3.10.11"
  }
 },
 "nbformat": 4,
 "nbformat_minor": 4
}
